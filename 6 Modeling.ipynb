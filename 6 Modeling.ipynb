{
 "cells": [
  {
   "cell_type": "markdown",
   "metadata": {},
   "source": [
    "# Modeling"
   ]
  },
  {
   "cell_type": "markdown",
   "metadata": {},
   "source": [
    "In this notebook I take what I learned from the exploratory data analysis and feature engineering stages and use it to help me build machine learning models capable of classifying a transaction as normal or fraudulent. I will first import the data and engineer it. Then I will try out several machine learning models including logistic regression, decision tree, random forest, and K-nearest-neighbors. Along the way I will look at the feature importances to see if I need to make any changes to the engineering process. The modeling process will not include scaling, as the data is most likely already scaled since the source noted the features are a product of principal component analysis. The process will however, include grid searches to hone in on the best hyper-parameters for the models. As for performance metrics, I will use f1-score for the grid search, but my main goal is high recall. The higher the recall score the fewer frauds go undetected. Recall must be balanced with precision, which is equal to the amount of true positives divided by the sum of the amount of true positives and false negatives. essentially the inverse of the rate the model falsely flags normal transactions as fraudulent. My goal is to have recall as high as possible with precision above %20. With the data being only %0.2 frauds, this will mean that I incorrectly flag a transaction as fraud %0.08 of the time."
   ]
  },
  {
   "cell_type": "markdown",
   "metadata": {},
   "source": [
    "### Road Map\n",
    "1) Engineer Data <br>\n",
    "2) Go Through Each Type of Model I Stated<br>\n",
    "3) Examine Results For Each Model<br>"
   ]
  },
  {
   "cell_type": "code",
   "execution_count": 2,
   "metadata": {},
   "outputs": [
    {
     "name": "stderr",
     "output_type": "stream",
     "text": [
      "C:\\Users\\zasz\\Anaconda3\\lib\\site-packages\\dask\\config.py:168: YAMLLoadWarning: calling yaml.load() without Loader=... is deprecated, as the default Loader is unsafe. Please read https://msg.pyyaml.org/load for full details.\n",
      "  data = yaml.load(f.read()) or {}\n",
      "C:\\Users\\zasz\\Anaconda3\\lib\\site-packages\\distributed\\config.py:20: YAMLLoadWarning: calling yaml.load() without Loader=... is deprecated, as the default Loader is unsafe. Please read https://msg.pyyaml.org/load for full details.\n",
      "  defaults = yaml.load(f)\n"
     ]
    }
   ],
   "source": [
    "# import libraries\n",
    "\n",
    "# standard scientific libraries\n",
    "import numpy as np\n",
    "import pandas as pd\n",
    "import matplotlib.pyplot as plt\n",
    "\n",
    "# train-test split for validation set\n",
    "from sklearn.model_selection import StratifiedShuffleSplit\n",
    "\n",
    "# file storage\n",
    "import pickle\n",
    "\n",
    "# import the custom functions I created in feature engineering\n",
    "from custom_functions import slice_feats, resample_data, slice_resample_data\n",
    "\n",
    "# Principal component analysis\n",
    "from sklearn.decomposition import PCA\n",
    "\n",
    "# machine learning models\n",
    "# linear\n",
    "from sklearn.linear_model import LogisticRegression\n",
    "# tree\n",
    "from sklearn.tree import DecisionTreeClassifier\n",
    "# ensemble\n",
    "from sklearn.ensemble import RandomForestClassifier\n",
    "# distance\n",
    "from sklearn.neighbors import KNeighborsClassifier\n",
    "\n",
    "# performance metrics\n",
    "from sklearn.metrics import f1_score, precision_score, recall_score, classification_report\n",
    "\n",
    "# grid search\n",
    "from sklearn.model_selection import GridSearchCV\n",
    "\n",
    "# ignore warnings\n",
    "import warnings\n",
    "warnings.filterwarnings(\"ignore\")"
   ]
  },
  {
   "cell_type": "code",
   "execution_count": 3,
   "metadata": {},
   "outputs": [
    {
     "data": {
      "text/plain": [
       "0    0.998341\n",
       "1    0.001659\n",
       "Name: Class, dtype: float64"
      ]
     },
     "execution_count": 3,
     "metadata": {},
     "output_type": "execute_result"
    }
   ],
   "source": [
    "# load data\n",
    "train = pd.read_csv(\"train.csv\")\n",
    "test = pd.read_csv(\"test.csv\")\n",
    "\n",
    "# create a validation set using stratified shuffle split\n",
    "\n",
    "# instantiate stratified shuffle split\n",
    "sss = StratifiedShuffleSplit(test_size=0.1)\n",
    "\n",
    "# seperate X and y\n",
    "X = train.drop(\"Class\", axis=1)\n",
    "y = train.Class\n",
    "\n",
    "# find indices\n",
    "train_indices, val_indices = next(sss.split(X, y))\n",
    "\n",
    "# create validation set\n",
    "val = train.iloc[val_indices]\n",
    "train = train.iloc[train_indices]\n",
    "\n",
    "\n",
    "# preview value counts\n",
    "val.Class.value_counts(normalize=True)"
   ]
  },
  {
   "cell_type": "code",
   "execution_count": 4,
   "metadata": {},
   "outputs": [
    {
     "data": {
      "text/plain": [
       "0    0.998332\n",
       "1    0.001668\n",
       "Name: Class, dtype: float64"
      ]
     },
     "execution_count": 4,
     "metadata": {},
     "output_type": "execute_result"
    }
   ],
   "source": [
    "train.Class.value_counts(normalize=True)"
   ]
  },
  {
   "cell_type": "markdown",
   "metadata": {},
   "source": [
    "# 1. Engineer Data"
   ]
  },
  {
   "cell_type": "markdown",
   "metadata": {},
   "source": [
    "Now I will engineer the data as I did in the feature engineering stage. I will create two sets of data, one for linear models, and another for tree based models. Although I will try both sets out on each model. The process involves slicing the data down to a smaller amount of features, resampling the data with the NearMiss algorithm, and for the linear models I will perform Principal Component Analysis."
   ]
  },
  {
   "cell_type": "code",
   "execution_count": 5,
   "metadata": {},
   "outputs": [
    {
     "data": {
      "text/plain": [
       "{'linear': ['V9', 'V10', 'V11', 'V12', 'V14', 'V16', 'V17', 'V18'],\n",
       " 'tree': ['V11', 'V12', 'V14', 'V16', 'V18']}"
      ]
     },
     "execution_count": 5,
     "metadata": {},
     "output_type": "execute_result"
    }
   ],
   "source": [
    "# import lists of ideal features which were deturmined\n",
    "# in the feature engineering stage\n",
    "with open(\"feature_engineering_notes.pickle\", \"rb\") as file:\n",
    "    notes = pickle.load(file)\n",
    "    \n",
    "notes"
   ]
  },
  {
   "cell_type": "code",
   "execution_count": 6,
   "metadata": {},
   "outputs": [
    {
     "name": "stderr",
     "output_type": "stream",
     "text": [
      "Using TensorFlow backend.\n"
     ]
    }
   ],
   "source": [
    "# slice and resample data. once for each set:\n",
    "# linear, tree, and linear w/ PCA\n",
    "lin_X_train, lin_y_train = slice_resample_data(train, notes[\"linear\"])\n",
    "tree_X_train, tree_y_train = slice_resample_data(train, notes[\"tree\"])\n",
    "\n",
    "# also set up test and validation data by slicing\n",
    "lin_X_val, lin_y_val = slice_feats(val, notes[\"linear\"])\n",
    "lin_X_test, lin_y_test = slice_feats(test, notes[\"linear\"])\n",
    "\n",
    "tree_X_val, tree_y_val = slice_feats(val, notes[\"tree\"])\n",
    "tree_X_test, tree_y_test = slice_feats(test, notes[\"tree\"])"
   ]
  },
  {
   "cell_type": "code",
   "execution_count": 7,
   "metadata": {},
   "outputs": [],
   "source": [
    "# perform principal component analysis on\n",
    "# the linear data.\n",
    "# make sure to fit to training data and\n",
    "# not to fit to validation and testing data\n",
    "pca = PCA(n_components=3)\n",
    "lin_pca_X_train = pca.fit_transform(lin_X_train)\n",
    "lin_pca_X_val = pca.transform(lin_X_val)\n",
    "lin_pca_X_test = pca.transform(lin_X_test)"
   ]
  },
  {
   "cell_type": "code",
   "execution_count": 31,
   "metadata": {},
   "outputs": [],
   "source": [
    "# put data into a dictionary to help with automation\n",
    "data = {}\n",
    "\n",
    "# linear data\n",
    "data[\"lin\"] = {\n",
    "    \"X_train\":lin_X_train,\n",
    "    \"y_train\":lin_y_train,\n",
    "    \"X_val\":lin_X_val,\n",
    "    \"y_val\":lin_y_val,\n",
    "    \"X_test\":lin_X_test,\n",
    "    \"y_test\":lin_y_test\n",
    "}\n",
    "\n",
    "# tree data\n",
    "data[\"tree\"] = {\n",
    "    \"X_train\":tree_X_train,\n",
    "    \"y_train\":tree_y_train,\n",
    "    \"X_val\":tree_X_val,\n",
    "    \"y_val\":tree_y_val,\n",
    "    \"X_test\":tree_X_test,\n",
    "    \"y_test\":tree_y_test\n",
    "}\n",
    "\n",
    "# linear data w/ PCA\n",
    "data[\"lin_pca\"] = {\n",
    "    \"X_train\":lin_pca_X_train,\n",
    "    \"y_train\":lin_y_train,\n",
    "    \"X_val\":lin_pca_X_val,\n",
    "    \"y_val\":lin_y_val,\n",
    "    \"X_test\":lin_pca_X_test,\n",
    "    \"y_test\":lin_y_test\n",
    "}\n",
    "\n",
    "data[\"original\"] = {\n",
    "    \"X_train\":train.drop(\"Class\", axis=1),\n",
    "    \"y_train\":train.Class,\n",
    "    \"X_val\":val.drop(\"Class\", axis=1),\n",
    "    \"y_val\":val.Class,\n",
    "    \"X_test\":test.drop(\"Class\", axis=1),\n",
    "    \"y_test\":test.Class\n",
    "}"
   ]
  },
  {
   "cell_type": "markdown",
   "metadata": {},
   "source": [
    "# 2. Go Through Each Type of Model"
   ]
  },
  {
   "cell_type": "markdown",
   "metadata": {},
   "source": [
    "For each model I will try out all three types of data (data for linear models, data for tree models, and PCA transformed data for linear models). I will also conduct grid searches to find the optimal hyperparameters for the models.  Finally for each model I will examine the results and see if anything can be improved. <br><br>\n",
    "Again the models I will experiment with are:<br>\n",
    "1) Logistic Regression <br>\n",
    "2) Decision Tree<br>\n",
    "3) Random Forest<br>\n",
    "4) K-Nearest-Neighbors<br>"
   ]
  },
  {
   "cell_type": "markdown",
   "metadata": {},
   "source": [
    "## 2.1 Logistic Regression"
   ]
  },
  {
   "cell_type": "markdown",
   "metadata": {},
   "source": [
    "Logistic Regression works by setting a coefficient for each feature along with a bias (Much like slope and y intercept). It then takes a logorithm to calculate a probability. It then labels the prediction as either 1 or 0 depending on whether the probability meets a certain threshold (default threshold is 0.5). This algorithm is very simple and rather robust to overfitting. The only hyperparameter I will be tuning is the \"C\" value, which is the inverse of the learning rate (a value that deturmines how fast the coefficients are tuned)."
   ]
  },
  {
   "cell_type": "code",
   "execution_count": 43,
   "metadata": {},
   "outputs": [],
   "source": [
    "# create a function for performing a \n",
    "# grid search on each type of data\n",
    "def automated_grid_search(clf, params):\n",
    "    \n",
    "    # iterate over each type of data\n",
    "    for key in [\"lin\", \"lin_pca\", \"tree\"]:\n",
    "        \n",
    "        # fit and predict using a grid search object\n",
    "        \n",
    "        # instantiate grid search with classifier and paramater grid\n",
    "        gscv = GridSearchCV(clf, params, scoring=\"f1\")\n",
    "        \n",
    "        # fit\n",
    "        gscv.fit(data[key][\"X_train\"], data[key][\"y_train\"])\n",
    "\n",
    "        # print key\n",
    "        print(\"\\n\\n\", key, \"\\n\\n\")\n",
    "        \n",
    "        # print training f1-score\n",
    "        print(f\"Training F1-Score: {gscv.best_score_}\")\n",
    "        \n",
    "                \n",
    "        # predict\n",
    "        predictions = gscv.predict(data[key][\"X_val\"])\n",
    "        \n",
    "        # print validation f1-score\n",
    "        score = f1_score(data[key][\"y_val\"], predictions)\n",
    "        print(f\"Validation F1-Score: {score}\")\n",
    "        \n",
    "        # print parameters\n",
    "        print(f\"Best parameters {gscv.best_params_}\\n\\n\")\n",
    "        "
   ]
  },
  {
   "cell_type": "code",
   "execution_count": 12,
   "metadata": {},
   "outputs": [
    {
     "name": "stdout",
     "output_type": "stream",
     "text": [
      "\n",
      "\n",
      " lin \n",
      "\n",
      "\n",
      "Training F1-Score: 0.9277235174383798\n",
      "Validation F1-Score: 0.03580562659846547\n",
      "Best parameters {'C': 10}\n",
      "\n",
      "\n",
      "\n",
      "\n",
      " lin_pca \n",
      "\n",
      "\n",
      "Training F1-Score: 0.9163560064743422\n",
      "Validation F1-Score: 0.2518518518518518\n",
      "Best parameters {'C': 10}\n",
      "\n",
      "\n",
      "\n",
      "\n",
      " tree \n",
      "\n",
      "\n",
      "Training F1-Score: 0.9453142213423674\n",
      "Validation F1-Score: 0.008861214225841218\n",
      "Best parameters {'C': 10}\n",
      "\n",
      "\n"
     ]
    }
   ],
   "source": [
    "# conduct grid searches\n",
    "\n",
    "# create a parameter grid using\n",
    "# \"C\" the inverse of the learning rate\n",
    "linear_params = {\n",
    "    \"C\":[0.1, 1, 10]\n",
    "}\n",
    "\n",
    "# conduct automated grid search\n",
    "# pass in a logistic regression object\n",
    "automated_grid_search(LogisticRegression(), linear_params)"
   ]
  },
  {
   "cell_type": "markdown",
   "metadata": {},
   "source": [
    "It seems that the model is over-fitting a bit with the low \"C\" parameter. I will redo the process with a different parameter grid."
   ]
  },
  {
   "cell_type": "code",
   "execution_count": 15,
   "metadata": {
    "scrolled": true
   },
   "outputs": [
    {
     "name": "stdout",
     "output_type": "stream",
     "text": [
      "\n",
      "\n",
      " lin \n",
      "\n",
      "\n",
      "Training F1-Score: 0.9277235174383798\n",
      "Validation F1-Score: 0.03580562659846547\n",
      "Best parameters {'C': 10}\n",
      "\n",
      "\n",
      "\n",
      "\n",
      " lin_pca \n",
      "\n",
      "\n",
      "Training F1-Score: 0.9163560064743422\n",
      "Validation F1-Score: 0.2518518518518518\n",
      "Best parameters {'C': 10}\n",
      "\n",
      "\n",
      "\n",
      "\n",
      " tree \n",
      "\n",
      "\n",
      "Training F1-Score: 0.9453142213423674\n",
      "Validation F1-Score: 0.008861214225841218\n",
      "Best parameters {'C': 10}\n",
      "\n",
      "\n"
     ]
    }
   ],
   "source": [
    "# set the parameter grid to have higher values\n",
    "linear_params = {\n",
    "    \"C\": [10, 50, 100]\n",
    "}\n",
    "\n",
    "# conduct grid search\n",
    "automated_grid_search(LogisticRegression(), linear_params)"
   ]
  },
  {
   "cell_type": "markdown",
   "metadata": {},
   "source": [
    "Now I will test to see if the model works better on the original data. This will take longer so I won't use a grid search."
   ]
  },
  {
   "cell_type": "code",
   "execution_count": 37,
   "metadata": {},
   "outputs": [
    {
     "name": "stdout",
     "output_type": "stream",
     "text": [
      "              precision    recall  f1-score   support\n",
      "\n",
      "           0       1.00      1.00      1.00     24077\n",
      "           1       0.96      0.55      0.70        40\n",
      "\n",
      "    accuracy                           1.00     24117\n",
      "   macro avg       0.98      0.77      0.85     24117\n",
      "weighted avg       1.00      1.00      1.00     24117\n",
      "\n"
     ]
    }
   ],
   "source": [
    "# instantiate logistic regression object\n",
    "clf = LogisticRegression()\n",
    "\n",
    "# fit\n",
    "clf.fit(data[\"original\"][\"X_train\"], data[\"original\"][\"y_train\"])\n",
    "\n",
    "# predict on validation set\n",
    "predictions = clf.predict(data[\"original\"][\"X_val\"])\n",
    "\n",
    "# print classification report\n",
    "print(classification_report(data[\"original\"][\"y_val\"], predictions))"
   ]
  },
  {
   "cell_type": "markdown",
   "metadata": {},
   "source": [
    "It seemsed the original data did the best. Now I will examine to see if a precision-recall tradeoff could help. I will create a plot to show all the possible recall and precision scores on the validation set if a different probability threshold was used. I will also create a function for automating this plot in the future."
   ]
  },
  {
   "cell_type": "code",
   "execution_count": 38,
   "metadata": {},
   "outputs": [],
   "source": [
    "# create a set of functions for plotting the precision recall tradeoff\n",
    "\n",
    "\n",
    "# function to plot precision-recall tradeoff using the validation set\n",
    "# takes in a classifier and\n",
    "# the form of the data: i.e. lin, tree, lin_pca,\n",
    "def precision_recall_tradeoff_plot(clf, data_form):\n",
    "    \"\"\"\n",
    "    function to plot precision-recall tradeoff using the validation set\n",
    "    takes in a classifier and the form of the data. \n",
    "    eligible values: lin, tree, lin_pca,\n",
    "    \"\"\"\n",
    "    # generate 100 thesholds between 0 and 1\n",
    "    thresholds = np.linspace(0, 1, 100)\n",
    "    \n",
    "    # create a space to store precision and recall scores\n",
    "    precisions = []\n",
    "    recalls = []\n",
    "    \n",
    "    # fit clf\n",
    "    clf.fit(data[data_form][\"X_train\"], data[data_form][\"y_train\"])\n",
    "    \n",
    "    # get probabilities vector\n",
    "    probabilities = clf.predict_proba(data[data_form][\"X_val\"])[:, 1]\n",
    "    \n",
    "    # iterate over thresholds\n",
    "    for threshold in thresholds:\n",
    "        \n",
    "        # get predictions based on threshold\n",
    "        predictions = [0 if p < threshold else 1 for p in probabilities]\n",
    "        \n",
    "        # get and store precision and recall scores\n",
    "        precisions.append(precision_score(data[data_form][\"y_val\"], predictions))\n",
    "        recalls.append(recall_score(data[data_form][\"y_val\"], predictions))\n",
    "        \n",
    "        \n",
    "    # generate the final plot\n",
    "    plt.figure(figsize=(15, 5))\n",
    "    plt.plot(thresholds, precisions, label=\"precision\")\n",
    "    plt.plot(thresholds, recalls, label=\"recall\")\n",
    "    plt.xlabel(\"threshold\")\n",
    "    plt.ylabel(\"score\")\n",
    "    plt.title(\"precision recall tradeoff\")\n",
    "    plt.axhline(0.2, label=\"%20\", linestyle=\"--\", color=\"green\", alpha=0.3)\n",
    "    plt.legend()\n",
    "    plt.show()"
   ]
  },
  {
   "cell_type": "code",
   "execution_count": 39,
   "metadata": {},
   "outputs": [
    {
     "data": {
      "image/png": "[encoded data removed]",
      "text/plain": [
       "<Figure size 1080x360 with 1 Axes>"
      ]
     },
     "metadata": {
      "needs_background": "light"
     },
     "output_type": "display_data"
    }
   ],
   "source": [
    "# make plot for logistic regression C=10 with linear PCA transformed data\n",
    "\n",
    "# set logistic regression parameters\n",
    "clf = LogisticRegression()\n",
    "\n",
    "# plot\n",
    "precision_recall_tradeoff_plot(clf, \"original\")"
   ]
  },
  {
   "cell_type": "markdown",
   "metadata": {},
   "source": [
    "It seems like the best threshold would be around 0.05. This way I can reach my goal of %20 precision."
   ]
  },
  {
   "cell_type": "markdown",
   "metadata": {},
   "source": [
    "## 2.3 Decision Tree Classifier"
   ]
  },
  {
   "cell_type": "markdown",
   "metadata": {},
   "source": [
    "Decision Trees work by creating a set of questions. These questions branch off into two or more anwers called \"leaves\". Each leaf then has its own question and breaks into more leaves, until a certain depth is reached. The model finds its questions by calculation information gain or \"entropy\". There are two hyper-parameters I will tune for tree based models. One is the max depth, which is the maximum amount of levels allowed in the tree. Lowering this makes the model simpler and can reduce over fitting. The other is minimum leaves per sample, which controls the minimum number of leaves. Increasing this can give the model more potential for learning, but also it can lead to over fitting."
   ]
  },
  {
   "cell_type": "code",
   "execution_count": 32,
   "metadata": {},
   "outputs": [
    {
     "name": "stdout",
     "output_type": "stream",
     "text": [
      "\n",
      "\n",
      " lin \n",
      "\n",
      "\n",
      "Training F1-Score: 0.9252298615193696\n",
      "Validation F1-Score: 0.017604818160759785\n",
      "Best parameters {'max_depth': 4, 'min_samples_leaf': 3}\n",
      "\n",
      "\n",
      "\n",
      "\n",
      " lin_pca \n",
      "\n",
      "\n",
      "Training F1-Score: 0.9328312552169182\n",
      "Validation F1-Score: 0.013112365689309778\n",
      "Best parameters {'max_depth': 3, 'min_samples_leaf': 3}\n",
      "\n",
      "\n",
      "\n",
      "\n",
      " tree \n",
      "\n",
      "\n",
      "Training F1-Score: 0.9502754074986034\n",
      "Validation F1-Score: 0.005711279777560682\n",
      "Best parameters {'max_depth': 2, 'min_samples_leaf': 2}\n",
      "\n",
      "\n"
     ]
    },
    {
     "ename": "KeyboardInterrupt",
     "evalue": "",
     "output_type": "error",
     "traceback": [
      "\u001b[1;31m---------------------------------------------------------------------------\u001b[0m",
      "\u001b[1;31mKeyboardInterrupt\u001b[0m                         Traceback (most recent call last)",
      "\u001b[1;32m<ipython-input-32-969edb8aaec9>\u001b[0m in \u001b[0;36m<module>\u001b[1;34m\u001b[0m\n\u001b[0;32m      6\u001b[0m \u001b[1;33m\u001b[0m\u001b[0m\n\u001b[0;32m      7\u001b[0m \u001b[1;31m# conduct grid search\u001b[0m\u001b[1;33m\u001b[0m\u001b[1;33m\u001b[0m\u001b[1;33m\u001b[0m\u001b[0m\n\u001b[1;32m----> 8\u001b[1;33m \u001b[0mautomated_grid_search\u001b[0m\u001b[1;33m(\u001b[0m\u001b[0mDecisionTreeClassifier\u001b[0m\u001b[1;33m(\u001b[0m\u001b[1;33m)\u001b[0m\u001b[1;33m,\u001b[0m \u001b[0mtree_params\u001b[0m\u001b[1;33m)\u001b[0m\u001b[1;33m\u001b[0m\u001b[1;33m\u001b[0m\u001b[0m\n\u001b[0m",
      "\u001b[1;32m<ipython-input-29-7e90870c4fe8>\u001b[0m in \u001b[0;36mautomated_grid_search\u001b[1;34m(clf, params)\u001b[0m\n\u001b[0;32m     12\u001b[0m \u001b[1;33m\u001b[0m\u001b[0m\n\u001b[0;32m     13\u001b[0m         \u001b[1;31m# fit\u001b[0m\u001b[1;33m\u001b[0m\u001b[1;33m\u001b[0m\u001b[1;33m\u001b[0m\u001b[0m\n\u001b[1;32m---> 14\u001b[1;33m         \u001b[0mgscv\u001b[0m\u001b[1;33m.\u001b[0m\u001b[0mfit\u001b[0m\u001b[1;33m(\u001b[0m\u001b[0mdata\u001b[0m\u001b[1;33m[\u001b[0m\u001b[0mkey\u001b[0m\u001b[1;33m]\u001b[0m\u001b[1;33m[\u001b[0m\u001b[1;34m\"X_train\"\u001b[0m\u001b[1;33m]\u001b[0m\u001b[1;33m,\u001b[0m \u001b[0mdata\u001b[0m\u001b[1;33m[\u001b[0m\u001b[0mkey\u001b[0m\u001b[1;33m]\u001b[0m\u001b[1;33m[\u001b[0m\u001b[1;34m\"y_train\"\u001b[0m\u001b[1;33m]\u001b[0m\u001b[1;33m)\u001b[0m\u001b[1;33m\u001b[0m\u001b[1;33m\u001b[0m\u001b[0m\n\u001b[0m\u001b[0;32m     15\u001b[0m \u001b[1;33m\u001b[0m\u001b[0m\n\u001b[0;32m     16\u001b[0m         \u001b[1;31m# print key\u001b[0m\u001b[1;33m\u001b[0m\u001b[1;33m\u001b[0m\u001b[1;33m\u001b[0m\u001b[0m\n",
      "\u001b[1;32m~\\Anaconda3\\lib\\site-packages\\sklearn\\model_selection\\_search.py\u001b[0m in \u001b[0;36mfit\u001b[1;34m(self, X, y, groups, **fit_params)\u001b[0m\n\u001b[0;32m    686\u001b[0m                 \u001b[1;32mreturn\u001b[0m \u001b[0mresults\u001b[0m\u001b[1;33m\u001b[0m\u001b[1;33m\u001b[0m\u001b[0m\n\u001b[0;32m    687\u001b[0m \u001b[1;33m\u001b[0m\u001b[0m\n\u001b[1;32m--> 688\u001b[1;33m             \u001b[0mself\u001b[0m\u001b[1;33m.\u001b[0m\u001b[0m_run_search\u001b[0m\u001b[1;33m(\u001b[0m\u001b[0mevaluate_candidates\u001b[0m\u001b[1;33m)\u001b[0m\u001b[1;33m\u001b[0m\u001b[1;33m\u001b[0m\u001b[0m\n\u001b[0m\u001b[0;32m    689\u001b[0m \u001b[1;33m\u001b[0m\u001b[0m\n\u001b[0;32m    690\u001b[0m         \u001b[1;31m# For multi-metric evaluation, store the best_index_, best_params_ and\u001b[0m\u001b[1;33m\u001b[0m\u001b[1;33m\u001b[0m\u001b[1;33m\u001b[0m\u001b[0m\n",
      "\u001b[1;32m~\\Anaconda3\\lib\\site-packages\\sklearn\\model_selection\\_search.py\u001b[0m in \u001b[0;36m_run_search\u001b[1;34m(self, evaluate_candidates)\u001b[0m\n\u001b[0;32m   1147\u001b[0m     \u001b[1;32mdef\u001b[0m \u001b[0m_run_search\u001b[0m\u001b[1;33m(\u001b[0m\u001b[0mself\u001b[0m\u001b[1;33m,\u001b[0m \u001b[0mevaluate_candidates\u001b[0m\u001b[1;33m)\u001b[0m\u001b[1;33m:\u001b[0m\u001b[1;33m\u001b[0m\u001b[1;33m\u001b[0m\u001b[0m\n\u001b[0;32m   1148\u001b[0m         \u001b[1;34m\"\"\"Search all candidates in param_grid\"\"\"\u001b[0m\u001b[1;33m\u001b[0m\u001b[1;33m\u001b[0m\u001b[0m\n\u001b[1;32m-> 1149\u001b[1;33m         \u001b[0mevaluate_candidates\u001b[0m\u001b[1;33m(\u001b[0m\u001b[0mParameterGrid\u001b[0m\u001b[1;33m(\u001b[0m\u001b[0mself\u001b[0m\u001b[1;33m.\u001b[0m\u001b[0mparam_grid\u001b[0m\u001b[1;33m)\u001b[0m\u001b[1;33m)\u001b[0m\u001b[1;33m\u001b[0m\u001b[1;33m\u001b[0m\u001b[0m\n\u001b[0m\u001b[0;32m   1150\u001b[0m \u001b[1;33m\u001b[0m\u001b[0m\n\u001b[0;32m   1151\u001b[0m \u001b[1;33m\u001b[0m\u001b[0m\n",
      "\u001b[1;32m~\\Anaconda3\\lib\\site-packages\\sklearn\\model_selection\\_search.py\u001b[0m in \u001b[0;36mevaluate_candidates\u001b[1;34m(candidate_params)\u001b[0m\n\u001b[0;32m    665\u001b[0m                                \u001b[1;32mfor\u001b[0m \u001b[0mparameters\u001b[0m\u001b[1;33m,\u001b[0m \u001b[1;33m(\u001b[0m\u001b[0mtrain\u001b[0m\u001b[1;33m,\u001b[0m \u001b[0mtest\u001b[0m\u001b[1;33m)\u001b[0m\u001b[1;33m\u001b[0m\u001b[1;33m\u001b[0m\u001b[0m\n\u001b[0;32m    666\u001b[0m                                in product(candidate_params,\n\u001b[1;32m--> 667\u001b[1;33m                                           cv.split(X, y, groups)))\n\u001b[0m\u001b[0;32m    668\u001b[0m \u001b[1;33m\u001b[0m\u001b[0m\n\u001b[0;32m    669\u001b[0m                 \u001b[1;32mif\u001b[0m \u001b[0mlen\u001b[0m\u001b[1;33m(\u001b[0m\u001b[0mout\u001b[0m\u001b[1;33m)\u001b[0m \u001b[1;33m<\u001b[0m \u001b[1;36m1\u001b[0m\u001b[1;33m:\u001b[0m\u001b[1;33m\u001b[0m\u001b[1;33m\u001b[0m\u001b[0m\n",
      "\u001b[1;32m~\\Anaconda3\\lib\\site-packages\\joblib\\parallel.py\u001b[0m in \u001b[0;36m__call__\u001b[1;34m(self, iterable)\u001b[0m\n\u001b[0;32m   1004\u001b[0m                 \u001b[0mself\u001b[0m\u001b[1;33m.\u001b[0m\u001b[0m_iterating\u001b[0m \u001b[1;33m=\u001b[0m \u001b[0mself\u001b[0m\u001b[1;33m.\u001b[0m\u001b[0m_original_iterator\u001b[0m \u001b[1;32mis\u001b[0m \u001b[1;32mnot\u001b[0m \u001b[1;32mNone\u001b[0m\u001b[1;33m\u001b[0m\u001b[1;33m\u001b[0m\u001b[0m\n\u001b[0;32m   1005\u001b[0m \u001b[1;33m\u001b[0m\u001b[0m\n\u001b[1;32m-> 1006\u001b[1;33m             \u001b[1;32mwhile\u001b[0m \u001b[0mself\u001b[0m\u001b[1;33m.\u001b[0m\u001b[0mdispatch_one_batch\u001b[0m\u001b[1;33m(\u001b[0m\u001b[0miterator\u001b[0m\u001b[1;33m)\u001b[0m\u001b[1;33m:\u001b[0m\u001b[1;33m\u001b[0m\u001b[1;33m\u001b[0m\u001b[0m\n\u001b[0m\u001b[0;32m   1007\u001b[0m                 \u001b[1;32mpass\u001b[0m\u001b[1;33m\u001b[0m\u001b[1;33m\u001b[0m\u001b[0m\n\u001b[0;32m   1008\u001b[0m \u001b[1;33m\u001b[0m\u001b[0m\n",
      "\u001b[1;32m~\\Anaconda3\\lib\\site-packages\\joblib\\parallel.py\u001b[0m in \u001b[0;36mdispatch_one_batch\u001b[1;34m(self, iterator)\u001b[0m\n\u001b[0;32m    832\u001b[0m                 \u001b[1;32mreturn\u001b[0m \u001b[1;32mFalse\u001b[0m\u001b[1;33m\u001b[0m\u001b[1;33m\u001b[0m\u001b[0m\n\u001b[0;32m    833\u001b[0m             \u001b[1;32melse\u001b[0m\u001b[1;33m:\u001b[0m\u001b[1;33m\u001b[0m\u001b[1;33m\u001b[0m\u001b[0m\n\u001b[1;32m--> 834\u001b[1;33m                 \u001b[0mself\u001b[0m\u001b[1;33m.\u001b[0m\u001b[0m_dispatch\u001b[0m\u001b[1;33m(\u001b[0m\u001b[0mtasks\u001b[0m\u001b[1;33m)\u001b[0m\u001b[1;33m\u001b[0m\u001b[1;33m\u001b[0m\u001b[0m\n\u001b[0m\u001b[0;32m    835\u001b[0m                 \u001b[1;32mreturn\u001b[0m \u001b[1;32mTrue\u001b[0m\u001b[1;33m\u001b[0m\u001b[1;33m\u001b[0m\u001b[0m\n\u001b[0;32m    836\u001b[0m \u001b[1;33m\u001b[0m\u001b[0m\n",
      "\u001b[1;32m~\\Anaconda3\\lib\\site-packages\\joblib\\parallel.py\u001b[0m in \u001b[0;36m_dispatch\u001b[1;34m(self, batch)\u001b[0m\n\u001b[0;32m    751\u001b[0m         \u001b[1;32mwith\u001b[0m \u001b[0mself\u001b[0m\u001b[1;33m.\u001b[0m\u001b[0m_lock\u001b[0m\u001b[1;33m:\u001b[0m\u001b[1;33m\u001b[0m\u001b[1;33m\u001b[0m\u001b[0m\n\u001b[0;32m    752\u001b[0m             \u001b[0mjob_idx\u001b[0m \u001b[1;33m=\u001b[0m \u001b[0mlen\u001b[0m\u001b[1;33m(\u001b[0m\u001b[0mself\u001b[0m\u001b[1;33m.\u001b[0m\u001b[0m_jobs\u001b[0m\u001b[1;33m)\u001b[0m\u001b[1;33m\u001b[0m\u001b[1;33m\u001b[0m\u001b[0m\n\u001b[1;32m--> 753\u001b[1;33m             \u001b[0mjob\u001b[0m \u001b[1;33m=\u001b[0m \u001b[0mself\u001b[0m\u001b[1;33m.\u001b[0m\u001b[0m_backend\u001b[0m\u001b[1;33m.\u001b[0m\u001b[0mapply_async\u001b[0m\u001b[1;33m(\u001b[0m\u001b[0mbatch\u001b[0m\u001b[1;33m,\u001b[0m \u001b[0mcallback\u001b[0m\u001b[1;33m=\u001b[0m\u001b[0mcb\u001b[0m\u001b[1;33m)\u001b[0m\u001b[1;33m\u001b[0m\u001b[1;33m\u001b[0m\u001b[0m\n\u001b[0m\u001b[0;32m    754\u001b[0m             \u001b[1;31m# A job can complete so quickly than its callback is\u001b[0m\u001b[1;33m\u001b[0m\u001b[1;33m\u001b[0m\u001b[1;33m\u001b[0m\u001b[0m\n\u001b[0;32m    755\u001b[0m             \u001b[1;31m# called before we get here, causing self._jobs to\u001b[0m\u001b[1;33m\u001b[0m\u001b[1;33m\u001b[0m\u001b[1;33m\u001b[0m\u001b[0m\n",
      "\u001b[1;32m~\\Anaconda3\\lib\\site-packages\\joblib\\_parallel_backends.py\u001b[0m in \u001b[0;36mapply_async\u001b[1;34m(self, func, callback)\u001b[0m\n\u001b[0;32m    199\u001b[0m     \u001b[1;32mdef\u001b[0m \u001b[0mapply_async\u001b[0m\u001b[1;33m(\u001b[0m\u001b[0mself\u001b[0m\u001b[1;33m,\u001b[0m \u001b[0mfunc\u001b[0m\u001b[1;33m,\u001b[0m \u001b[0mcallback\u001b[0m\u001b[1;33m=\u001b[0m\u001b[1;32mNone\u001b[0m\u001b[1;33m)\u001b[0m\u001b[1;33m:\u001b[0m\u001b[1;33m\u001b[0m\u001b[1;33m\u001b[0m\u001b[0m\n\u001b[0;32m    200\u001b[0m         \u001b[1;34m\"\"\"Schedule a func to be run\"\"\"\u001b[0m\u001b[1;33m\u001b[0m\u001b[1;33m\u001b[0m\u001b[0m\n\u001b[1;32m--> 201\u001b[1;33m         \u001b[0mresult\u001b[0m \u001b[1;33m=\u001b[0m \u001b[0mImmediateResult\u001b[0m\u001b[1;33m(\u001b[0m\u001b[0mfunc\u001b[0m\u001b[1;33m)\u001b[0m\u001b[1;33m\u001b[0m\u001b[1;33m\u001b[0m\u001b[0m\n\u001b[0m\u001b[0;32m    202\u001b[0m         \u001b[1;32mif\u001b[0m \u001b[0mcallback\u001b[0m\u001b[1;33m:\u001b[0m\u001b[1;33m\u001b[0m\u001b[1;33m\u001b[0m\u001b[0m\n\u001b[0;32m    203\u001b[0m             \u001b[0mcallback\u001b[0m\u001b[1;33m(\u001b[0m\u001b[0mresult\u001b[0m\u001b[1;33m)\u001b[0m\u001b[1;33m\u001b[0m\u001b[1;33m\u001b[0m\u001b[0m\n",
      "\u001b[1;32m~\\Anaconda3\\lib\\site-packages\\joblib\\_parallel_backends.py\u001b[0m in \u001b[0;36m__init__\u001b[1;34m(self, batch)\u001b[0m\n\u001b[0;32m    580\u001b[0m         \u001b[1;31m# Don't delay the application, to avoid keeping the input\u001b[0m\u001b[1;33m\u001b[0m\u001b[1;33m\u001b[0m\u001b[1;33m\u001b[0m\u001b[0m\n\u001b[0;32m    581\u001b[0m         \u001b[1;31m# arguments in memory\u001b[0m\u001b[1;33m\u001b[0m\u001b[1;33m\u001b[0m\u001b[1;33m\u001b[0m\u001b[0m\n\u001b[1;32m--> 582\u001b[1;33m         \u001b[0mself\u001b[0m\u001b[1;33m.\u001b[0m\u001b[0mresults\u001b[0m \u001b[1;33m=\u001b[0m \u001b[0mbatch\u001b[0m\u001b[1;33m(\u001b[0m\u001b[1;33m)\u001b[0m\u001b[1;33m\u001b[0m\u001b[1;33m\u001b[0m\u001b[0m\n\u001b[0m\u001b[0;32m    583\u001b[0m \u001b[1;33m\u001b[0m\u001b[0m\n\u001b[0;32m    584\u001b[0m     \u001b[1;32mdef\u001b[0m \u001b[0mget\u001b[0m\u001b[1;33m(\u001b[0m\u001b[0mself\u001b[0m\u001b[1;33m)\u001b[0m\u001b[1;33m:\u001b[0m\u001b[1;33m\u001b[0m\u001b[1;33m\u001b[0m\u001b[0m\n",
      "\u001b[1;32m~\\Anaconda3\\lib\\site-packages\\joblib\\parallel.py\u001b[0m in \u001b[0;36m__call__\u001b[1;34m(self)\u001b[0m\n\u001b[0;32m    254\u001b[0m         \u001b[1;32mwith\u001b[0m \u001b[0mparallel_backend\u001b[0m\u001b[1;33m(\u001b[0m\u001b[0mself\u001b[0m\u001b[1;33m.\u001b[0m\u001b[0m_backend\u001b[0m\u001b[1;33m,\u001b[0m \u001b[0mn_jobs\u001b[0m\u001b[1;33m=\u001b[0m\u001b[0mself\u001b[0m\u001b[1;33m.\u001b[0m\u001b[0m_n_jobs\u001b[0m\u001b[1;33m)\u001b[0m\u001b[1;33m:\u001b[0m\u001b[1;33m\u001b[0m\u001b[1;33m\u001b[0m\u001b[0m\n\u001b[0;32m    255\u001b[0m             return [func(*args, **kwargs)\n\u001b[1;32m--> 256\u001b[1;33m                     for func, args, kwargs in self.items]\n\u001b[0m\u001b[0;32m    257\u001b[0m \u001b[1;33m\u001b[0m\u001b[0m\n\u001b[0;32m    258\u001b[0m     \u001b[1;32mdef\u001b[0m \u001b[0m__len__\u001b[0m\u001b[1;33m(\u001b[0m\u001b[0mself\u001b[0m\u001b[1;33m)\u001b[0m\u001b[1;33m:\u001b[0m\u001b[1;33m\u001b[0m\u001b[1;33m\u001b[0m\u001b[0m\n",
      "\u001b[1;32m~\\Anaconda3\\lib\\site-packages\\joblib\\parallel.py\u001b[0m in \u001b[0;36m<listcomp>\u001b[1;34m(.0)\u001b[0m\n\u001b[0;32m    254\u001b[0m         \u001b[1;32mwith\u001b[0m \u001b[0mparallel_backend\u001b[0m\u001b[1;33m(\u001b[0m\u001b[0mself\u001b[0m\u001b[1;33m.\u001b[0m\u001b[0m_backend\u001b[0m\u001b[1;33m,\u001b[0m \u001b[0mn_jobs\u001b[0m\u001b[1;33m=\u001b[0m\u001b[0mself\u001b[0m\u001b[1;33m.\u001b[0m\u001b[0m_n_jobs\u001b[0m\u001b[1;33m)\u001b[0m\u001b[1;33m:\u001b[0m\u001b[1;33m\u001b[0m\u001b[1;33m\u001b[0m\u001b[0m\n\u001b[0;32m    255\u001b[0m             return [func(*args, **kwargs)\n\u001b[1;32m--> 256\u001b[1;33m                     for func, args, kwargs in self.items]\n\u001b[0m\u001b[0;32m    257\u001b[0m \u001b[1;33m\u001b[0m\u001b[0m\n\u001b[0;32m    258\u001b[0m     \u001b[1;32mdef\u001b[0m \u001b[0m__len__\u001b[0m\u001b[1;33m(\u001b[0m\u001b[0mself\u001b[0m\u001b[1;33m)\u001b[0m\u001b[1;33m:\u001b[0m\u001b[1;33m\u001b[0m\u001b[1;33m\u001b[0m\u001b[0m\n",
      "\u001b[1;32m~\\Anaconda3\\lib\\site-packages\\sklearn\\model_selection\\_validation.py\u001b[0m in \u001b[0;36m_fit_and_score\u001b[1;34m(estimator, X, y, scorer, train, test, verbose, parameters, fit_params, return_train_score, return_parameters, return_n_test_samples, return_times, return_estimator, error_score)\u001b[0m\n\u001b[0;32m    514\u001b[0m             \u001b[0mestimator\u001b[0m\u001b[1;33m.\u001b[0m\u001b[0mfit\u001b[0m\u001b[1;33m(\u001b[0m\u001b[0mX_train\u001b[0m\u001b[1;33m,\u001b[0m \u001b[1;33m**\u001b[0m\u001b[0mfit_params\u001b[0m\u001b[1;33m)\u001b[0m\u001b[1;33m\u001b[0m\u001b[1;33m\u001b[0m\u001b[0m\n\u001b[0;32m    515\u001b[0m         \u001b[1;32melse\u001b[0m\u001b[1;33m:\u001b[0m\u001b[1;33m\u001b[0m\u001b[1;33m\u001b[0m\u001b[0m\n\u001b[1;32m--> 516\u001b[1;33m             \u001b[0mestimator\u001b[0m\u001b[1;33m.\u001b[0m\u001b[0mfit\u001b[0m\u001b[1;33m(\u001b[0m\u001b[0mX_train\u001b[0m\u001b[1;33m,\u001b[0m \u001b[0my_train\u001b[0m\u001b[1;33m,\u001b[0m \u001b[1;33m**\u001b[0m\u001b[0mfit_params\u001b[0m\u001b[1;33m)\u001b[0m\u001b[1;33m\u001b[0m\u001b[1;33m\u001b[0m\u001b[0m\n\u001b[0m\u001b[0;32m    517\u001b[0m \u001b[1;33m\u001b[0m\u001b[0m\n\u001b[0;32m    518\u001b[0m     \u001b[1;32mexcept\u001b[0m \u001b[0mException\u001b[0m \u001b[1;32mas\u001b[0m \u001b[0me\u001b[0m\u001b[1;33m:\u001b[0m\u001b[1;33m\u001b[0m\u001b[1;33m\u001b[0m\u001b[0m\n",
      "\u001b[1;32m~\\Anaconda3\\lib\\site-packages\\sklearn\\tree\\tree.py\u001b[0m in \u001b[0;36mfit\u001b[1;34m(self, X, y, sample_weight, check_input, X_idx_sorted)\u001b[0m\n\u001b[0;32m    814\u001b[0m             \u001b[0msample_weight\u001b[0m\u001b[1;33m=\u001b[0m\u001b[0msample_weight\u001b[0m\u001b[1;33m,\u001b[0m\u001b[1;33m\u001b[0m\u001b[1;33m\u001b[0m\u001b[0m\n\u001b[0;32m    815\u001b[0m             \u001b[0mcheck_input\u001b[0m\u001b[1;33m=\u001b[0m\u001b[0mcheck_input\u001b[0m\u001b[1;33m,\u001b[0m\u001b[1;33m\u001b[0m\u001b[1;33m\u001b[0m\u001b[0m\n\u001b[1;32m--> 816\u001b[1;33m             X_idx_sorted=X_idx_sorted)\n\u001b[0m\u001b[0;32m    817\u001b[0m         \u001b[1;32mreturn\u001b[0m \u001b[0mself\u001b[0m\u001b[1;33m\u001b[0m\u001b[1;33m\u001b[0m\u001b[0m\n\u001b[0;32m    818\u001b[0m \u001b[1;33m\u001b[0m\u001b[0m\n",
      "\u001b[1;32m~\\Anaconda3\\lib\\site-packages\\sklearn\\tree\\tree.py\u001b[0m in \u001b[0;36mfit\u001b[1;34m(self, X, y, sample_weight, check_input, X_idx_sorted)\u001b[0m\n\u001b[0;32m    378\u001b[0m                                            min_impurity_split)\n\u001b[0;32m    379\u001b[0m \u001b[1;33m\u001b[0m\u001b[0m\n\u001b[1;32m--> 380\u001b[1;33m         \u001b[0mbuilder\u001b[0m\u001b[1;33m.\u001b[0m\u001b[0mbuild\u001b[0m\u001b[1;33m(\u001b[0m\u001b[0mself\u001b[0m\u001b[1;33m.\u001b[0m\u001b[0mtree_\u001b[0m\u001b[1;33m,\u001b[0m \u001b[0mX\u001b[0m\u001b[1;33m,\u001b[0m \u001b[0my\u001b[0m\u001b[1;33m,\u001b[0m \u001b[0msample_weight\u001b[0m\u001b[1;33m,\u001b[0m \u001b[0mX_idx_sorted\u001b[0m\u001b[1;33m)\u001b[0m\u001b[1;33m\u001b[0m\u001b[1;33m\u001b[0m\u001b[0m\n\u001b[0m\u001b[0;32m    381\u001b[0m \u001b[1;33m\u001b[0m\u001b[0m\n\u001b[0;32m    382\u001b[0m         \u001b[1;32mif\u001b[0m \u001b[0mself\u001b[0m\u001b[1;33m.\u001b[0m\u001b[0mn_outputs_\u001b[0m \u001b[1;33m==\u001b[0m \u001b[1;36m1\u001b[0m\u001b[1;33m:\u001b[0m\u001b[1;33m\u001b[0m\u001b[1;33m\u001b[0m\u001b[0m\n",
      "\u001b[1;31mKeyboardInterrupt\u001b[0m: "
     ]
    }
   ],
   "source": [
    "# set the parameter grid \n",
    "tree_params = {\n",
    "    \"max_depth\": [2, 3, 4, None],\n",
    "    \"min_samples_leaf\":[2, 3, 4]\n",
    "}\n",
    "\n",
    "# conduct grid search\n",
    "automated_grid_search(DecisionTreeClassifier(), tree_params)"
   ]
  },
  {
   "cell_type": "markdown",
   "metadata": {},
   "source": [
    "The model is over fitting, so I will decrease the max depth parameter and let the minimum samples per leaf be set to the default."
   ]
  },
  {
   "cell_type": "code",
   "execution_count": null,
   "metadata": {},
   "outputs": [],
   "source": [
    "# set the parameter grid \n",
    "tree_params = {\n",
    "    \"max_depth\": [2],\n",
    "}\n",
    "\n",
    "# conduct grid search\n",
    "automated_grid_search(DecisionTreeClassifier(), tree_params)"
   ]
  },
  {
   "cell_type": "markdown",
   "metadata": {},
   "source": [
    "It seems the decision tree classifier will not perform well for this task. Perhaps it will work better on the data that is not engineered. It will take longer to run this way, so a grid search is not feasable. Lets give that a try."
   ]
  },
  {
   "cell_type": "code",
   "execution_count": 33,
   "metadata": {
    "scrolled": true
   },
   "outputs": [
    {
     "name": "stdout",
     "output_type": "stream",
     "text": [
      "              precision    recall  f1-score   support\n",
      "\n",
      "           0       1.00      1.00      1.00     24077\n",
      "           1       0.78      0.78      0.78        40\n",
      "\n",
      "    accuracy                           1.00     24117\n",
      "   macro avg       0.89      0.89      0.89     24117\n",
      "weighted avg       1.00      1.00      1.00     24117\n",
      "\n"
     ]
    }
   ],
   "source": [
    "# instantiate decision tree\n",
    "clf = DecisionTreeClassifier()\n",
    "\n",
    "# fit \n",
    "clf.fit(data[\"original\"][\"X_train\"], data[\"original\"][\"y_train\"])\n",
    "\n",
    "# predict on validation set\n",
    "predictions = clf.predict(data[\"original\"][\"X_val\"])\n",
    "\n",
    "# print classification report\n",
    "print(classification_report(data[\"original\"][\"y_val\"], predictions))\n"
   ]
  },
  {
   "cell_type": "markdown",
   "metadata": {},
   "source": [
    "The model seems to be performing much better this way."
   ]
  },
  {
   "cell_type": "markdown",
   "metadata": {},
   "source": [
    "## 2.3 Random Forest Classifier"
   ]
  },
  {
   "cell_type": "markdown",
   "metadata": {},
   "source": [
    "The random forest algorithm is an ensemble algorithm. This means that it is a collection of simpler algorithms working together. A random forest is a collection of decision trees who each cast a \"vote\" for the prediction. Each tree has to use slightly different features. The random forest algorithm uses decision tree hyper-parameters along with a new one called n-estimators. N-estimators controls how many trees are used and increasing it can decrease overfitting."
   ]
  },
  {
   "cell_type": "code",
   "execution_count": 45,
   "metadata": {},
   "outputs": [
    {
     "name": "stdout",
     "output_type": "stream",
     "text": [
      "\n",
      "\n",
      " lin \n",
      "\n",
      "\n",
      "Training F1-Score: 0.947444477539347\n",
      "Validation F1-Score: 0.0056809905316824475\n",
      "Best parameters {'max_depth': None, 'min_samples_leaf': 2, 'n_estimators': 100}\n",
      "\n",
      "\n",
      "\n",
      "\n",
      " lin_pca \n",
      "\n",
      "\n",
      "Training F1-Score: 0.9474811818259202\n",
      "Validation F1-Score: 0.010826627651792245\n",
      "Best parameters {'max_depth': None, 'min_samples_leaf': 3, 'n_estimators': 100}\n",
      "\n",
      "\n",
      "\n",
      "\n",
      " tree \n",
      "\n",
      "\n",
      "Training F1-Score: 0.9596000772228778\n",
      "Validation F1-Score: 0.005201204489460718\n",
      "Best parameters {'max_depth': None, 'min_samples_leaf': 3, 'n_estimators': 500}\n",
      "\n",
      "\n"
     ]
    }
   ],
   "source": [
    "# set parameters\n",
    "tree_params = {\n",
    "    \"max_depth\":[2, 3, 4, None],\n",
    "    \"min_samples_leaf\":[2, 3],\n",
    "    \"n_estimators\":[100, 500]\n",
    "}\n",
    "\n",
    "# instantiate random forest classifier\n",
    "clf = RandomForestClassifier()\n",
    "\n",
    "# perform grid search\n",
    "automated_grid_search(clf, tree_params)"
   ]
  },
  {
   "cell_type": "markdown",
   "metadata": {},
   "source": [
    "Again the models are overfitting. I am going to assume that too much data has been lost to the resampling. Lets now test the model on the original data."
   ]
  },
  {
   "cell_type": "code",
   "execution_count": 46,
   "metadata": {
    "scrolled": true
   },
   "outputs": [
    {
     "name": "stdout",
     "output_type": "stream",
     "text": [
      "              precision    recall  f1-score   support\n",
      "\n",
      "           0       1.00      1.00      1.00     24077\n",
      "           1       1.00      0.72      0.84        40\n",
      "\n",
      "    accuracy                           1.00     24117\n",
      "   macro avg       1.00      0.86      0.92     24117\n",
      "weighted avg       1.00      1.00      1.00     24117\n",
      "\n"
     ]
    }
   ],
   "source": [
    "# fit classifier\n",
    "clf.fit(data[\"original\"][\"X_train\"], data[\"original\"][\"y_train\"])\n",
    "\n",
    "# get predictions\n",
    "predictions = clf.predict(data[\"original\"][\"X_val\"])\n",
    "\n",
    "# print classification report\n",
    "print(classification_report(data[\"original\"][\"y_val\"], predictions))"
   ]
  },
  {
   "cell_type": "code",
   "execution_count": 47,
   "metadata": {},
   "outputs": [
    {
     "data": {
      "image/png": "[encoded data removed]",
      "text/plain": [
       "<Figure size 1080x360 with 1 Axes>"
      ]
     },
     "metadata": {
      "needs_background": "light"
     },
     "output_type": "display_data"
    }
   ],
   "source": [
    "precision_recall_tradeoff_plot(clf, \"original\")"
   ]
  },
  {
   "cell_type": "markdown",
   "metadata": {},
   "source": [
    "It seems 0.2 would be a good threshold."
   ]
  },
  {
   "cell_type": "markdown",
   "metadata": {},
   "source": [
    "## 2.4 K Nearest Neighbors"
   ]
  },
  {
   "cell_type": "markdown",
   "metadata": {},
   "source": [
    "K Nearest Neighbors is a distance based algorithm. It simply finds the closest neighbors of the point in question belonging to the training set (using multidimensional space). Then it sees how many neighbors belong to class 1 or class 0 and calculates a probability. The hyper-parameter for this algorithm is the amount of neighbors \"K\". The higher the amount of neighbors the more regulated the model will be. Meaning with a high \"K\" value it learns less, but may not over fit as much. Always ensure K is an odd number to avoid having a tie between classes."
   ]
  },
  {
   "cell_type": "code",
   "execution_count": 48,
   "metadata": {},
   "outputs": [
    {
     "name": "stdout",
     "output_type": "stream",
     "text": [
      "              precision    recall  f1-score   support\n",
      "\n",
      "           0       1.00      1.00      1.00     24077\n",
      "           1       0.94      0.75      0.83        40\n",
      "\n",
      "    accuracy                           1.00     24117\n",
      "   macro avg       0.97      0.87      0.92     24117\n",
      "weighted avg       1.00      1.00      1.00     24117\n",
      "\n"
     ]
    }
   ],
   "source": [
    "# instantiate K neighbors classifier\n",
    "clf = KNeighborsClassifier(n_neighbors=15)\n",
    "\n",
    "# fit\n",
    "clf.fit(data[\"original\"][\"X_train\"], data[\"original\"][\"y_train\"])\n",
    "\n",
    "# get predictions\n",
    "predictions = clf.predict(data[\"original\"][\"X_val\"])\n",
    "\n",
    "# print classification report\n",
    "print(classification_report(data[\"original\"][\"y_val\"], predictions))"
   ]
  },
  {
   "cell_type": "code",
   "execution_count": 49,
   "metadata": {},
   "outputs": [
    {
     "data": {
      "image/png": "[encoded data removed]",
      "text/plain": [
       "<Figure size 1080x360 with 1 Axes>"
      ]
     },
     "metadata": {
      "needs_background": "light"
     },
     "output_type": "display_data"
    }
   ],
   "source": [
    "precision_recall_tradeoff_plot(clf, \"original\")"
   ]
  },
  {
   "cell_type": "markdown",
   "metadata": {},
   "source": [
    "It seems like a good tradeoff point would be 0.15."
   ]
  },
  {
   "cell_type": "markdown",
   "metadata": {},
   "source": [
    "# 3. Compare Results"
   ]
  }
 ],
 "metadata": {
  "kernelspec": {
   "display_name": "Python 3",
   "language": "python",
   "name": "python3"
  },
  "language_info": {
   "codemirror_mode": {
    "name": "ipython",
    "version": 3
   },
   "file_extension": ".py",
   "mimetype": "text/x-python",
   "name": "python",
   "nbconvert_exporter": "python",
   "pygments_lexer": "ipython3",
   "version": "3.7.3"
  }
 },
 "nbformat": 4,
 "nbformat_minor": 2
}
