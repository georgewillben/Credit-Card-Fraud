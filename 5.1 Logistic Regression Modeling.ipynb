{
 "cells": [
  {
   "cell_type": "markdown",
   "metadata": {},
   "source": [
    "# Logistic Regression Modeling"
   ]
  },
  {
   "cell_type": "markdown",
   "metadata": {},
   "source": [
    "In the modeling stage I create machine learning models for predicting fraudulent activity. This notebook is for logistic regression. I will first preprocess the data by scaling the \"Amount\" column. The other columns should already be scaled since they are a product of principal component analysis. Then I will create a baseline model and then I will experiment with feature selection, resampling, PCA, and hyper-parameter tuning. My goal here is a high recall score. The higher the recall score the fewer frauds go undetected. Recall must be balanced with precision, which is equal to the amount of true positives divided by the sum of the amount of true positives and false negatives. essentially the inverse of the rate the model falsely flags normal transactions as fraudulent. My goal is to have recall as high as possible with precision above %20. With the data being only %0.2 frauds, this will mean that I incorrectly flag a transaction as fraud %0.08 of the time."
   ]
  },
  {
   "cell_type": "code",
   "execution_count": 102,
   "metadata": {},
   "outputs": [],
   "source": [
    "# import libaries\n",
    "\n",
    "# standard\n",
    "import numpy as np\n",
    "import pandas as pd\n",
    "import matplotlib.pyplot as plt\n",
    "\n",
    "# preprocessing\n",
    "from sklearn.model_selection import StratifiedShuffleSplit\n",
    "from sklearn.preprocessing import StandardScaler\n",
    "\n",
    "# Logistic Regression\n",
    "from sklearn.linear_model import LogisticRegression\n",
    "\n",
    "# ML metrics\n",
    "from sklearn.metrics import recall_score, precision_score\n",
    "\n",
    "# feature selection\n",
    "from sklearn.feature_selection import RFE\n",
    "\n",
    "# resampling\n",
    "from imblearn.over_sampling import SMOTE\n",
    "\n",
    "# PCA\n",
    "from sklearn.decomposition import PCA\n",
    "\n",
    "# hyper parameter tuning\n",
    "from sklearn.model_selection import ParameterGrid\n",
    "\n",
    "# ignore warnings\n",
    "import warnings\n",
    "warnings.filterwarnings(\"ignore\")"
   ]
  },
  {
   "cell_type": "code",
   "execution_count": 8,
   "metadata": {},
   "outputs": [],
   "source": [
    "# load data\n",
    "train = pd.read_csv(\"train.csv\")\n",
    "\n",
    "# create validation setdef get_scores(y, yhat):\n",
    "\n",
    "X, y = train.drop(\"Class\", axis=1), train.Class\n",
    "\n",
    "sss = StratifiedShuffleSplit(test_size=0.15)\n",
    "\n",
    "train_index, val_index = next(sss.split(X, y))\n",
    "\n",
    "val = train.iloc[val_index]\n",
    "train = train.iloc[train_index]\n",
    "\n",
    "X_train, y_train = train.drop(\"Class\", axis=1), train.Class\n",
    "X_val, y_val = val.drop(\"Class\", axis=1), val.Class"
   ]
  },
  {
   "cell_type": "markdown",
   "metadata": {},
   "source": [
    "# Helper Functions"
   ]
  },
  {
   "cell_type": "markdown",
   "metadata": {},
   "source": [
    "Here I set aside some helper functions for running predictions and finding the best probability threshold to predict with. Changing the probability threshold allows me to trade precision performance with recall performance. I want the final product to have as much recall capability as possible with atleast %20 precision. So I will set the threshold to return approximately %30 precision on the training set, due to the fact precision is likely to drop when used on new data."
   ]
  },
  {
   "cell_type": "code",
   "execution_count": 94,
   "metadata": {},
   "outputs": [],
   "source": [
    "def get_scores(y, yhat):\n",
    "    \"\"\"\n",
    "    Prints out recall and precision scores. Returns an empty string.\n",
    "    ~\n",
    "    Parameters:\n",
    "    y: A 1D array of labels\n",
    "    yhat: A 1D array of predicted labels\n",
    "    ~\n",
    "    Returns:\n",
    "    None\n",
    "    \"\"\"\n",
    "    print(\"Recall:   \", round(recall_score(y, yhat), 3))\n",
    "    print(\"Precision:\", round(precision_score(y, yhat), 3))\n",
    "\n",
    "    return \"\"\n",
    "\n",
    "def apply_threshold(probs, threshold):\n",
    "    \"\"\"\n",
    "    Takes a list of probabilities and a threshold and returns \n",
    "    a list of predictions\n",
    "    ~\n",
    "    Parameters:\n",
    "    probs: a 1D array of probability predictions (from an sklearn classifier)\n",
    "    threshold: a float that represents the probability threshold to create labels with\n",
    "    ~\n",
    "    Returns:\n",
    "    A 1D array of labels\n",
    "    \"\"\"\n",
    "    \n",
    "    return [1 if p >= threshold else 0 for p in probs]\n",
    "\n",
    "def find_best_threshold(y, probs, cutoff=0.3):\n",
    "    \"\"\"\n",
    "    Takes in labels, probability predictions, and a cutoff point. Finds the \n",
    "    best threshold to label the predictions with a precision score equal to or\n",
    "    slightly above the cutoff point. This allows for optimal recall scores.\n",
    "    ~\n",
    "    Parameters:\n",
    "    y: A 1D array of labels\n",
    "    probs: A 1D array of probability predictions (from an sklearn classifier)\n",
    "    cutoff: A float indicating the minimum amount of precision desired \n",
    "    ~\n",
    "    Returns:\n",
    "    threshold: the optimal threshold for labeling prediction probabilities\n",
    "    \"\"\"\n",
    "    \n",
    "    # instantiate a close-to-zero threshold\n",
    "    threshold = 0.001\n",
    "    \n",
    "    # instantiate a precision score of 0\n",
    "    prec_score = 0\n",
    "    \n",
    "    # while the current precision score is below the cutoff\n",
    "    while (prec_score <= cutoff):\n",
    "        \n",
    "        # increase threshold slightly\n",
    "        threshold = 0.0005 + threshold\n",
    "        \n",
    "        # label predictions\n",
    "        predictions = apply_threshold(probs, threshold)\n",
    "\n",
    "        # find new precision score and update\n",
    "        prec_score = precision_score(y, predictions)\n",
    "        \n",
    "\n",
    "            \n",
    "    return threshold\n",
    "\n",
    "def predict_w_threshold(fit_clf, X, threshold):\n",
    "    \"\"\"\n",
    "    Takes in an already fit classifier, X-values, and a threshold. Makes predictions using \n",
    "    a custom threshold.\n",
    "    ~\n",
    "    Parameters:\n",
    "    fit_clf: An sklearn classifier that is already fit on training data\n",
    "    X: An 2D array of X values\n",
    "    threshold: A float representing the threshold to label the prediction probabilities with\n",
    "    ~ \n",
    "    Returns:\n",
    "    A list of labels\n",
    "    \"\"\"\n",
    "    # find probability predictions\n",
    "    probs = fit_clf.predict_proba(X)[:, 1]\n",
    "    \n",
    "    # label using threshold\n",
    "    return apply_threshold(probs, threshold)\n",
    "    \n",
    "    \n",
    "    \n",
    "\n",
    "def fit_predict(clf, X_train, y_train, X_val, y_val):\n",
    "    \"\"\"\n",
    "    Takes a classifier with training and validation data. Adjusts the probability\n",
    "    threshold using the training set. Prints out precision and recall scores for both\n",
    "    the training and validation sets. Returns None.\n",
    "    ~\n",
    "    Parameters:\n",
    "    clf: An sklearn classifier\n",
    "    X_train: A 2D array of X values belonging to the training set\n",
    "    y_train: A 1D array of labels belonging to the training set\n",
    "    X_val: A 2D array of X values belonging to the validation set\n",
    "    y_val: A 1D array of labels belonging to the validation set   \n",
    "    ~\n",
    "    Returns: None\n",
    "    \"\"\"\n",
    "    \n",
    "    clf.fit(X_train, y_train)\n",
    "    \n",
    "    probs_train = clf.predict_proba(X_train)[:, 1]\n",
    "    \n",
    "    threshold = find_best_threshold(y_train, probs_train)\n",
    "    \n",
    "    yhat_train = apply_threshold(probs_train, threshold)\n",
    "    \n",
    "    \n",
    "    yhat_val = predict_w_threshold(clf, X_val, threshold)\n",
    "\n",
    "    print(\"training\")\n",
    "    print(get_scores(y_train, yhat_train))\n",
    "    print(\"validation\")\n",
    "    print(get_scores(y_val, yhat_val))"
   ]
  },
  {
   "cell_type": "markdown",
   "metadata": {},
   "source": [
    "# Preprocess the Amount Column"
   ]
  },
  {
   "cell_type": "code",
   "execution_count": 9,
   "metadata": {},
   "outputs": [],
   "source": [
    "# preprocessing\n",
    "sc = StandardScaler()\n",
    "\n",
    "X_train.Amount = sc.fit_transform(X_train.Amount.values.reshape(-1, 1))\n",
    "X_val.Amount = sc.transform(X_val.Amount.values.reshape(-1, 1))"
   ]
  },
  {
   "cell_type": "markdown",
   "metadata": {},
   "source": [
    "# 1.0 Logistic Regression"
   ]
  },
  {
   "cell_type": "markdown",
   "metadata": {},
   "source": [
    "## 1.1 Baseline Model"
   ]
  },
  {
   "cell_type": "markdown",
   "metadata": {},
   "source": [
    "Here I will see how well the model predicts without changing anything other than the probability threshold for predictions. I will use this as a baseline to compare with altered versions of the model and training data. I will also use this model to examine its coefficients, which I can use to get an idea of what features are more important."
   ]
  },
  {
   "cell_type": "code",
   "execution_count": 16,
   "metadata": {
    "scrolled": false
   },
   "outputs": [
    {
     "name": "stdout",
     "output_type": "stream",
     "text": [
      "\n",
      "training\n",
      "Recall:    0.883\n",
      "Precision: 0.307\n",
      "\n",
      "\n",
      "\n",
      "\n",
      "validation\n",
      "\n",
      "Recall:    0.783\n",
      "Precision: 0.261\n",
      "\n"
     ]
    }
   ],
   "source": [
    "# create a logistic regression model\n",
    "lr = LogisticRegression()\n",
    "\n",
    "# fit, find threshold, predict, and get scores\n",
    "fit_predict(lr, X_train, y_train, X_val, y_val)"
   ]
  },
  {
   "cell_type": "code",
   "execution_count": 108,
   "metadata": {
    "scrolled": true
   },
   "outputs": [
    {
     "data": {
      "image/png": "[encoded data removed]",
      "text/plain": [
       "<Figure size 1080x360 with 1 Axes>"
      ]
     },
     "metadata": {
      "needs_background": "light"
     },
     "output_type": "display_data"
    }
   ],
   "source": [
    "# plot coefficients (absolute values)\n",
    "plt.figure(figsize=(15, 5))\n",
    "plt.bar(X_train.columns, abs(lr.coef_[0]))\n",
    "plt.xticks(rotation=45)\n",
    "plt.title(\"Baseline model coefficients\")\n",
    "plt.show()"
   ]
  },
  {
   "cell_type": "markdown",
   "metadata": {},
   "source": [
    "We can see here that some features hold much less weight than others."
   ]
  },
  {
   "cell_type": "markdown",
   "metadata": {},
   "source": [
    "# 1.2 Feature Selection"
   ]
  },
  {
   "cell_type": "markdown",
   "metadata": {},
   "source": [
    "Now I will experiment with using less features. I will do this using recursive feature elimination. I will create 27 RFE objects with n_features_to_select 1 through 27 respectively. Then I will compare the recall scores of each RFE object to see which one performs the best. This will allow me to extract the best features."
   ]
  },
  {
   "cell_type": "code",
   "execution_count": 26,
   "metadata": {},
   "outputs": [
    {
     "name": "stdout",
     "output_type": "stream",
     "text": [
      "1/29\n",
      "2/29\n",
      "3/29\n",
      "4/29\n",
      "5/29\n",
      "6/29\n",
      "7/29\n",
      "8/29\n",
      "9/29\n",
      "10/29\n",
      "11/29\n",
      "12/29\n",
      "13/29\n",
      "14/29\n",
      "15/29\n",
      "16/29\n",
      "17/29\n",
      "18/29\n",
      "19/29\n",
      "20/29\n",
      "21/29\n",
      "22/29\n",
      "23/29\n",
      "24/29\n",
      "25/29\n",
      "26/29\n",
      "27/29\n",
      "28/29\n"
     ]
    }
   ],
   "source": [
    "# create 27 RFEs to find the best features\n",
    "\n",
    "# create collections to store RFEs and results\n",
    "rfe_collection = {}\n",
    "scores_collection = []\n",
    "\n",
    "for i in range(1, 29):\n",
    "    \n",
    "    # create new RFE object\n",
    "    rfe = RFE(lr, i)\n",
    "    \n",
    "    # fit\n",
    "    rfe.fit(X_train, y_train)\n",
    "    \n",
    "    # find the best threshold for ~%30 precision\n",
    "    probs_train = rfe.predict_proba(X_train)[:, 1]\n",
    "    threshold = find_best_threshold(y_train, probs_train)\n",
    "    \n",
    "    # predict using threshold and save scores\n",
    "    # for training and validation sets\n",
    "    yhat_train = predict_w_threshold(rfe, X_train, threshold)\n",
    "    yhat_val = predict_w_threshold(rfe, X_val, threshold)\n",
    "    \n",
    "    # precisions\n",
    "    pscore_train = precision_score(y_train, yhat_train)\n",
    "    pscore_val = precision_score(y_val, yhat_val)\n",
    "    \n",
    "    # recalls\n",
    "    rscore_train = recall_score(y_train, yhat_train)\n",
    "    rscore_val = recall_score(y_val, yhat_val)\n",
    "    \n",
    "    # store scores in a collection\n",
    "    scores_collection.append({\n",
    "        \"n features\":i,\n",
    "        \"training recall\":rscore_train,\n",
    "        \"training precision\":pscore_train,\n",
    "        \"validation recall\":rscore_val,\n",
    "        \"validation precision\":pscore_val       \n",
    "    })\n",
    "    \n",
    "    \n",
    "    rfe_collection[i] = rfe\n",
    "    \n",
    "    print(f\"{i}/28\")"
   ]
  },
  {
   "cell_type": "code",
   "execution_count": 27,
   "metadata": {},
   "outputs": [
    {
     "data": {
      "text/html": [
       "<div>\n",
       "<style scoped>\n",
       "    .dataframe tbody tr th:only-of-type {\n",
       "        vertical-align: middle;\n",
       "    }\n",
       "\n",
       "    .dataframe tbody tr th {\n",
       "        vertical-align: top;\n",
       "    }\n",
       "\n",
       "    .dataframe thead th {\n",
       "        text-align: right;\n",
       "    }\n",
       "</style>\n",
       "<table border=\"1\" class=\"dataframe\">\n",
       "  <thead>\n",
       "    <tr style=\"text-align: right;\">\n",
       "      <th></th>\n",
       "      <th>i</th>\n",
       "      <th>training precision</th>\n",
       "      <th>training recall</th>\n",
       "      <th>validation precision</th>\n",
       "      <th>validation recall</th>\n",
       "    </tr>\n",
       "  </thead>\n",
       "  <tbody>\n",
       "    <tr>\n",
       "      <th>0</th>\n",
       "      <td>1</td>\n",
       "      <td>0.305677</td>\n",
       "      <td>0.818713</td>\n",
       "      <td>0.309859</td>\n",
       "      <td>0.733333</td>\n",
       "    </tr>\n",
       "    <tr>\n",
       "      <th>1</th>\n",
       "      <td>2</td>\n",
       "      <td>0.309168</td>\n",
       "      <td>0.847953</td>\n",
       "      <td>0.316901</td>\n",
       "      <td>0.750000</td>\n",
       "    </tr>\n",
       "    <tr>\n",
       "      <th>2</th>\n",
       "      <td>3</td>\n",
       "      <td>0.323725</td>\n",
       "      <td>0.853801</td>\n",
       "      <td>0.330882</td>\n",
       "      <td>0.750000</td>\n",
       "    </tr>\n",
       "    <tr>\n",
       "      <th>3</th>\n",
       "      <td>4</td>\n",
       "      <td>0.312831</td>\n",
       "      <td>0.862573</td>\n",
       "      <td>0.286624</td>\n",
       "      <td>0.750000</td>\n",
       "    </tr>\n",
       "    <tr>\n",
       "      <th>4</th>\n",
       "      <td>5</td>\n",
       "      <td>0.317647</td>\n",
       "      <td>0.868421</td>\n",
       "      <td>0.294872</td>\n",
       "      <td>0.766667</td>\n",
       "    </tr>\n",
       "    <tr>\n",
       "      <th>5</th>\n",
       "      <td>6</td>\n",
       "      <td>0.316348</td>\n",
       "      <td>0.871345</td>\n",
       "      <td>0.291139</td>\n",
       "      <td>0.766667</td>\n",
       "    </tr>\n",
       "    <tr>\n",
       "      <th>6</th>\n",
       "      <td>7</td>\n",
       "      <td>0.316969</td>\n",
       "      <td>0.868421</td>\n",
       "      <td>0.292683</td>\n",
       "      <td>0.800000</td>\n",
       "    </tr>\n",
       "    <tr>\n",
       "      <th>7</th>\n",
       "      <td>8</td>\n",
       "      <td>0.328918</td>\n",
       "      <td>0.871345</td>\n",
       "      <td>0.296296</td>\n",
       "      <td>0.800000</td>\n",
       "    </tr>\n",
       "    <tr>\n",
       "      <th>8</th>\n",
       "      <td>9</td>\n",
       "      <td>0.302115</td>\n",
       "      <td>0.877193</td>\n",
       "      <td>0.265193</td>\n",
       "      <td>0.800000</td>\n",
       "    </tr>\n",
       "    <tr>\n",
       "      <th>9</th>\n",
       "      <td>10</td>\n",
       "      <td>0.303030</td>\n",
       "      <td>0.877193</td>\n",
       "      <td>0.262295</td>\n",
       "      <td>0.800000</td>\n",
       "    </tr>\n",
       "    <tr>\n",
       "      <th>10</th>\n",
       "      <td>11</td>\n",
       "      <td>0.304569</td>\n",
       "      <td>0.877193</td>\n",
       "      <td>0.256684</td>\n",
       "      <td>0.800000</td>\n",
       "    </tr>\n",
       "    <tr>\n",
       "      <th>11</th>\n",
       "      <td>12</td>\n",
       "      <td>0.311526</td>\n",
       "      <td>0.877193</td>\n",
       "      <td>0.269663</td>\n",
       "      <td>0.800000</td>\n",
       "    </tr>\n",
       "    <tr>\n",
       "      <th>12</th>\n",
       "      <td>13</td>\n",
       "      <td>0.306122</td>\n",
       "      <td>0.877193</td>\n",
       "      <td>0.258065</td>\n",
       "      <td>0.800000</td>\n",
       "    </tr>\n",
       "    <tr>\n",
       "      <th>13</th>\n",
       "      <td>14</td>\n",
       "      <td>0.318519</td>\n",
       "      <td>0.880117</td>\n",
       "      <td>0.277457</td>\n",
       "      <td>0.800000</td>\n",
       "    </tr>\n",
       "    <tr>\n",
       "      <th>14</th>\n",
       "      <td>15</td>\n",
       "      <td>0.300199</td>\n",
       "      <td>0.883041</td>\n",
       "      <td>0.268156</td>\n",
       "      <td>0.800000</td>\n",
       "    </tr>\n",
       "    <tr>\n",
       "      <th>15</th>\n",
       "      <td>16</td>\n",
       "      <td>0.322650</td>\n",
       "      <td>0.883041</td>\n",
       "      <td>0.286585</td>\n",
       "      <td>0.783333</td>\n",
       "    </tr>\n",
       "    <tr>\n",
       "      <th>16</th>\n",
       "      <td>17</td>\n",
       "      <td>0.305978</td>\n",
       "      <td>0.883041</td>\n",
       "      <td>0.290909</td>\n",
       "      <td>0.800000</td>\n",
       "    </tr>\n",
       "    <tr>\n",
       "      <th>17</th>\n",
       "      <td>18</td>\n",
       "      <td>0.329682</td>\n",
       "      <td>0.880117</td>\n",
       "      <td>0.288344</td>\n",
       "      <td>0.783333</td>\n",
       "    </tr>\n",
       "    <tr>\n",
       "      <th>18</th>\n",
       "      <td>19</td>\n",
       "      <td>0.346375</td>\n",
       "      <td>0.880117</td>\n",
       "      <td>0.311258</td>\n",
       "      <td>0.783333</td>\n",
       "    </tr>\n",
       "    <tr>\n",
       "      <th>19</th>\n",
       "      <td>20</td>\n",
       "      <td>0.332965</td>\n",
       "      <td>0.880117</td>\n",
       "      <td>0.281437</td>\n",
       "      <td>0.783333</td>\n",
       "    </tr>\n",
       "    <tr>\n",
       "      <th>20</th>\n",
       "      <td>21</td>\n",
       "      <td>0.302000</td>\n",
       "      <td>0.883041</td>\n",
       "      <td>0.256684</td>\n",
       "      <td>0.800000</td>\n",
       "    </tr>\n",
       "    <tr>\n",
       "      <th>21</th>\n",
       "      <td>22</td>\n",
       "      <td>0.305978</td>\n",
       "      <td>0.883041</td>\n",
       "      <td>0.256831</td>\n",
       "      <td>0.783333</td>\n",
       "    </tr>\n",
       "    <tr>\n",
       "      <th>22</th>\n",
       "      <td>23</td>\n",
       "      <td>0.307536</td>\n",
       "      <td>0.883041</td>\n",
       "      <td>0.265193</td>\n",
       "      <td>0.800000</td>\n",
       "    </tr>\n",
       "    <tr>\n",
       "      <th>23</th>\n",
       "      <td>24</td>\n",
       "      <td>0.310062</td>\n",
       "      <td>0.883041</td>\n",
       "      <td>0.268156</td>\n",
       "      <td>0.800000</td>\n",
       "    </tr>\n",
       "    <tr>\n",
       "      <th>24</th>\n",
       "      <td>25</td>\n",
       "      <td>0.306288</td>\n",
       "      <td>0.883041</td>\n",
       "      <td>0.266667</td>\n",
       "      <td>0.800000</td>\n",
       "    </tr>\n",
       "    <tr>\n",
       "      <th>25</th>\n",
       "      <td>26</td>\n",
       "      <td>0.308793</td>\n",
       "      <td>0.883041</td>\n",
       "      <td>0.263736</td>\n",
       "      <td>0.800000</td>\n",
       "    </tr>\n",
       "    <tr>\n",
       "      <th>26</th>\n",
       "      <td>27</td>\n",
       "      <td>0.305978</td>\n",
       "      <td>0.883041</td>\n",
       "      <td>0.261111</td>\n",
       "      <td>0.783333</td>\n",
       "    </tr>\n",
       "    <tr>\n",
       "      <th>27</th>\n",
       "      <td>28</td>\n",
       "      <td>0.306599</td>\n",
       "      <td>0.883041</td>\n",
       "      <td>0.261111</td>\n",
       "      <td>0.783333</td>\n",
       "    </tr>\n",
       "  </tbody>\n",
       "</table>\n",
       "</div>"
      ],
      "text/plain": [
       "     i  training precision  training recall  validation precision  \\\n",
       "0    1            0.305677         0.818713              0.309859   \n",
       "1    2            0.309168         0.847953              0.316901   \n",
       "2    3            0.323725         0.853801              0.330882   \n",
       "3    4            0.312831         0.862573              0.286624   \n",
       "4    5            0.317647         0.868421              0.294872   \n",
       "5    6            0.316348         0.871345              0.291139   \n",
       "6    7            0.316969         0.868421              0.292683   \n",
       "7    8            0.328918         0.871345              0.296296   \n",
       "8    9            0.302115         0.877193              0.265193   \n",
       "9   10            0.303030         0.877193              0.262295   \n",
       "10  11            0.304569         0.877193              0.256684   \n",
       "11  12            0.311526         0.877193              0.269663   \n",
       "12  13            0.306122         0.877193              0.258065   \n",
       "13  14            0.318519         0.880117              0.277457   \n",
       "14  15            0.300199         0.883041              0.268156   \n",
       "15  16            0.322650         0.883041              0.286585   \n",
       "16  17            0.305978         0.883041              0.290909   \n",
       "17  18            0.329682         0.880117              0.288344   \n",
       "18  19            0.346375         0.880117              0.311258   \n",
       "19  20            0.332965         0.880117              0.281437   \n",
       "20  21            0.302000         0.883041              0.256684   \n",
       "21  22            0.305978         0.883041              0.256831   \n",
       "22  23            0.307536         0.883041              0.265193   \n",
       "23  24            0.310062         0.883041              0.268156   \n",
       "24  25            0.306288         0.883041              0.266667   \n",
       "25  26            0.308793         0.883041              0.263736   \n",
       "26  27            0.305978         0.883041              0.261111   \n",
       "27  28            0.306599         0.883041              0.261111   \n",
       "\n",
       "    validation recall  \n",
       "0            0.733333  \n",
       "1            0.750000  \n",
       "2            0.750000  \n",
       "3            0.750000  \n",
       "4            0.766667  \n",
       "5            0.766667  \n",
       "6            0.800000  \n",
       "7            0.800000  \n",
       "8            0.800000  \n",
       "9            0.800000  \n",
       "10           0.800000  \n",
       "11           0.800000  \n",
       "12           0.800000  \n",
       "13           0.800000  \n",
       "14           0.800000  \n",
       "15           0.783333  \n",
       "16           0.800000  \n",
       "17           0.783333  \n",
       "18           0.783333  \n",
       "19           0.783333  \n",
       "20           0.800000  \n",
       "21           0.783333  \n",
       "22           0.800000  \n",
       "23           0.800000  \n",
       "24           0.800000  \n",
       "25           0.800000  \n",
       "26           0.783333  \n",
       "27           0.783333  "
      ]
     },
     "execution_count": 27,
     "metadata": {},
     "output_type": "execute_result"
    }
   ],
   "source": [
    "# display results\n",
    "pd.DataFrame(scores_collection)"
   ]
  },
  {
   "cell_type": "code",
   "execution_count": 32,
   "metadata": {
    "scrolled": true
   },
   "outputs": [
    {
     "data": {
      "image/png": "[encoded data removed]",
      "text/plain": [
       "<Figure size 1080x360 with 1 Axes>"
      ]
     },
     "metadata": {
      "needs_background": "light"
     },
     "output_type": "display_data"
    }
   ],
   "source": [
    "# create an ordered list of recall scores\n",
    "n_feats = [j[\"n features\"] for j in scores_collection]\n",
    "train_recall_list = [j[\"training recall\"] for j in scores_collection]\n",
    "val_recall_list = [j[\"validation recall\"] for j in scores_collection]\n",
    "\n",
    "# plot\n",
    "plt.figure(figsize=(15, 5))\n",
    "plt.plot(n_feats, train_recall_list, label=\"training recall\", color=\"royalblue\")\n",
    "plt.plot(n_feats, val_recall_list, label=\"validation recall\", color=\"red\")\n",
    "plt.xticks(range(1, 29))\n",
    "plt.legend()\n",
    "plt.title(\"Recall Scores VS Number of Features\")\n",
    "plt.show()\n"
   ]
  },
  {
   "cell_type": "code",
   "execution_count": 109,
   "metadata": {},
   "outputs": [],
   "source": [
    "# get rfe for 7 features\n",
    "rfe7 = rfe_collection[7]"
   ]
  },
  {
   "cell_type": "code",
   "execution_count": 110,
   "metadata": {},
   "outputs": [
    {
     "data": {
      "text/plain": [
       "['V4', 'V10', 'V13', 'V14', 'V21', 'V22', 'V24']"
      ]
     },
     "execution_count": 110,
     "metadata": {},
     "output_type": "execute_result"
    }
   ],
   "source": [
    "feats_chosen = zip(train.columns, rfe7.support_)\n",
    "best_feats = []\n",
    "for col, is_chosen in feats_chosen:\n",
    "    if is_chosen:\n",
    "        best_feats.append(col)\n",
    "        \n",
    "best_feats"
   ]
  },
  {
   "cell_type": "markdown",
   "metadata": {},
   "source": [
    "Now I will test out a model using the best features."
   ]
  },
  {
   "cell_type": "code",
   "execution_count": 114,
   "metadata": {},
   "outputs": [],
   "source": [
    "# create a new version of X_train and X_val with only the best features\n",
    "X_train_bf, X_val_bf = X_train[best_feats], X_val[best_feats]"
   ]
  },
  {
   "cell_type": "code",
   "execution_count": 113,
   "metadata": {},
   "outputs": [
    {
     "name": "stdout",
     "output_type": "stream",
     "text": [
      "training\n",
      "Recall:    0.868\n",
      "Precision: 0.334\n",
      "\n",
      "validation\n",
      "Recall:    0.783\n",
      "Precision: 0.29\n",
      "\n"
     ]
    }
   ],
   "source": [
    "fit_predict(lr, X_train_bf, y_train, X_val_bf, y_val)"
   ]
  },
  {
   "cell_type": "markdown",
   "metadata": {},
   "source": [
    "# 1.3 PCA"
   ]
  },
  {
   "cell_type": "markdown",
   "metadata": {},
   "source": [
    "Now I will try using principal component analysis to reduce the amount of features and see if that gives better results. I will fit a PCA object to the X_train and examine the explained variance ratio. I will take the minimal amount of components to achieve an explained variance ratio of 0.95. I will plug in that number of components into a new PCA object and I will use that to transform the data. Then I can see if it produces better results."
   ]
  },
  {
   "cell_type": "code",
   "execution_count": 117,
   "metadata": {},
   "outputs": [
    {
     "data": {
      "image/png": "[encoded data removed]",
      "text/plain": [
       "<Figure size 1080x360 with 1 Axes>"
      ]
     },
     "metadata": {
      "needs_background": "light"
     },
     "output_type": "display_data"
    }
   ],
   "source": [
    "# fit PCA object\n",
    "pca = PCA(29)\n",
    "pca.fit(X_train)\n",
    "\n",
    "# plot explained variance ratio\n",
    "plt.figure(figsize=(15, 5))\n",
    "plt.plot(range(1, 30), np.cumsum(pca.explained_variance_ratio_), label=\"explained variance ratio\")\n",
    "plt.axhline(0.95, color=\"orange\", linestyle=\"--\", label=\"%95 cutoff point\")\n",
    "plt.title(\"Explained Variance Ratio\")\n",
    "plt.legend()\n",
    "plt.show()"
   ]
  },
  {
   "cell_type": "code",
   "execution_count": 119,
   "metadata": {},
   "outputs": [],
   "source": [
    "# transform data\n",
    "# the explained variance ratio hit the cutoff point at 24 components\n",
    "pca = PCA(24)\n",
    "pca.fit(X_train)\n",
    "X_train_pca, X_val_pca = pca.transform(X_train), pca.transform(X_val)"
   ]
  },
  {
   "cell_type": "code",
   "execution_count": 120,
   "metadata": {
    "scrolled": true
   },
   "outputs": [
    {
     "name": "stdout",
     "output_type": "stream",
     "text": [
      "training\n",
      "Recall:    0.874\n",
      "Precision: 0.331\n",
      "\n",
      "validation\n",
      "Recall:    0.783\n",
      "Precision: 0.307\n",
      "\n"
     ]
    }
   ],
   "source": [
    "# examine results\n",
    "fit_predict(lr, X_train_pca, y_train, X_val_pca, y_val)"
   ]
  },
  {
   "cell_type": "markdown",
   "metadata": {},
   "source": [
    "# 1.4 Resampling"
   ]
  },
  {
   "cell_type": "markdown",
   "metadata": {},
   "source": [
    "Now I will see if resampling the data will help. The data is highly imbalanced with a normal to fraud ratio of 500:1. This can introduce bias in the machine learning algorithm. The SMOTE algorithm will create artificial fraud cases in the training data to help balance it. Only the training data should be resampled."
   ]
  },
  {
   "cell_type": "code",
   "execution_count": 121,
   "metadata": {
    "scrolled": false
   },
   "outputs": [
    {
     "name": "stdout",
     "output_type": "stream",
     "text": [
      "training\n",
      "Recall:    1.0\n",
      "Precision: 0.517\n",
      "\n",
      "validation\n",
      "Recall:    1.0\n",
      "Precision: 0.002\n",
      "\n"
     ]
    }
   ],
   "source": [
    "# create SMOTE object\n",
    "sm = SMOTE()\n",
    "\n",
    "# upsample data\n",
    "X_train_rs, y_train_rs = sm.fit_resample(X_train, y_train)\n",
    "\n",
    "# examine results\n",
    "fit_predict(lr, X_train_rs, y_train_rs, X_val, y_val)"
   ]
  },
  {
   "cell_type": "markdown",
   "metadata": {},
   "source": [
    "The model did well on the training set, but had terrible precision on the validation set. This is a sign of overfitting. This might be helped by hyper-parameter tuning. Let's examine a plot of the precision-recall tradeoff."
   ]
  },
  {
   "cell_type": "code",
   "execution_count": 122,
   "metadata": {},
   "outputs": [],
   "source": [
    "# get probability predictions for the training set\n",
    "probs_train = lr.predict_proba(X_train_rs)[:, 1]"
   ]
  },
  {
   "cell_type": "code",
   "execution_count": 128,
   "metadata": {},
   "outputs": [],
   "source": [
    "def tradeoff_plot(y, probs):\n",
    "    \n",
    "    recalls = []\n",
    "    precisions = []\n",
    "    thresholds = np.linspace(0, 1, 50)\n",
    "    \n",
    "    for th in thresholds:\n",
    "        predictions = apply_threshold(probs, th)\n",
    "        recalls.append(recall_score(y, predictions))\n",
    "        precisions.append(precision_score(y, predictions))\n",
    "        \n",
    "    plt.figure(figsize=(15, 5))\n",
    "    plt.plot(thresholds, recalls, color=\"red\", label=\"recall\")\n",
    "    plt.plot(thresholds, precisions, color=\"royalblue\", label=\"precision\")\n",
    "    plt.title(\"Precision Recall Tradeoff\")\n",
    "    plt.xlabel(\"threshold\")\n",
    "    plt.ylabel(\"score\")\n",
    "    plt.legend()\n",
    "    plt.show()"
   ]
  },
  {
   "cell_type": "code",
   "execution_count": 129,
   "metadata": {
    "scrolled": true
   },
   "outputs": [
    {
     "data": {
      "image/png": "[encoded data removed]",
      "text/plain": [
       "<Figure size 1080x360 with 1 Axes>"
      ]
     },
     "metadata": {
      "needs_background": "light"
     },
     "output_type": "display_data"
    }
   ],
   "source": [
    "# plot precision recall tradeoff\n",
    "tradeoff_plot(y_train_rs, probs_train)"
   ]
  },
  {
   "cell_type": "markdown",
   "metadata": {},
   "source": [
    "The problem here is that the function \"fit_predict\" I made was searching for a threshold to meet %30. You can see in this graph that the model always had over %30 precision. So I will adjust the threshold to say 0.20."
   ]
  },
  {
   "cell_type": "code",
   "execution_count": 135,
   "metadata": {
    "scrolled": true
   },
   "outputs": [
    {
     "name": "stdout",
     "output_type": "stream",
     "text": [
      "Recall:    0.883\n",
      "Precision: 0.035\n"
     ]
    },
    {
     "data": {
      "text/plain": [
       "''"
      ]
     },
     "execution_count": 135,
     "metadata": {},
     "output_type": "execute_result"
    }
   ],
   "source": [
    "# predict on validation set using a threshold of 0.10\n",
    "yhat_val = predict_w_threshold(lr, X_val, 0.20)\n",
    "\n",
    "# get scores\n",
    "get_scores(y_val, yhat_val)"
   ]
  },
  {
   "cell_type": "markdown",
   "metadata": {},
   "source": [
    "The model is still performing poorly. Let us examine the precision recall tradeoff for the validation predictions."
   ]
  },
  {
   "cell_type": "code",
   "execution_count": 136,
   "metadata": {
    "scrolled": true
   },
   "outputs": [
    {
     "data": {
      "image/png": "[encoded data removed]",
      "text/plain": [
       "<Figure size 1080x360 with 1 Axes>"
      ]
     },
     "metadata": {
      "needs_background": "light"
     },
     "output_type": "display_data"
    }
   ],
   "source": [
    "# get validation probability predictions\n",
    "probs_val = lr.predict_proba(X_val)[:, 1]\n",
    "\n",
    "# plot precision recall tradeoff\n",
    "tradeoff_plot(y_val, probs_val)"
   ]
  },
  {
   "cell_type": "markdown",
   "metadata": {},
   "source": [
    "We can see here that increasing the precision to around %20-%30 would drop the recall lower than the baseline. Perhaps tuning the hyper parameters would change that. "
   ]
  },
  {
   "cell_type": "markdown",
   "metadata": {},
   "source": [
    "# 1.5 Hyper Parameter Tuning"
   ]
  },
  {
   "cell_type": "markdown",
   "metadata": {},
   "source": [
    "Here I will tune the hyper parameters of the model. I will be changing \"C\", which is the inverse of the learning rate, and \"class_weight\", which changes the learning rate based on class. I will create a parameter grid and print out the training and validation results for each combination of parameters. I will do this on the data we used with the baseline model as well as the resampled data. I will be chaning the probability thresholds to help get the best recall scores. For the resampled data I will find the best threshold using the validation set."
   ]
  },
  {
   "cell_type": "code",
   "execution_count": 96,
   "metadata": {},
   "outputs": [
    {
     "name": "stdout",
     "output_type": "stream",
     "text": [
      "\n",
      "\n",
      "Baseline Data ~~~~~~~~~~~~~~~~~~~~~~~~~~~~\n",
      "{'C': 0.1, 'class_weight': {0: 2, 1: 1}}\n",
      "training\n",
      "Recall:    0.877\n",
      "Precision: 0.353\n",
      "\n",
      "validation\n",
      "Recall:    0.767\n",
      "Precision: 0.299\n",
      "\n",
      "{'C': 0.1, 'class_weight': {0: 1, 1: 1}}\n",
      "training\n",
      "Recall:    0.88\n",
      "Precision: 0.31\n",
      "\n",
      "validation\n",
      "Recall:    0.767\n",
      "Precision: 0.267\n",
      "\n",
      "{'C': 0.1, 'class_weight': {0: 1, 1: 2}}\n",
      "training\n",
      "Recall:    0.883\n",
      "Precision: 0.309\n",
      "\n",
      "validation\n",
      "Recall:    0.767\n",
      "Precision: 0.261\n",
      "\n",
      "{'C': 1, 'class_weight': {0: 2, 1: 1}}\n",
      "training\n",
      "Recall:    0.877\n",
      "Precision: 0.332\n",
      "\n",
      "validation\n",
      "Recall:    0.8\n",
      "Precision: 0.294\n",
      "\n",
      "{'C': 1, 'class_weight': {0: 1, 1: 1}}\n",
      "training\n",
      "Recall:    0.883\n",
      "Precision: 0.307\n",
      "\n",
      "validation\n",
      "Recall:    0.783\n",
      "Precision: 0.261\n",
      "\n",
      "{'C': 1, 'class_weight': {0: 1, 1: 2}}\n",
      "training\n",
      "Recall:    0.883\n",
      "Precision: 0.301\n",
      "\n",
      "validation\n",
      "Recall:    0.8\n",
      "Precision: 0.267\n",
      "\n",
      "{'C': 10, 'class_weight': {0: 2, 1: 1}}\n",
      "training\n",
      "Recall:    0.871\n",
      "Precision: 0.334\n",
      "\n",
      "validation\n",
      "Recall:    0.783\n",
      "Precision: 0.294\n",
      "\n",
      "{'C': 10, 'class_weight': {0: 1, 1: 1}}\n",
      "training\n",
      "Recall:    0.88\n",
      "Precision: 0.323\n",
      "\n",
      "validation\n",
      "Recall:    0.8\n",
      "Precision: 0.284\n",
      "\n",
      "{'C': 10, 'class_weight': {0: 1, 1: 2}}\n",
      "training\n",
      "Recall:    0.883\n",
      "Precision: 0.307\n",
      "\n",
      "validation\n",
      "Recall:    0.8\n",
      "Precision: 0.27\n",
      "\n",
      "{'C': 100, 'class_weight': {0: 2, 1: 1}}\n",
      "training\n",
      "Recall:    0.871\n",
      "Precision: 0.334\n",
      "\n",
      "validation\n",
      "Recall:    0.783\n",
      "Precision: 0.294\n",
      "\n",
      "{'C': 100, 'class_weight': {0: 1, 1: 1}}\n",
      "training\n",
      "Recall:    0.88\n",
      "Precision: 0.324\n",
      "\n",
      "validation\n",
      "Recall:    0.8\n",
      "Precision: 0.286\n",
      "\n",
      "{'C': 100, 'class_weight': {0: 1, 1: 2}}\n",
      "training\n",
      "Recall:    0.883\n",
      "Precision: 0.306\n",
      "\n",
      "validation\n",
      "Recall:    0.8\n",
      "Precision: 0.27\n",
      "\n",
      "\n",
      "\n",
      "Resampled Data ~~~~~~~~~~~~~~~~~~~~~~~~~~~\n",
      "{'C': 0.1, 'class_weight': {0: 2, 1: 1}}\n",
      "training\n",
      "Recall:    0.835\n",
      "Precision: 0.999\n",
      "validation\n",
      "Recall:    0.717\n",
      "Precision: 0.642\n",
      "\n",
      "\n",
      "\n",
      "{'C': 0.1, 'class_weight': {0: 1, 1: 1}}\n",
      "training\n",
      "Recall:    0.864\n",
      "Precision: 0.999\n",
      "validation\n",
      "Recall:    0.75\n",
      "Precision: 0.5\n",
      "\n",
      "\n",
      "\n",
      "{'C': 0.1, 'class_weight': {0: 1, 1: 2}}\n",
      "training\n",
      "Recall:    0.876\n",
      "Precision: 0.997\n",
      "validation\n",
      "Recall:    0.75\n",
      "Precision: 0.328\n",
      "\n",
      "\n",
      "\n",
      "{'C': 1, 'class_weight': {0: 2, 1: 1}}\n",
      "training\n",
      "Recall:    0.835\n",
      "Precision: 0.999\n",
      "validation\n",
      "Recall:    0.717\n",
      "Precision: 0.642\n",
      "\n",
      "\n",
      "\n",
      "{'C': 1, 'class_weight': {0: 1, 1: 1}}\n",
      "training\n",
      "Recall:    0.864\n",
      "Precision: 0.999\n",
      "validation\n",
      "Recall:    0.75\n",
      "Precision: 0.5\n",
      "\n",
      "\n",
      "\n",
      "{'C': 1, 'class_weight': {0: 1, 1: 2}}\n",
      "training\n",
      "Recall:    0.876\n",
      "Precision: 0.997\n",
      "validation\n",
      "Recall:    0.75\n",
      "Precision: 0.319\n",
      "\n",
      "\n",
      "\n",
      "{'C': 10, 'class_weight': {0: 2, 1: 1}}\n",
      "training\n",
      "Recall:    0.835\n",
      "Precision: 0.999\n",
      "validation\n",
      "Recall:    0.717\n",
      "Precision: 0.642\n",
      "\n",
      "\n",
      "\n",
      "{'C': 10, 'class_weight': {0: 1, 1: 1}}\n",
      "training\n",
      "Recall:    0.864\n",
      "Precision: 0.999\n",
      "validation\n",
      "Recall:    0.75\n",
      "Precision: 0.5\n",
      "\n",
      "\n",
      "\n",
      "{'C': 10, 'class_weight': {0: 1, 1: 2}}\n",
      "training\n",
      "Recall:    0.876\n",
      "Precision: 0.997\n",
      "validation\n",
      "Recall:    0.75\n",
      "Precision: 0.319\n",
      "\n",
      "\n",
      "\n",
      "{'C': 100, 'class_weight': {0: 2, 1: 1}}\n",
      "training\n",
      "Recall:    0.835\n",
      "Precision: 0.999\n",
      "validation\n",
      "Recall:    0.717\n",
      "Precision: 0.642\n",
      "\n",
      "\n",
      "\n",
      "{'C': 100, 'class_weight': {0: 1, 1: 1}}\n",
      "training\n",
      "Recall:    0.864\n",
      "Precision: 0.999\n",
      "validation\n",
      "Recall:    0.75\n",
      "Precision: 0.5\n",
      "\n",
      "\n",
      "\n",
      "{'C': 100, 'class_weight': {0: 1, 1: 2}}\n",
      "training\n",
      "Recall:    0.876\n",
      "Precision: 0.997\n",
      "validation\n",
      "Recall:    0.75\n",
      "Precision: 0.319\n",
      "\n",
      "\n",
      "\n"
     ]
    }
   ],
   "source": [
    "# normal \n",
    "param_grid = ParameterGrid({\n",
    "    \"C\":[0.1, 1, 10, 100],\n",
    "    \"class_weight\":[{0:2, 1:1}, {0:1, 1:1}, {0:1, 1:2}]\n",
    "})\n",
    "\n",
    "print(\"\\n\\nBaseline Data ~~~~~~~~~~~~~~~~~~~~~~~~~~~~\")\n",
    "for p in param_grid:\n",
    "    lr.set_params(**p)\n",
    "    print(p)\n",
    "    fit_predict(lr, X_train, y_train, X_val, y_val)\n",
    "    \n",
    "    \n",
    "print(\"\\n\\nResampled Data ~~~~~~~~~~~~~~~~~~~~~~~~~~~\")\n",
    "for p in param_grid:\n",
    "    lr.set_params(**p)\n",
    "    lr.fit(X_train_rs, y_train_rs)\n",
    "    probs_train = lr.predict_proba(X_train_rs)[:, 1]\n",
    "    probs_val = lr.predict_proba(X_val)[:, 1]\n",
    "    yhat_train = apply_threshold(probs_train, 0.99)\n",
    "    yhat_val = apply_threshold(probs_val, 0.99)\n",
    "    print(p)\n",
    "    print(\"training\")\n",
    "    get_scores(y_train_rs, yhat_train)\n",
    "    print(\"validation\")\n",
    "    get_scores(y_val, yhat_val)\n",
    "    print(\"\\n\\n\")"
   ]
  },
  {
   "cell_type": "markdown",
   "metadata": {},
   "source": [
    "# Final Logistic Regression Model"
   ]
  },
  {
   "cell_type": "markdown",
   "metadata": {},
   "source": [
    "I got the best results by taking the baseline model and changing \"C\" to 10. Now I will fit the model and save the best threshold. I will also print the results out again."
   ]
  },
  {
   "cell_type": "code",
   "execution_count": 137,
   "metadata": {},
   "outputs": [
    {
     "data": {
      "text/plain": [
       "0.0045000000000000005"
      ]
     },
     "execution_count": 137,
     "metadata": {},
     "output_type": "execute_result"
    }
   ],
   "source": [
    "lr.set_params(C=10)\n",
    "\n",
    "lr.fit(X_train, y_train)\n",
    "\n",
    "probs_train = lr.predict_proba(X_train)[:, 1]\n",
    "probs_val = lr.predict_proba(X_val)[:, 1]\n",
    "\n",
    "find_best_threshold(y_train, probs_train)"
   ]
  },
  {
   "cell_type": "code",
   "execution_count": 138,
   "metadata": {},
   "outputs": [
    {
     "name": "stdout",
     "output_type": "stream",
     "text": [
      "training\n",
      "Recall:    0.871\n",
      "Precision: 0.334\n",
      "validation\n",
      "Recall:    0.783\n",
      "Precision: 0.294\n"
     ]
    },
    {
     "data": {
      "text/plain": [
       "''"
      ]
     },
     "execution_count": 138,
     "metadata": {},
     "output_type": "execute_result"
    }
   ],
   "source": [
    "yhat_train = apply_threshold(probs_train, 0.0045)\n",
    "yhat_val = apply_threshold(probs_val, 0.0045)\n",
    "\n",
    "print(\"training\")\n",
    "get_scores(y_train, yhat_train)\n",
    "print(\"validation\")\n",
    "get_scores(y_val, yhat_val)"
   ]
  },
  {
   "cell_type": "markdown",
   "metadata": {},
   "source": [
    "By tuning the hyper-parameters I achieved a validation score of %78 recall and %29 precision."
   ]
  }
 ],
 "metadata": {
  "kernelspec": {
   "display_name": "Python 3",
   "language": "python",
   "name": "python3"
  },
  "language_info": {
   "codemirror_mode": {
    "name": "ipython",
    "version": 3
   },
   "file_extension": ".py",
   "mimetype": "text/x-python",
   "name": "python",
   "nbconvert_exporter": "python",
   "pygments_lexer": "ipython3",
   "version": "3.7.3"
  }
 },
 "nbformat": 4,
 "nbformat_minor": 2
}
