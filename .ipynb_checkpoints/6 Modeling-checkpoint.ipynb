{
 "cells": [
  {
   "cell_type": "markdown",
   "metadata": {},
   "source": [
    "# Modeling"
   ]
  },
  {
   "cell_type": "markdown",
   "metadata": {},
   "source": [
    "In this notebook I take what I learned from the exploratory data analysis and feature engineering stages and use it to help me build machine learning models capable of classifying a transaction as normal or fraudulent. I will first import the data and engineer it. Then I will try out several machine learning models including linear models, which include logistic regression and support vector classifiers, tree based models, which include decision tree, random forest, and XGBoost classifiers, and distance based models (K-nearest-neighbors). Along the way I will look at the feature importances to see if I need to make any changes to the engineering process. The modeling process will not include scaling, as the data is most likely already scaled since the source noted the features are a product of principal component analysis. The process will however, include grid searches to hone in on the best hyper-parameters for the models. As for performance metrics, I will use f1-score for the grid search, but my main goal is high recall. The higher the recall score the fewer frauds go undetected. Recall must be balanced with precision, which is equal to the amount of true positives divided by the sum of the amount of true positives and false negatives. essentially the inverse of the rate the model falsely flags normal transactions as fraudulent. My goal is to have recall as high as possible with precision above %20. With the data being only %0.2 frauds, this will mean that I incorrectly flag a transaction as fraud %0.08 of the time."
   ]
  },
  {
   "cell_type": "markdown",
   "metadata": {},
   "source": [
    "### Road Map\n",
    "1) Engineer Data <br>\n",
    "2) Go Through Each Type of Model I Stated<br>\n",
    "3) Examine Results For Each Model<br>"
   ]
  },
  {
   "cell_type": "code",
   "execution_count": 27,
   "metadata": {},
   "outputs": [],
   "source": [
    "# import libraries\n",
    "\n",
    "# standard scientific libraries\n",
    "import numpy as np\n",
    "import pandas as pd\n",
    "import matplotlib.pyplot as plt\n",
    "\n",
    "# train-test split for validation set\n",
    "from sklearn.model_selection import StratifiedShuffleSplit\n",
    "\n",
    "# file storage\n",
    "import pickle\n",
    "\n",
    "# import the custom functions I created in feature engineering\n",
    "from custom_functions import slice_feats, resample_data, slice_resample_data\n",
    "\n",
    "# Principal component analysis\n",
    "from sklearn.decomposition import PCA\n",
    "\n",
    "# machine learning models\n",
    "# linear\n",
    "from sklearn.linear_model import LogisticRegression\n",
    "from sklearn.svm import SVC\n",
    "# tree\n",
    "from sklearn.tree import DecisionTreeClassifier\n",
    "from sklearn.ensemble import RandomForestClassifier\n",
    "from xgboost import XGBClassifier\n",
    "# distance\n",
    "from sklearn.neighbors import KNeighborsClassifier\n",
    "\n",
    "# performance metrics\n",
    "from sklearn.metrics import f1_score, precision_score, recall_score, classification_report\n",
    "\n",
    "# grid search\n",
    "from sklearn.model_selection import GridSearchCV\n",
    "\n",
    "# ignore warnings\n",
    "import warnings\n",
    "warnings.filterwarnings(\"ignore\")"
   ]
  },
  {
   "cell_type": "code",
   "execution_count": 2,
   "metadata": {},
   "outputs": [
    {
     "data": {
      "text/plain": [
       "0    0.998341\n",
       "1    0.001659\n",
       "Name: Class, dtype: float64"
      ]
     },
     "execution_count": 2,
     "metadata": {},
     "output_type": "execute_result"
    }
   ],
   "source": [
    "# load data\n",
    "train = pd.read_csv(\"train.csv\")\n",
    "test = pd.read_csv(\"test.csv\")\n",
    "\n",
    "# create a validation set using stratified shuffle split\n",
    "\n",
    "# instantiate stratified shuffle split\n",
    "sss = StratifiedShuffleSplit(test_size=0.1)\n",
    "\n",
    "# seperate X and y\n",
    "X = train.drop(\"Class\", axis=1)\n",
    "y = train.Class\n",
    "\n",
    "# find indices\n",
    "train_indices, val_indices = next(sss.split(X, y))\n",
    "\n",
    "# create validation set\n",
    "val = train.iloc[val_indices]\n",
    "train = train.iloc[train_indices]\n",
    "\n",
    "\n",
    "# preview value counts\n",
    "val.Class.value_counts(normalize=True)"
   ]
  },
  {
   "cell_type": "code",
   "execution_count": 3,
   "metadata": {},
   "outputs": [
    {
     "data": {
      "text/plain": [
       "0    0.998332\n",
       "1    0.001668\n",
       "Name: Class, dtype: float64"
      ]
     },
     "execution_count": 3,
     "metadata": {},
     "output_type": "execute_result"
    }
   ],
   "source": [
    "train.Class.value_counts(normalize=True)"
   ]
  },
  {
   "cell_type": "markdown",
   "metadata": {},
   "source": [
    "# 1. Engineer Data"
   ]
  },
  {
   "cell_type": "markdown",
   "metadata": {},
   "source": [
    "Now I will engineer the data as I did in the feature engineering stage. I will create two sets of data, one for linear models, and another for tree based models. Although I will try both sets out on each model. The process involves slicing the data down to a smaller amount of features, resampling the data with the NearMiss algorithm, and for the linear models I will perform Principal Component Analysis."
   ]
  },
  {
   "cell_type": "code",
   "execution_count": 4,
   "metadata": {},
   "outputs": [
    {
     "data": {
      "text/plain": [
       "{'linear': ['V9', 'V10', 'V11', 'V12', 'V14', 'V16', 'V17', 'V18'],\n",
       " 'tree': ['V11', 'V12', 'V14', 'V16', 'V18']}"
      ]
     },
     "execution_count": 4,
     "metadata": {},
     "output_type": "execute_result"
    }
   ],
   "source": [
    "# import lists of ideal features which were deturmined\n",
    "# in the feature engineering stage\n",
    "with open(\"feature_engineering_notes.pickle\", \"rb\") as file:\n",
    "    notes = pickle.load(file)\n",
    "    \n",
    "notes"
   ]
  },
  {
   "cell_type": "code",
   "execution_count": 6,
   "metadata": {},
   "outputs": [],
   "source": [
    "# slice and resample data. once for each set:\n",
    "# linear and tree\n",
    "lin_X_train, lin_y_train = slice_resample_data(train, notes[\"linear\"])\n",
    "tree_X_train, tree_y_train = slice_resample_data(train, notes[\"tree\"])\n",
    "\n",
    "# also set up test and validation data by slicing\n",
    "lin_X_val, lin_y_val = slice_feats(val, notes[\"linear\"])\n",
    "lin_X_test, lin_y_test = slice_feats(test, notes[\"linear\"])\n",
    "\n",
    "tree_X_val, tree_y_val = slice_feats(val, notes[\"tree\"])\n",
    "tree_X_test, tree_y_test = slice_feats(test, notes[\"tree\"])"
   ]
  },
  {
   "cell_type": "code",
   "execution_count": 7,
   "metadata": {},
   "outputs": [],
   "source": [
    "# perform principal component analysis on\n",
    "# the linear data.\n",
    "# make sure to fit to training data and\n",
    "# not to fit to validation and testing data\n",
    "pca = PCA(n_components=3)\n",
    "lin_pca_X_train = pca.fit_transform(lin_X_train)\n",
    "lin_pca_X_val = pca.transform(lin_X_val)\n",
    "lin_pca_X_test = pca.transform(lin_X_test)"
   ]
  },
  {
   "cell_type": "code",
   "execution_count": 9,
   "metadata": {},
   "outputs": [],
   "source": [
    "# put data into a dictionary to help with automation\n",
    "data = {}\n",
    "\n",
    "# linear data\n",
    "data[\"lin\"] = {\n",
    "    \"X_train\":lin_X_train,\n",
    "    \"y_train\":lin_y_train,\n",
    "    \"X_val\":lin_X_val,\n",
    "    \"y_val\":lin_y_val,\n",
    "    \"X_test\":lin_X_test,\n",
    "    \"y_test\":lin_y_test\n",
    "}\n",
    "\n",
    "# tree data\n",
    "data[\"tree\"] = {\n",
    "    \"X_train\":tree_X_train,\n",
    "    \"y_train\":tree_y_train,\n",
    "    \"X_val\":tree_X_val,\n",
    "    \"y_val\":tree_y_val,\n",
    "    \"X_test\":tree_X_test,\n",
    "    \"y_test\":tree_y_test\n",
    "}\n",
    "\n",
    "# linear data w/ PCA\n",
    "data[\"lin_pca\"] = {\n",
    "    \"X_train\":lin_pca_X_train,\n",
    "    \"y_train\":lin_y_train,\n",
    "    \"X_val\":lin_pca_X_val,\n",
    "    \"y_val\":lin_y_val,\n",
    "    \"X_test\":lin_pca_X_test,\n",
    "    \"y_test\":lin_y_test\n",
    "}"
   ]
  },
  {
   "cell_type": "markdown",
   "metadata": {},
   "source": [
    "# 2. Go Through Each Type of Model"
   ]
  },
  {
   "cell_type": "markdown",
   "metadata": {},
   "source": [
    "For each model I will try out all three types of data (data for linear models, data for tree models, and PCA transformed data for linear models). I will also conduct grid searches to find the optimal hyperparameters for the models.  Finally for each model I will examine the results and see if anything can be improved. Hyper-parameters are like settings for the model. They can be changed by the machine learning engineer, but are not impacted by the values of the data.<br><br>\n",
    "Again the models I will experiment with are:<br>\n",
    "1) Logistic Regression <br>\n",
    "2) Support Vector Classifier<br>\n",
    "3) Decision Tree<br>\n",
    "4) Random Forest<br>\n",
    "5) XGBoost Classifier<br>\n",
    "6) K-Nearest-Neighbors<br>"
   ]
  },
  {
   "cell_type": "markdown",
   "metadata": {},
   "source": [
    "## 2.1 Logistic Regression"
   ]
  },
  {
   "cell_type": "markdown",
   "metadata": {},
   "source": [
    "Logistic Regression works by setting a coefficient for each feature along with a bias (Much like slope and y intercept). It then takes a logorithm to calculate a probability. It then labels the prediction as either 1 or 0 depending on whether the probability meets a certain threshold (default threshold is 0.5). This algorithm is very simple and rather robust to overfitting. The only hyperparameter I will be tuning is the \"C\" value, which is the inverse of the learning rate (a value that deturmines how fast the coefficients are tuned)."
   ]
  },
  {
   "cell_type": "code",
   "execution_count": 16,
   "metadata": {},
   "outputs": [],
   "source": [
    "# create a function for performing a \n",
    "# grid search on each type of data\n",
    "def automated_grid_search(clf, params):\n",
    "    \n",
    "    # iterate over each type of data\n",
    "    for key in [\"lin\", \"lin_pca\", \"tree\"]:\n",
    "        \n",
    "        # fit and predict using a grid search object\n",
    "        \n",
    "        # instantiate grid search with classifier and paramater grid\n",
    "        gscv = GridSearchCV(clf, params, scoring=\"f1\")\n",
    "        \n",
    "        # fit\n",
    "        gscv.fit(data[key][\"X_train\"], data[key][\"y_train\"])\n",
    "\n",
    "        # print key\n",
    "        print(\"\\n\\n\", key, \"\\n\\n\")\n",
    "        \n",
    "        # print training f1-score\n",
    "        print(f\"Training F1-Score: {gscv.best_score_}\")\n",
    "        \n",
    "                \n",
    "        # predict\n",
    "        predictions = gscv.predict(data[key][\"X_val\"])\n",
    "        \n",
    "        # print validation f1-score\n",
    "        score = f1_score(data[key][\"y_val\"], predictions)\n",
    "        print(f\"Validation F1-Score: {score}\")\n",
    "        \n",
    "        # print parameters\n",
    "        print(f\"Best parameters {gscv.best_params_}\\n\\n\")\n",
    "        "
   ]
  },
  {
   "cell_type": "code",
   "execution_count": 17,
   "metadata": {},
   "outputs": [
    {
     "name": "stdout",
     "output_type": "stream",
     "text": [
      "\n",
      "\n",
      " lin \n",
      "\n",
      "\n",
      "Training F1-Score: 0.9249533644667342\n",
      "Validation F1-Score: 0.09887005649717513\n",
      "Best parameters {'C': 0.1}\n",
      "\n",
      "\n",
      "\n",
      "\n",
      " lin_pca \n",
      "\n",
      "\n",
      "Training F1-Score: 0.9166349900137004\n",
      "Validation F1-Score: 0.21153846153846154\n",
      "Best parameters {'C': 10}\n",
      "\n",
      "\n",
      "\n",
      "\n",
      " tree \n",
      "\n",
      "\n",
      "Training F1-Score: 0.944855039927288\n",
      "Validation F1-Score: 0.010236547240282197\n",
      "Best parameters {'C': 0.1}\n",
      "\n",
      "\n"
     ]
    },
    {
     "name": "stderr",
     "output_type": "stream",
     "text": [
      "C:\\Users\\zasz\\Anaconda3\\lib\\site-packages\\sklearn\\model_selection\\_split.py:1978: FutureWarning: The default value of cv will change from 3 to 5 in version 0.22. Specify it explicitly to silence this warning.\n",
      "  warnings.warn(CV_WARNING, FutureWarning)\n",
      "C:\\Users\\zasz\\Anaconda3\\lib\\site-packages\\sklearn\\linear_model\\logistic.py:432: FutureWarning: Default solver will be changed to 'lbfgs' in 0.22. Specify a solver to silence this warning.\n",
      "  FutureWarning)\n",
      "C:\\Users\\zasz\\Anaconda3\\lib\\site-packages\\sklearn\\linear_model\\logistic.py:432: FutureWarning: Default solver will be changed to 'lbfgs' in 0.22. Specify a solver to silence this warning.\n",
      "  FutureWarning)\n",
      "C:\\Users\\zasz\\Anaconda3\\lib\\site-packages\\sklearn\\linear_model\\logistic.py:432: FutureWarning: Default solver will be changed to 'lbfgs' in 0.22. Specify a solver to silence this warning.\n",
      "  FutureWarning)\n",
      "C:\\Users\\zasz\\Anaconda3\\lib\\site-packages\\sklearn\\linear_model\\logistic.py:432: FutureWarning: Default solver will be changed to 'lbfgs' in 0.22. Specify a solver to silence this warning.\n",
      "  FutureWarning)\n",
      "C:\\Users\\zasz\\Anaconda3\\lib\\site-packages\\sklearn\\linear_model\\logistic.py:432: FutureWarning: Default solver will be changed to 'lbfgs' in 0.22. Specify a solver to silence this warning.\n",
      "  FutureWarning)\n",
      "C:\\Users\\zasz\\Anaconda3\\lib\\site-packages\\sklearn\\linear_model\\logistic.py:432: FutureWarning: Default solver will be changed to 'lbfgs' in 0.22. Specify a solver to silence this warning.\n",
      "  FutureWarning)\n",
      "C:\\Users\\zasz\\Anaconda3\\lib\\site-packages\\sklearn\\linear_model\\logistic.py:432: FutureWarning: Default solver will be changed to 'lbfgs' in 0.22. Specify a solver to silence this warning.\n",
      "  FutureWarning)\n",
      "C:\\Users\\zasz\\Anaconda3\\lib\\site-packages\\sklearn\\linear_model\\logistic.py:432: FutureWarning: Default solver will be changed to 'lbfgs' in 0.22. Specify a solver to silence this warning.\n",
      "  FutureWarning)\n",
      "C:\\Users\\zasz\\Anaconda3\\lib\\site-packages\\sklearn\\linear_model\\logistic.py:432: FutureWarning: Default solver will be changed to 'lbfgs' in 0.22. Specify a solver to silence this warning.\n",
      "  FutureWarning)\n",
      "C:\\Users\\zasz\\Anaconda3\\lib\\site-packages\\sklearn\\linear_model\\logistic.py:432: FutureWarning: Default solver will be changed to 'lbfgs' in 0.22. Specify a solver to silence this warning.\n",
      "  FutureWarning)\n",
      "C:\\Users\\zasz\\Anaconda3\\lib\\site-packages\\sklearn\\model_selection\\_split.py:1978: FutureWarning: The default value of cv will change from 3 to 5 in version 0.22. Specify it explicitly to silence this warning.\n",
      "  warnings.warn(CV_WARNING, FutureWarning)\n",
      "C:\\Users\\zasz\\Anaconda3\\lib\\site-packages\\sklearn\\linear_model\\logistic.py:432: FutureWarning: Default solver will be changed to 'lbfgs' in 0.22. Specify a solver to silence this warning.\n",
      "  FutureWarning)\n",
      "C:\\Users\\zasz\\Anaconda3\\lib\\site-packages\\sklearn\\linear_model\\logistic.py:432: FutureWarning: Default solver will be changed to 'lbfgs' in 0.22. Specify a solver to silence this warning.\n",
      "  FutureWarning)\n",
      "C:\\Users\\zasz\\Anaconda3\\lib\\site-packages\\sklearn\\linear_model\\logistic.py:432: FutureWarning: Default solver will be changed to 'lbfgs' in 0.22. Specify a solver to silence this warning.\n",
      "  FutureWarning)\n",
      "C:\\Users\\zasz\\Anaconda3\\lib\\site-packages\\sklearn\\linear_model\\logistic.py:432: FutureWarning: Default solver will be changed to 'lbfgs' in 0.22. Specify a solver to silence this warning.\n",
      "  FutureWarning)\n",
      "C:\\Users\\zasz\\Anaconda3\\lib\\site-packages\\sklearn\\linear_model\\logistic.py:432: FutureWarning: Default solver will be changed to 'lbfgs' in 0.22. Specify a solver to silence this warning.\n",
      "  FutureWarning)\n",
      "C:\\Users\\zasz\\Anaconda3\\lib\\site-packages\\sklearn\\linear_model\\logistic.py:432: FutureWarning: Default solver will be changed to 'lbfgs' in 0.22. Specify a solver to silence this warning.\n",
      "  FutureWarning)\n",
      "C:\\Users\\zasz\\Anaconda3\\lib\\site-packages\\sklearn\\linear_model\\logistic.py:432: FutureWarning: Default solver will be changed to 'lbfgs' in 0.22. Specify a solver to silence this warning.\n",
      "  FutureWarning)\n",
      "C:\\Users\\zasz\\Anaconda3\\lib\\site-packages\\sklearn\\linear_model\\logistic.py:432: FutureWarning: Default solver will be changed to 'lbfgs' in 0.22. Specify a solver to silence this warning.\n",
      "  FutureWarning)\n",
      "C:\\Users\\zasz\\Anaconda3\\lib\\site-packages\\sklearn\\linear_model\\logistic.py:432: FutureWarning: Default solver will be changed to 'lbfgs' in 0.22. Specify a solver to silence this warning.\n",
      "  FutureWarning)\n",
      "C:\\Users\\zasz\\Anaconda3\\lib\\site-packages\\sklearn\\linear_model\\logistic.py:432: FutureWarning: Default solver will be changed to 'lbfgs' in 0.22. Specify a solver to silence this warning.\n",
      "  FutureWarning)\n",
      "C:\\Users\\zasz\\Anaconda3\\lib\\site-packages\\sklearn\\model_selection\\_split.py:1978: FutureWarning: The default value of cv will change from 3 to 5 in version 0.22. Specify it explicitly to silence this warning.\n",
      "  warnings.warn(CV_WARNING, FutureWarning)\n",
      "C:\\Users\\zasz\\Anaconda3\\lib\\site-packages\\sklearn\\linear_model\\logistic.py:432: FutureWarning: Default solver will be changed to 'lbfgs' in 0.22. Specify a solver to silence this warning.\n",
      "  FutureWarning)\n",
      "C:\\Users\\zasz\\Anaconda3\\lib\\site-packages\\sklearn\\linear_model\\logistic.py:432: FutureWarning: Default solver will be changed to 'lbfgs' in 0.22. Specify a solver to silence this warning.\n",
      "  FutureWarning)\n",
      "C:\\Users\\zasz\\Anaconda3\\lib\\site-packages\\sklearn\\linear_model\\logistic.py:432: FutureWarning: Default solver will be changed to 'lbfgs' in 0.22. Specify a solver to silence this warning.\n",
      "  FutureWarning)\n",
      "C:\\Users\\zasz\\Anaconda3\\lib\\site-packages\\sklearn\\linear_model\\logistic.py:432: FutureWarning: Default solver will be changed to 'lbfgs' in 0.22. Specify a solver to silence this warning.\n",
      "  FutureWarning)\n",
      "C:\\Users\\zasz\\Anaconda3\\lib\\site-packages\\sklearn\\linear_model\\logistic.py:432: FutureWarning: Default solver will be changed to 'lbfgs' in 0.22. Specify a solver to silence this warning.\n",
      "  FutureWarning)\n",
      "C:\\Users\\zasz\\Anaconda3\\lib\\site-packages\\sklearn\\linear_model\\logistic.py:432: FutureWarning: Default solver will be changed to 'lbfgs' in 0.22. Specify a solver to silence this warning.\n",
      "  FutureWarning)\n",
      "C:\\Users\\zasz\\Anaconda3\\lib\\site-packages\\sklearn\\linear_model\\logistic.py:432: FutureWarning: Default solver will be changed to 'lbfgs' in 0.22. Specify a solver to silence this warning.\n",
      "  FutureWarning)\n",
      "C:\\Users\\zasz\\Anaconda3\\lib\\site-packages\\sklearn\\linear_model\\logistic.py:432: FutureWarning: Default solver will be changed to 'lbfgs' in 0.22. Specify a solver to silence this warning.\n",
      "  FutureWarning)\n",
      "C:\\Users\\zasz\\Anaconda3\\lib\\site-packages\\sklearn\\linear_model\\logistic.py:432: FutureWarning: Default solver will be changed to 'lbfgs' in 0.22. Specify a solver to silence this warning.\n",
      "  FutureWarning)\n",
      "C:\\Users\\zasz\\Anaconda3\\lib\\site-packages\\sklearn\\linear_model\\logistic.py:432: FutureWarning: Default solver will be changed to 'lbfgs' in 0.22. Specify a solver to silence this warning.\n",
      "  FutureWarning)\n"
     ]
    }
   ],
   "source": [
    "# conduct grid searches\n",
    "\n",
    "# create a parameter grid using\n",
    "# \"C\" the inverse of the learning rate\n",
    "linear_params = {\n",
    "    \"C\":[0.1, 1, 10]\n",
    "}\n",
    "\n",
    "# conduct automated grid search\n",
    "# pass in a logistic regression object\n",
    "automated_grid_search(LogisticRegression(), linear_params)"
   ]
  },
  {
   "cell_type": "markdown",
   "metadata": {},
   "source": [
    "It seems that the model is over-fitting a bit with the low \"C\" parameter. I will redo the process with a different parameter grid."
   ]
  },
  {
   "cell_type": "code",
   "execution_count": 19,
   "metadata": {},
   "outputs": [
    {
     "name": "stdout",
     "output_type": "stream",
     "text": [
      "\n",
      "\n",
      " lin \n",
      "\n",
      "\n",
      "Training F1-Score: 0.9234040576370424\n",
      "Validation F1-Score: 0.07580824972129321\n",
      "Best parameters {'C': 10}\n",
      "\n",
      "\n",
      "\n",
      "\n",
      " lin_pca \n",
      "\n",
      "\n",
      "Training F1-Score: 0.9166349900137004\n",
      "Validation F1-Score: 0.21153846153846154\n",
      "Best parameters {'C': 10}\n",
      "\n",
      "\n",
      "\n",
      "\n",
      " tree \n",
      "\n",
      "\n",
      "Training F1-Score: 0.9431594881119505\n",
      "Validation F1-Score: 0.008944099378881989\n",
      "Best parameters {'C': 10}\n",
      "\n",
      "\n"
     ]
    },
    {
     "name": "stderr",
     "output_type": "stream",
     "text": [
      "C:\\Users\\zasz\\Anaconda3\\lib\\site-packages\\sklearn\\linear_model\\logistic.py:432: FutureWarning: Default solver will be changed to 'lbfgs' in 0.22. Specify a solver to silence this warning.\n",
      "  FutureWarning)\n",
      "C:\\Users\\zasz\\Anaconda3\\lib\\site-packages\\sklearn\\linear_model\\logistic.py:432: FutureWarning: Default solver will be changed to 'lbfgs' in 0.22. Specify a solver to silence this warning.\n",
      "  FutureWarning)\n",
      "C:\\Users\\zasz\\Anaconda3\\lib\\site-packages\\sklearn\\linear_model\\logistic.py:432: FutureWarning: Default solver will be changed to 'lbfgs' in 0.22. Specify a solver to silence this warning.\n",
      "  FutureWarning)\n",
      "C:\\Users\\zasz\\Anaconda3\\lib\\site-packages\\sklearn\\linear_model\\logistic.py:432: FutureWarning: Default solver will be changed to 'lbfgs' in 0.22. Specify a solver to silence this warning.\n",
      "  FutureWarning)\n",
      "C:\\Users\\zasz\\Anaconda3\\lib\\site-packages\\sklearn\\linear_model\\logistic.py:432: FutureWarning: Default solver will be changed to 'lbfgs' in 0.22. Specify a solver to silence this warning.\n",
      "  FutureWarning)\n",
      "C:\\Users\\zasz\\Anaconda3\\lib\\site-packages\\sklearn\\linear_model\\logistic.py:432: FutureWarning: Default solver will be changed to 'lbfgs' in 0.22. Specify a solver to silence this warning.\n",
      "  FutureWarning)\n",
      "C:\\Users\\zasz\\Anaconda3\\lib\\site-packages\\sklearn\\linear_model\\logistic.py:432: FutureWarning: Default solver will be changed to 'lbfgs' in 0.22. Specify a solver to silence this warning.\n",
      "  FutureWarning)\n",
      "C:\\Users\\zasz\\Anaconda3\\lib\\site-packages\\sklearn\\linear_model\\logistic.py:432: FutureWarning: Default solver will be changed to 'lbfgs' in 0.22. Specify a solver to silence this warning.\n",
      "  FutureWarning)\n",
      "C:\\Users\\zasz\\Anaconda3\\lib\\site-packages\\sklearn\\linear_model\\logistic.py:432: FutureWarning: Default solver will be changed to 'lbfgs' in 0.22. Specify a solver to silence this warning.\n",
      "  FutureWarning)\n",
      "C:\\Users\\zasz\\Anaconda3\\lib\\site-packages\\sklearn\\linear_model\\logistic.py:432: FutureWarning: Default solver will be changed to 'lbfgs' in 0.22. Specify a solver to silence this warning.\n",
      "  FutureWarning)\n",
      "C:\\Users\\zasz\\Anaconda3\\lib\\site-packages\\sklearn\\model_selection\\_split.py:1978: FutureWarning: The default value of cv will change from 3 to 5 in version 0.22. Specify it explicitly to silence this warning.\n",
      "  warnings.warn(CV_WARNING, FutureWarning)\n",
      "C:\\Users\\zasz\\Anaconda3\\lib\\site-packages\\sklearn\\linear_model\\logistic.py:432: FutureWarning: Default solver will be changed to 'lbfgs' in 0.22. Specify a solver to silence this warning.\n",
      "  FutureWarning)\n",
      "C:\\Users\\zasz\\Anaconda3\\lib\\site-packages\\sklearn\\linear_model\\logistic.py:432: FutureWarning: Default solver will be changed to 'lbfgs' in 0.22. Specify a solver to silence this warning.\n",
      "  FutureWarning)\n",
      "C:\\Users\\zasz\\Anaconda3\\lib\\site-packages\\sklearn\\linear_model\\logistic.py:432: FutureWarning: Default solver will be changed to 'lbfgs' in 0.22. Specify a solver to silence this warning.\n",
      "  FutureWarning)\n",
      "C:\\Users\\zasz\\Anaconda3\\lib\\site-packages\\sklearn\\linear_model\\logistic.py:432: FutureWarning: Default solver will be changed to 'lbfgs' in 0.22. Specify a solver to silence this warning.\n",
      "  FutureWarning)\n",
      "C:\\Users\\zasz\\Anaconda3\\lib\\site-packages\\sklearn\\linear_model\\logistic.py:432: FutureWarning: Default solver will be changed to 'lbfgs' in 0.22. Specify a solver to silence this warning.\n",
      "  FutureWarning)\n",
      "C:\\Users\\zasz\\Anaconda3\\lib\\site-packages\\sklearn\\linear_model\\logistic.py:432: FutureWarning: Default solver will be changed to 'lbfgs' in 0.22. Specify a solver to silence this warning.\n",
      "  FutureWarning)\n",
      "C:\\Users\\zasz\\Anaconda3\\lib\\site-packages\\sklearn\\linear_model\\logistic.py:432: FutureWarning: Default solver will be changed to 'lbfgs' in 0.22. Specify a solver to silence this warning.\n",
      "  FutureWarning)\n",
      "C:\\Users\\zasz\\Anaconda3\\lib\\site-packages\\sklearn\\linear_model\\logistic.py:432: FutureWarning: Default solver will be changed to 'lbfgs' in 0.22. Specify a solver to silence this warning.\n",
      "  FutureWarning)\n",
      "C:\\Users\\zasz\\Anaconda3\\lib\\site-packages\\sklearn\\linear_model\\logistic.py:432: FutureWarning: Default solver will be changed to 'lbfgs' in 0.22. Specify a solver to silence this warning.\n",
      "  FutureWarning)\n",
      "C:\\Users\\zasz\\Anaconda3\\lib\\site-packages\\sklearn\\linear_model\\logistic.py:432: FutureWarning: Default solver will be changed to 'lbfgs' in 0.22. Specify a solver to silence this warning.\n",
      "  FutureWarning)\n",
      "C:\\Users\\zasz\\Anaconda3\\lib\\site-packages\\sklearn\\model_selection\\_split.py:1978: FutureWarning: The default value of cv will change from 3 to 5 in version 0.22. Specify it explicitly to silence this warning.\n",
      "  warnings.warn(CV_WARNING, FutureWarning)\n",
      "C:\\Users\\zasz\\Anaconda3\\lib\\site-packages\\sklearn\\linear_model\\logistic.py:432: FutureWarning: Default solver will be changed to 'lbfgs' in 0.22. Specify a solver to silence this warning.\n",
      "  FutureWarning)\n",
      "C:\\Users\\zasz\\Anaconda3\\lib\\site-packages\\sklearn\\linear_model\\logistic.py:432: FutureWarning: Default solver will be changed to 'lbfgs' in 0.22. Specify a solver to silence this warning.\n",
      "  FutureWarning)\n",
      "C:\\Users\\zasz\\Anaconda3\\lib\\site-packages\\sklearn\\linear_model\\logistic.py:432: FutureWarning: Default solver will be changed to 'lbfgs' in 0.22. Specify a solver to silence this warning.\n",
      "  FutureWarning)\n",
      "C:\\Users\\zasz\\Anaconda3\\lib\\site-packages\\sklearn\\linear_model\\logistic.py:432: FutureWarning: Default solver will be changed to 'lbfgs' in 0.22. Specify a solver to silence this warning.\n",
      "  FutureWarning)\n",
      "C:\\Users\\zasz\\Anaconda3\\lib\\site-packages\\sklearn\\linear_model\\logistic.py:432: FutureWarning: Default solver will be changed to 'lbfgs' in 0.22. Specify a solver to silence this warning.\n",
      "  FutureWarning)\n",
      "C:\\Users\\zasz\\Anaconda3\\lib\\site-packages\\sklearn\\linear_model\\logistic.py:432: FutureWarning: Default solver will be changed to 'lbfgs' in 0.22. Specify a solver to silence this warning.\n",
      "  FutureWarning)\n",
      "C:\\Users\\zasz\\Anaconda3\\lib\\site-packages\\sklearn\\linear_model\\logistic.py:432: FutureWarning: Default solver will be changed to 'lbfgs' in 0.22. Specify a solver to silence this warning.\n",
      "  FutureWarning)\n",
      "C:\\Users\\zasz\\Anaconda3\\lib\\site-packages\\sklearn\\linear_model\\logistic.py:432: FutureWarning: Default solver will be changed to 'lbfgs' in 0.22. Specify a solver to silence this warning.\n",
      "  FutureWarning)\n",
      "C:\\Users\\zasz\\Anaconda3\\lib\\site-packages\\sklearn\\linear_model\\logistic.py:432: FutureWarning: Default solver will be changed to 'lbfgs' in 0.22. Specify a solver to silence this warning.\n",
      "  FutureWarning)\n",
      "C:\\Users\\zasz\\Anaconda3\\lib\\site-packages\\sklearn\\linear_model\\logistic.py:432: FutureWarning: Default solver will be changed to 'lbfgs' in 0.22. Specify a solver to silence this warning.\n",
      "  FutureWarning)\n"
     ]
    }
   ],
   "source": [
    "# set the parameter grid to have higher values\n",
    "linear_params = {\n",
    "    \"C\": [10, 50, 100]\n",
    "}\n",
    "\n",
    "# conduct grid search\n",
    "automated_grid_search(LogisticRegression(), linear_params)"
   ]
  },
  {
   "cell_type": "markdown",
   "metadata": {},
   "source": [
    "It seemsed the linear data that was PCA transformed did the best. Now I will examine to see if a precision-recall tradeoff could help. I will create a plot to show all the possible recall and precision scores on the validation set if a different probability threshold was used. I will also create a function for automating this plot in the future."
   ]
  },
  {
   "cell_type": "code",
   "execution_count": 31,
   "metadata": {},
   "outputs": [],
   "source": [
    "# create a set of functions for plotting the precision recall tradeoff\n",
    "\n",
    "# function for making predictions with an altered probability\n",
    "# threshold\n",
    "# the function will need to know what type of classifier,\n",
    "# the probability threshold we are using to predict instead of\n",
    "# the default (%50), what form of data we are using\n",
    "# (i.e. the linear data or the tree data or the PCA data),\n",
    "# as well as whether to return the training, validation, or\n",
    "# testing predictions\n",
    "def predict_using_threshold(clf, threshold, data_form, data_set):\n",
    "    \"\"\"\n",
    "    clf: a machine learning classifier\n",
    "    data_form: string representing whether data is enfineered for linear, tree, ect.\n",
    "    data_set: string representing what set to predict on (train, validation, or test)\n",
    "    \"\"\"\n",
    "    # fit classifier\n",
    "    clf.fit(data[data_form][\"X_train\"], data[data_form][\"y_train\"])\n",
    "    \n",
    "    # get probabilities\n",
    "    probabilities = clf.predict_proba(data[data_form][\"X_\" + data_set])[:, 1]\n",
    "    \n",
    "    # predict using new threshold\n",
    "    predictions = [0 if p < threshold else 1 for p in probabilities]\n",
    "    \n",
    "    return predictions\n",
    "\n",
    "# function to plot precision-recall tradeoff using the validation set\n",
    "# takes in a classifier and\n",
    "# the form of the data: i.e. lin, tree, lin_pca,\n",
    "def precision_recall_tradeoff_plot(clf, data_form):\n",
    "    \"\"\"\n",
    "    function to plot precision-recall tradeoff using the validation set\n",
    "    takes in a classifier and the form of the data. \n",
    "    eligible values: lin, tree, lin_pca,\n",
    "    \"\"\"\n",
    "    # generate 100 thesholds between 0 and 1\n",
    "    thresholds = np.linspace(0, 1, 100)\n",
    "    \n",
    "    # create a space to store precision and recall scores\n",
    "    precisions = []\n",
    "    recalls = []\n",
    "    \n",
    "    \n",
    "    # iterate over thresholds\n",
    "    for threshold in thresholds:\n",
    "        \n",
    "        # get predictions (see above function)\n",
    "        predictions = predict_using_threshold(clf, threshold, data_form, \"val\")\n",
    "        \n",
    "        # get and store precision and recall scores\n",
    "        precisions.append(precision_score(data[data_form][\"y_val\"], predictions))\n",
    "        recalls.append(recall_score(data[data_form][\"y_val\"], predictions))\n",
    "        \n",
    "        \n",
    "    # generate the final plot\n",
    "    plt.figure(figsize=(15, 5))\n",
    "    plt.plot(thresholds, precisions, label=\"precision\")\n",
    "    plt.plot(thresholds, recalls, label=\"recall\")\n",
    "    plt.xlabel(\"threshold\")\n",
    "    plt.ylabel(\"score\")\n",
    "    plt.title(\"precision_recall_tradeoff\")\n",
    "    plt.legend()\n",
    "    plt.show()"
   ]
  },
  {
   "cell_type": "code",
   "execution_count": 32,
   "metadata": {},
   "outputs": [
    {
     "data": {
      "image/png": "[encoded data removed]",
      "text/plain": [
       "<Figure size 1080x360 with 1 Axes>"
      ]
     },
     "metadata": {
      "needs_background": "light"
     },
     "output_type": "display_data"
    }
   ],
   "source": [
    "# make plot for logistic regression C=10 with linear PCA transformed data\n",
    "\n",
    "# set logistic regression parameters\n",
    "clf = LogisticRegression(C=10)\n",
    "\n",
    "# plot\n",
    "precision_recall_tradeoff_plot(clf, \"lin_pca\")"
   ]
  },
  {
   "cell_type": "markdown",
   "metadata": {},
   "source": [
    "It seems like the best threshold would be around 0.6. This way I can reach my goal of atleast %20 precision."
   ]
  },
  {
   "cell_type": "markdown",
   "metadata": {},
   "source": [
    "## 2.2 Support Vector Classifier"
   ]
  },
  {
   "cell_type": "code",
   "execution_count": null,
   "metadata": {},
   "outputs": [],
   "source": []
  }
 ],
 "metadata": {
  "kernelspec": {
   "display_name": "Python 3",
   "language": "python",
   "name": "python3"
  },
  "language_info": {
   "codemirror_mode": {
    "name": "ipython",
    "version": 3
   },
   "file_extension": ".py",
   "mimetype": "text/x-python",
   "name": "python",
   "nbconvert_exporter": "python",
   "pygments_lexer": "ipython3",
   "version": "3.7.3"
  }
 },
 "nbformat": 4,
 "nbformat_minor": 2
}
