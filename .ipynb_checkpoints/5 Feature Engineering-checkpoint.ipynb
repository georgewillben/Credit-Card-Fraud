{
 "cells": [
  {
   "cell_type": "markdown",
   "metadata": {},
   "source": [
    "# Feature Engineering"
   ]
  },
  {
   "cell_type": "markdown",
   "metadata": {},
   "source": [
    "In this notebook I take a look at the predictive capability of the features. I would normally generate new features here, but I found little to no relationships between the variables and the use of domain knowledge is limited due to the anonymous nature of the data set. Also I could tell during the exploratory data analysis stage, that the data would not benefit from log or absolute value transformations. I will use tools to resample the data as well as deturmine the most useful features. Also I will make sure the features are clear of problems such as multicolinearity."
   ]
  },
  {
   "cell_type": "markdown",
   "metadata": {},
   "source": [
    "### Road Map\n",
    "\n",
    "1) See Which Features Are Worth Using <br>\n",
    "2) Resample Data <br>\n",
    "3) Deal With Multicolinearity <br>"
   ]
  },
  {
   "cell_type": "code",
   "execution_count": 94,
   "metadata": {},
   "outputs": [],
   "source": [
    "# import libraries\n",
    "\n",
    "# standard scientific libraries\n",
    "import numpy as np\n",
    "import pandas as pd\n",
    "import matplotlib.pyplot as plt\n",
    "\n",
    "# plotting\n",
    "import seaborn as sns\n",
    "\n",
    "# resampling\n",
    "from sklearn.preprocessing import StandardScaler\n",
    "from imblearn.under_sampling import NearMiss\n",
    "\n",
    "# machine learning metrics\n",
    "from sklearn.metrics import f1_score, precision_score, recall_score\n",
    "\n",
    "# machine learning classifiers\n",
    "from sklearn.ensemble import RandomForestClassifier\n",
    "\n",
    "# PCA\n",
    "from sklearn.decomposition import PCA\n",
    "\n",
    "# time keeping\n",
    "import time\n",
    "\n",
    "# file saving\n",
    "import pickle"
   ]
  },
  {
   "cell_type": "code",
   "execution_count": 50,
   "metadata": {},
   "outputs": [
    {
     "data": {
      "text/html": [
       "<div>\n",
       "<style scoped>\n",
       "    .dataframe tbody tr th:only-of-type {\n",
       "        vertical-align: middle;\n",
       "    }\n",
       "\n",
       "    .dataframe tbody tr th {\n",
       "        vertical-align: top;\n",
       "    }\n",
       "\n",
       "    .dataframe thead th {\n",
       "        text-align: right;\n",
       "    }\n",
       "</style>\n",
       "<table border=\"1\" class=\"dataframe\">\n",
       "  <thead>\n",
       "    <tr style=\"text-align: right;\">\n",
       "      <th></th>\n",
       "      <th>V1</th>\n",
       "      <th>V2</th>\n",
       "      <th>V3</th>\n",
       "      <th>V4</th>\n",
       "      <th>V5</th>\n",
       "      <th>V6</th>\n",
       "      <th>V7</th>\n",
       "      <th>V8</th>\n",
       "      <th>V9</th>\n",
       "      <th>V10</th>\n",
       "      <th>...</th>\n",
       "      <th>V21</th>\n",
       "      <th>V22</th>\n",
       "      <th>V23</th>\n",
       "      <th>V24</th>\n",
       "      <th>V25</th>\n",
       "      <th>V26</th>\n",
       "      <th>V27</th>\n",
       "      <th>V28</th>\n",
       "      <th>Amount</th>\n",
       "      <th>Class</th>\n",
       "    </tr>\n",
       "  </thead>\n",
       "  <tbody>\n",
       "    <tr>\n",
       "      <th>0</th>\n",
       "      <td>2.238954</td>\n",
       "      <td>-1.724499</td>\n",
       "      <td>-2.151484</td>\n",
       "      <td>-2.577803</td>\n",
       "      <td>0.993668</td>\n",
       "      <td>3.565492</td>\n",
       "      <td>-1.785957</td>\n",
       "      <td>0.860122</td>\n",
       "      <td>-1.264003</td>\n",
       "      <td>1.567867</td>\n",
       "      <td>...</td>\n",
       "      <td>-0.149574</td>\n",
       "      <td>-0.049333</td>\n",
       "      <td>0.278442</td>\n",
       "      <td>0.684735</td>\n",
       "      <td>-0.219028</td>\n",
       "      <td>-0.159167</td>\n",
       "      <td>0.037920</td>\n",
       "      <td>-0.049932</td>\n",
       "      <td>3.466048</td>\n",
       "      <td>0</td>\n",
       "    </tr>\n",
       "    <tr>\n",
       "      <th>1</th>\n",
       "      <td>-1.315062</td>\n",
       "      <td>1.630783</td>\n",
       "      <td>0.597001</td>\n",
       "      <td>-0.038359</td>\n",
       "      <td>-0.404580</td>\n",
       "      <td>-0.965712</td>\n",
       "      <td>0.212249</td>\n",
       "      <td>0.735381</td>\n",
       "      <td>-1.267926</td>\n",
       "      <td>-0.482635</td>\n",
       "      <td>...</td>\n",
       "      <td>-0.238898</td>\n",
       "      <td>-0.946773</td>\n",
       "      <td>0.323904</td>\n",
       "      <td>0.515632</td>\n",
       "      <td>-0.713000</td>\n",
       "      <td>-0.266503</td>\n",
       "      <td>-0.017794</td>\n",
       "      <td>0.051058</td>\n",
       "      <td>1.945910</td>\n",
       "      <td>0</td>\n",
       "    </tr>\n",
       "    <tr>\n",
       "      <th>2</th>\n",
       "      <td>1.908801</td>\n",
       "      <td>0.021184</td>\n",
       "      <td>-2.087997</td>\n",
       "      <td>0.129310</td>\n",
       "      <td>1.161468</td>\n",
       "      <td>0.605244</td>\n",
       "      <td>-0.022371</td>\n",
       "      <td>0.180296</td>\n",
       "      <td>0.283819</td>\n",
       "      <td>-0.497766</td>\n",
       "      <td>...</td>\n",
       "      <td>0.293609</td>\n",
       "      <td>1.095842</td>\n",
       "      <td>-0.044874</td>\n",
       "      <td>-1.689517</td>\n",
       "      <td>0.106098</td>\n",
       "      <td>0.007758</td>\n",
       "      <td>0.045164</td>\n",
       "      <td>-0.053068</td>\n",
       "      <td>2.705380</td>\n",
       "      <td>0</td>\n",
       "    </tr>\n",
       "    <tr>\n",
       "      <th>3</th>\n",
       "      <td>1.811257</td>\n",
       "      <td>0.316556</td>\n",
       "      <td>0.316751</td>\n",
       "      <td>3.880231</td>\n",
       "      <td>0.048454</td>\n",
       "      <td>1.020163</td>\n",
       "      <td>-0.734868</td>\n",
       "      <td>0.233651</td>\n",
       "      <td>0.681423</td>\n",
       "      <td>1.146705</td>\n",
       "      <td>...</td>\n",
       "      <td>0.138869</td>\n",
       "      <td>0.700422</td>\n",
       "      <td>0.174064</td>\n",
       "      <td>0.702997</td>\n",
       "      <td>-0.212523</td>\n",
       "      <td>-0.010018</td>\n",
       "      <td>-0.017740</td>\n",
       "      <td>-0.038006</td>\n",
       "      <td>2.851284</td>\n",
       "      <td>0</td>\n",
       "    </tr>\n",
       "    <tr>\n",
       "      <th>4</th>\n",
       "      <td>1.358817</td>\n",
       "      <td>-1.120881</td>\n",
       "      <td>0.550266</td>\n",
       "      <td>-1.547659</td>\n",
       "      <td>-1.194950</td>\n",
       "      <td>0.275448</td>\n",
       "      <td>-1.201843</td>\n",
       "      <td>0.212889</td>\n",
       "      <td>-2.094285</td>\n",
       "      <td>1.492821</td>\n",
       "      <td>...</td>\n",
       "      <td>-0.340972</td>\n",
       "      <td>-0.636442</td>\n",
       "      <td>0.252758</td>\n",
       "      <td>-0.344160</td>\n",
       "      <td>-0.064282</td>\n",
       "      <td>-0.439622</td>\n",
       "      <td>0.062524</td>\n",
       "      <td>0.013095</td>\n",
       "      <td>3.178470</td>\n",
       "      <td>0</td>\n",
       "    </tr>\n",
       "  </tbody>\n",
       "</table>\n",
       "<p>5 rows × 30 columns</p>\n",
       "</div>"
      ],
      "text/plain": [
       "         V1        V2        V3        V4        V5        V6        V7  \\\n",
       "0  2.238954 -1.724499 -2.151484 -2.577803  0.993668  3.565492 -1.785957   \n",
       "1 -1.315062  1.630783  0.597001 -0.038359 -0.404580 -0.965712  0.212249   \n",
       "2  1.908801  0.021184 -2.087997  0.129310  1.161468  0.605244 -0.022371   \n",
       "3  1.811257  0.316556  0.316751  3.880231  0.048454  1.020163 -0.734868   \n",
       "4  1.358817 -1.120881  0.550266 -1.547659 -1.194950  0.275448 -1.201843   \n",
       "\n",
       "         V8        V9       V10  ...       V21       V22       V23       V24  \\\n",
       "0  0.860122 -1.264003  1.567867  ... -0.149574 -0.049333  0.278442  0.684735   \n",
       "1  0.735381 -1.267926 -0.482635  ... -0.238898 -0.946773  0.323904  0.515632   \n",
       "2  0.180296  0.283819 -0.497766  ...  0.293609  1.095842 -0.044874 -1.689517   \n",
       "3  0.233651  0.681423  1.146705  ...  0.138869  0.700422  0.174064  0.702997   \n",
       "4  0.212889 -2.094285  1.492821  ... -0.340972 -0.636442  0.252758 -0.344160   \n",
       "\n",
       "        V25       V26       V27       V28    Amount  Class  \n",
       "0 -0.219028 -0.159167  0.037920 -0.049932  3.466048      0  \n",
       "1 -0.713000 -0.266503 -0.017794  0.051058  1.945910      0  \n",
       "2  0.106098  0.007758  0.045164 -0.053068  2.705380      0  \n",
       "3 -0.212523 -0.010018 -0.017740 -0.038006  2.851284      0  \n",
       "4 -0.064282 -0.439622  0.062524  0.013095  3.178470      0  \n",
       "\n",
       "[5 rows x 30 columns]"
      ]
     },
     "execution_count": 50,
     "metadata": {},
     "output_type": "execute_result"
    }
   ],
   "source": [
    "# import data\n",
    "# Note: only use training data\n",
    "train = pd.read_csv(\"train.csv\")\n",
    "\n",
    "train.head()"
   ]
  },
  {
   "cell_type": "markdown",
   "metadata": {},
   "source": [
    "# 1. Deturmine Which Features are Worth Using"
   ]
  },
  {
   "cell_type": "markdown",
   "metadata": {},
   "source": [
    "I need to find which features are the most useful before resampling to maximise the amount of information saved.  To find the best columns for linear models I will create some \"brute force\" classifiers to see exactly how well each column can perform as a predictor by itself. I will simply choose a threshold for predicting fraud and non-fraud by trying 50 thresholds and then I will see which threshold gives the best f1-score. The f1-score is the harmonic mean of precision and recall. It increases when both are high and dramatically decreases when either are low. To find the best features for tree based algorithms I will create a random forest model and find the feature importances when it is trained."
   ]
  },
  {
   "cell_type": "markdown",
   "metadata": {},
   "source": [
    "### Finding Best Columns For Linear Classification"
   ]
  },
  {
   "cell_type": "code",
   "execution_count": 70,
   "metadata": {},
   "outputs": [],
   "source": [
    "# create brute force classifier\n",
    "class brute_force_classifier():\n",
    "    \n",
    "    def __init__(self):\n",
    "        self.thresholds = None\n",
    "        self.best_score = None\n",
    "        self.best_threshold = None\n",
    "        self.direction = None\n",
    "        \n",
    "    # method for returning predictions\n",
    "    # must set best_threshold and direction\n",
    "    # or call fit method before using\n",
    "    def predict(self, X):\n",
    "        \n",
    "        # depending on the direction, classify each point on whether it is greater then\n",
    "        # or less then the best threshold\n",
    "        if self.direction == \"less_then\":\n",
    "            return [1 if point < self.best_threshold else 0 for point in X]\n",
    "        elif self.direction == \"greater_then\": \n",
    "            return [1 if point > self.best_threshold else 0 for point in X]\n",
    "        else:\n",
    "            return \"error\"\n",
    "        \n",
    "        \n",
    "    \n",
    "    # method for finding best threshold\n",
    "    def fit(self, X, y):\n",
    "        \n",
    "        # create 200 threshold points\n",
    "        thresholds = np.linspace(X.min(), X.max(), 50)\n",
    "        \n",
    "        # record results for each threshold and for each direction\n",
    "        results_greater_then = []\n",
    "        results_less_then = []\n",
    "        \n",
    "        # test thresholds\n",
    "        for threshold in thresholds:\n",
    "            \n",
    "            # set current threshold to best threshold\n",
    "            self.best_threshold = threshold\n",
    "            \n",
    "            # iterate over both directions to test both\n",
    "            for current_direction in [\"less_then\", \"greater_then\"]:\n",
    "                \n",
    "                # set direction\n",
    "                self.direction = current_direction\n",
    "            \n",
    "                # get results for that threshold\n",
    "                predictions = self.predict(X)\n",
    "                \n",
    "                # save f1 score in results\n",
    "                if current_direction == \"less_then\":\n",
    "                    results_less_then.append(f1_score(y, predictions))\n",
    "                else:\n",
    "                    results_greater_then.append(f1_score(y, predictions))\n",
    "            \n",
    "        # zip results and thresholds and then form a list from the zip\n",
    "        results_thresholds = list(zip(thresholds, results_less_then, results_greater_then))\n",
    "        \n",
    "        # sort list in ascending order\n",
    "        # based on the highest f1-score for results from either direction\n",
    "        sorted_results_thresholds = sorted(results_thresholds, reverse=True, key=lambda g: max([g[1], g[2]]))\n",
    "        \n",
    "        # find and set the best threshold. It will be the first item of the first item in the sorted list\n",
    "        self.best_threshold = sorted_results_thresholds[0][0]\n",
    "        \n",
    "        # find and set the best direction for than threshold using an if else statement\n",
    "        if sorted_results_thresholds[0][1] >= sorted_results_thresholds[0][2]:\n",
    "            self.direction = \"less_then\"\n",
    "        \n",
    "        else:\n",
    "            self.direction = \"greater_then\"\n",
    "        \n",
    "            "
   ]
  },
  {
   "cell_type": "markdown",
   "metadata": {},
   "source": [
    "##### This cell took 10 minutes to run"
   ]
  },
  {
   "cell_type": "code",
   "execution_count": 71,
   "metadata": {
    "scrolled": false
   },
   "outputs": [
    {
     "name": "stdout",
     "output_type": "stream",
     "text": [
      "Column V1 completed\n",
      "Column V2 completed\n",
      "Column V3 completed\n",
      "Column V4 completed\n",
      "Column V5 completed\n",
      "Column V6 completed\n",
      "Column V7 completed\n",
      "Column V8 completed\n",
      "Column V9 completed\n",
      "Column V10 completed\n",
      "Column V11 completed\n",
      "Column V12 completed\n",
      "Column V13 completed\n",
      "Column V14 completed\n",
      "Column V15 completed\n",
      "Column V16 completed\n",
      "Column V17 completed\n",
      "Column V18 completed\n",
      "Column V19 completed\n",
      "Column V20 completed\n",
      "Column V21 completed\n",
      "Column V22 completed\n",
      "Column V23 completed\n",
      "Column V24 completed\n",
      "Column V25 completed\n",
      "Column V26 completed\n",
      "Column V27 completed\n",
      "Column V28 completed\n",
      "Column Amount completed\n",
      "This cell too 10.983333333333333 minutes to run\n"
     ]
    }
   ],
   "source": [
    "# get results from the brute force classifier for each column\n",
    "\n",
    "# start timer\n",
    "start = time.time()\n",
    "\n",
    "# record results in a dictionary\n",
    "results = {}\n",
    "\n",
    "# instantiate classifier\n",
    "clf = brute_force_classifier()\n",
    "\n",
    "# iterate over each column\n",
    "for col in train_resampled.columns:\n",
    "    \n",
    "    if col != \"Class\":\n",
    "    \n",
    "        # get X_train and y_train\n",
    "        X_train = train[col]\n",
    "        y_train = train[\"Class\"]\n",
    "\n",
    "        # fit classifier\n",
    "        clf.fit(X_train, y_train)\n",
    "        \n",
    "        # find and save score of predictions\n",
    "        predictions = clf.predict(X_train)\n",
    "        results[col] = f1_score(y_train, predictions)\n",
    "        print(f\"Column {col} completed\")\n",
    "    \n",
    "# end timer\n",
    "end = time.time()\n",
    "\n",
    "# display computation time\n",
    "expired = round(end - start)/60\n",
    "print(f\"This cell too {expired} minutes to run\")\n",
    "    "
   ]
  },
  {
   "cell_type": "code",
   "execution_count": 74,
   "metadata": {},
   "outputs": [
    {
     "data": {
      "image/png": "[encoded data removed]",
      "text/plain": [
       "<Figure size 1080x360 with 1 Axes>"
      ]
     },
     "metadata": {
      "needs_background": "light"
     },
     "output_type": "display_data"
    }
   ],
   "source": [
    "# plot results\n",
    "results = results.items()\n",
    "\n",
    "plt.figure(figsize=(15, 5))\n",
    "plt.bar([x[0] for x in results], [x[1] for x in results])\n",
    "plt.xticks(rotation=45)\n",
    "plt.title(\"brute force classifier results for each column (f1-score)\")\n",
    "plt.show()"
   ]
  },
  {
   "cell_type": "markdown",
   "metadata": {},
   "source": [
    "It seems all of the columns are performing well. We can see here that some columns are approaching an 75% f1-score on the training data just by themselves. To note, the columns that can produce a training f1-score of over 40% are:\n",
    "* V9 \n",
    "* V10\n",
    "* V11\n",
    "* V12\n",
    "* V14\n",
    "* V16\n",
    "* V17\n",
    "* V18"
   ]
  },
  {
   "cell_type": "markdown",
   "metadata": {},
   "source": [
    "### Finding Best Columns For Tree Based Classification"
   ]
  },
  {
   "cell_type": "code",
   "execution_count": 75,
   "metadata": {
    "scrolled": true
   },
   "outputs": [
    {
     "name": "stderr",
     "output_type": "stream",
     "text": [
      "C:\\Users\\zasz\\Anaconda3\\lib\\site-packages\\sklearn\\ensemble\\forest.py:245: FutureWarning: The default value of n_estimators will change from 10 in version 0.20 to 100 in 0.22.\n",
      "  \"10 in version 0.20 to 100 in 0.22.\", FutureWarning)\n"
     ]
    },
    {
     "name": "stdout",
     "output_type": "stream",
     "text": [
      "F1 Score: 0.9770580296896085\n"
     ]
    },
    {
     "data": {
      "image/png": "[encoded data removed]",
      "text/plain": [
       "<Figure size 1080x360 with 1 Axes>"
      ]
     },
     "metadata": {
      "needs_background": "light"
     },
     "output_type": "display_data"
    }
   ],
   "source": [
    "# Train a random forest model on the data\n",
    "# and plot feature importances\n",
    "\n",
    "# seperate X and y variables\n",
    "X, y = train.drop(\"Class\", axis=1), train.Class\n",
    "\n",
    "# create model\n",
    "rf = RandomForestClassifier()\n",
    "\n",
    "# train model\n",
    "rf.fit(X, y)\n",
    "\n",
    "# predict and print f1-score\n",
    "print(\"F1 Score:\", f1_score(y, rf.predict(X)))\n",
    "\n",
    "# plot feature importances\n",
    "plt.figure(figsize=(15, 5))\n",
    "plt.bar(X.columns, rf.feature_importances_)\n",
    "plt.show()\n",
    "\n",
    "\n"
   ]
  },
  {
   "cell_type": "markdown",
   "metadata": {},
   "source": [
    "It seems the best features for tree based algorithms are:\n",
    "* V11\n",
    "* V12\n",
    "* V14\n",
    "* V16\n",
    "* V18 "
   ]
  },
  {
   "cell_type": "markdown",
   "metadata": {},
   "source": [
    "Lets see if the f1-score of the classifier lowers if we only use these features."
   ]
  },
  {
   "cell_type": "code",
   "execution_count": 76,
   "metadata": {},
   "outputs": [
    {
     "name": "stdout",
     "output_type": "stream",
     "text": [
      "F1 Score: 0.9728997289972899\n"
     ]
    }
   ],
   "source": [
    "# see if the f1-score of the random forest model\n",
    "# increases if we only use certain features\n",
    "\n",
    "# create a list of features to use\n",
    "feats = [\"V11\", \"V12\", \"V14\", \"V16\", \"V18\"]\n",
    "\n",
    "# seperate X and y variables\n",
    "X, y = train[feats], train.Class\n",
    "\n",
    "# train model\n",
    "rf.fit(X, y)\n",
    "\n",
    "# predict and print f1-score\n",
    "print(\"F1 Score:\", f1_score(y, rf.predict(X)))"
   ]
  },
  {
   "cell_type": "markdown",
   "metadata": {},
   "source": [
    "The score dropped, but only by a fraction of a percent. I think the information saved during the resampling process is worth it."
   ]
  },
  {
   "cell_type": "markdown",
   "metadata": {},
   "source": [
    "# 2. Resample Data"
   ]
  },
  {
   "cell_type": "markdown",
   "metadata": {},
   "source": [
    "Having unbalanced data is bad for machine learning algorithms. It induces bias because the algorithms are updated for every row they are trained on and the updates for failure will be much more frequent then the updates for success whenever the model predicts a fraud. This ultimately will make the model perform sub-optimaly. Resampling the data will make it balanced. I will be using the \"NearMiss\" algorithm which will remove non-fraud data points until there are equal amounts of fraud and non-fraud transactions in the data. I will be making one set of data for linear models and another for tree based models. The NearMiss algorithm is distance based. It first finds the distance between each point. Then it finds the points that belong to the majority class that are, on average, the farthest distance away from the points in the manority class. It then removes those points from the majority class one-by-one until the two classes have the same amount of points. This means only the members of the majority class in the closest proximity to the minority class will be saved, thus saving the most information. Since NearMiss is a machine learning model and uses distance it is ussually a good idea to scale the data and remove any unneccesary features. Another important thing to note is that resampled data should never be used for testing, only for training. After the data is resampled it will better expose it to testing and finding multicolinearity. "
   ]
  },
  {
   "cell_type": "code",
   "execution_count": 80,
   "metadata": {
    "scrolled": true
   },
   "outputs": [
    {
     "data": {
      "text/plain": [
       "array([ -3.67806834,  -8.40024875,   5.95937808,  -8.63385091,\n",
       "        -9.74508771,  -8.41679886, -16.5133029 ,  -5.96002263])"
      ]
     },
     "execution_count": 80,
     "metadata": {},
     "output_type": "execute_result"
    }
   ],
   "source": [
    "# scale and resample data for linear models & tree based models\n",
    "\n",
    "# create lists of features to use\n",
    "linear_feats = [\"V9\", \"V10\", \"V11\", \"V12\", \"V14\", \"V16\", \"V17\", \"V18\"]\n",
    "tree_feats = feats # see above\n",
    "\n",
    "# seperate X and y for both linear and tree data\n",
    "lin = train[linear_feats]\n",
    "tree = train[tree_feats]\n",
    "y = train[\"Class\"]\n",
    "\n",
    "# instantiate scaler\n",
    "sc = StandardScaler()\n",
    "\n",
    "# fit the scaler and transform data\n",
    "lin_scaled = sc.fit_transform(lin)\n",
    "tree_scaled = sc.fit_transform(tree)\n",
    "\n",
    "# instantiate NearMiss object\n",
    "nm = NearMiss()\n",
    "\n",
    "# fit the NearMiss object and resample the scaled data\n",
    "lin_resampled_X, lin_resampled_y = nm.fit_resample(lin_scaled, y)\n",
    "tree_resampled_X, tree_resampled_y = nm.fit_resample(tree_scaled, y)\n",
    "\n",
    "# preview\n",
    "lin_resampled_X[0]"
   ]
  },
  {
   "cell_type": "code",
   "execution_count": 85,
   "metadata": {},
   "outputs": [
    {
     "data": {
      "text/html": [
       "<div>\n",
       "<style scoped>\n",
       "    .dataframe tbody tr th:only-of-type {\n",
       "        vertical-align: middle;\n",
       "    }\n",
       "\n",
       "    .dataframe tbody tr th {\n",
       "        vertical-align: top;\n",
       "    }\n",
       "\n",
       "    .dataframe thead th {\n",
       "        text-align: right;\n",
       "    }\n",
       "</style>\n",
       "<table border=\"1\" class=\"dataframe\">\n",
       "  <thead>\n",
       "    <tr style=\"text-align: right;\">\n",
       "      <th></th>\n",
       "      <th>V9</th>\n",
       "      <th>V10</th>\n",
       "      <th>V11</th>\n",
       "      <th>V12</th>\n",
       "      <th>V14</th>\n",
       "      <th>V16</th>\n",
       "      <th>V17</th>\n",
       "      <th>V18</th>\n",
       "      <th>Class</th>\n",
       "    </tr>\n",
       "  </thead>\n",
       "  <tbody>\n",
       "    <tr>\n",
       "      <th>0</th>\n",
       "      <td>-3.678068</td>\n",
       "      <td>-8.400249</td>\n",
       "      <td>5.959378</td>\n",
       "      <td>-8.633851</td>\n",
       "      <td>-9.745088</td>\n",
       "      <td>-8.416799</td>\n",
       "      <td>-16.513303</td>\n",
       "      <td>-5.960023</td>\n",
       "      <td>0</td>\n",
       "    </tr>\n",
       "    <tr>\n",
       "      <th>1</th>\n",
       "      <td>-3.375507</td>\n",
       "      <td>-7.543599</td>\n",
       "      <td>4.441372</td>\n",
       "      <td>-6.363447</td>\n",
       "      <td>-6.340336</td>\n",
       "      <td>-6.608705</td>\n",
       "      <td>-14.092201</td>\n",
       "      <td>-5.668981</td>\n",
       "      <td>0</td>\n",
       "    </tr>\n",
       "    <tr>\n",
       "      <th>2</th>\n",
       "      <td>-2.226931</td>\n",
       "      <td>-5.796245</td>\n",
       "      <td>2.992998</td>\n",
       "      <td>-6.667537</td>\n",
       "      <td>-8.122772</td>\n",
       "      <td>-5.146786</td>\n",
       "      <td>-8.854262</td>\n",
       "      <td>-3.086046</td>\n",
       "      <td>0</td>\n",
       "    </tr>\n",
       "    <tr>\n",
       "      <th>3</th>\n",
       "      <td>0.778759</td>\n",
       "      <td>-0.892710</td>\n",
       "      <td>-0.528973</td>\n",
       "      <td>0.761151</td>\n",
       "      <td>-1.928080</td>\n",
       "      <td>0.105837</td>\n",
       "      <td>1.178461</td>\n",
       "      <td>0.092992</td>\n",
       "      <td>0</td>\n",
       "    </tr>\n",
       "    <tr>\n",
       "      <th>4</th>\n",
       "      <td>0.711126</td>\n",
       "      <td>-1.089782</td>\n",
       "      <td>-0.335093</td>\n",
       "      <td>0.268991</td>\n",
       "      <td>-2.248194</td>\n",
       "      <td>0.071832</td>\n",
       "      <td>1.944641</td>\n",
       "      <td>0.493046</td>\n",
       "      <td>0</td>\n",
       "    </tr>\n",
       "  </tbody>\n",
       "</table>\n",
       "</div>"
      ],
      "text/plain": [
       "         V9       V10       V11       V12       V14       V16        V17  \\\n",
       "0 -3.678068 -8.400249  5.959378 -8.633851 -9.745088 -8.416799 -16.513303   \n",
       "1 -3.375507 -7.543599  4.441372 -6.363447 -6.340336 -6.608705 -14.092201   \n",
       "2 -2.226931 -5.796245  2.992998 -6.667537 -8.122772 -5.146786  -8.854262   \n",
       "3  0.778759 -0.892710 -0.528973  0.761151 -1.928080  0.105837   1.178461   \n",
       "4  0.711126 -1.089782 -0.335093  0.268991 -2.248194  0.071832   1.944641   \n",
       "\n",
       "        V18  Class  \n",
       "0 -5.960023      0  \n",
       "1 -5.668981      0  \n",
       "2 -3.086046      0  \n",
       "3  0.092992      0  \n",
       "4  0.493046      0  "
      ]
     },
     "execution_count": 85,
     "metadata": {},
     "output_type": "execute_result"
    }
   ],
   "source": [
    "# place resampled data back into a dataframe\n",
    "\n",
    "\n",
    "# create function to put arrays back into dataframe format\n",
    "def to_dataframe(X, y, feat_names):\n",
    "    \"\"\"Function takes in two arrays and column names then returns a dataframe\n",
    "    X: a 2D array holding feature data\n",
    "    y: a 1D array holding target data\n",
    "    feat_names: A list of strings holding column names for X\"\"\"\n",
    "    \n",
    "    # create dataframes\n",
    "    X_df = pd.DataFrame(X, columns=feat_names)\n",
    "    y_df = pd.Series(y, name=\"Class\")\n",
    "    \n",
    "    # concat and return\n",
    "    return pd.concat([X_df, y_df], axis=1)\n",
    "\n",
    "# call function\n",
    "lin_df_rs = to_dataframe(lin_resampled_X, lin_resampled_y, linear_feats)\n",
    "tree_df_rs = to_dataframe(tree_resampled_X, tree_resampled_y, tree_feats)\n",
    "\n",
    "# preview \n",
    "lin_df_rs.head()"
   ]
  },
  {
   "cell_type": "code",
   "execution_count": 98,
   "metadata": {},
   "outputs": [
    {
     "data": {
      "text/plain": [
       "1    378\n",
       "0    378\n",
       "Name: Class, dtype: int64"
      ]
     },
     "execution_count": 98,
     "metadata": {},
     "output_type": "execute_result"
    }
   ],
   "source": [
    "# double check value counts\n",
    "lin_df_rs.Class.value_counts()"
   ]
  },
  {
   "cell_type": "code",
   "execution_count": 88,
   "metadata": {
    "scrolled": true
   },
   "outputs": [
    {
     "data": {
      "text/plain": [
       "1    378\n",
       "0    378\n",
       "Name: Class, dtype: int64"
      ]
     },
     "execution_count": 88,
     "metadata": {},
     "output_type": "execute_result"
    }
   ],
   "source": [
    "tree_df_rs.Class.value_counts()"
   ]
  },
  {
   "cell_type": "markdown",
   "metadata": {},
   "source": [
    "# 3. Dealing with multicolinearity"
   ]
  },
  {
   "cell_type": "markdown",
   "metadata": {},
   "source": [
    "Now that the data has been resampled, I will be able to see which features, if any, suffer from multicolinearity. Multicolinearity is when two features have a linear relationship, i.e. if one goes up the other almost always goes up/down. Multicolinearity is a problem for linear models because linear models work by tuning a coefficient for each variable and having two near identical variables introduces a bit of bias. To find the multicolinearity I can calculate each dataframes Pearson's Correlation and plot these values in a heatmap."
   ]
  },
  {
   "cell_type": "code",
   "execution_count": 92,
   "metadata": {},
   "outputs": [
    {
     "data": {
      "image/png": "[encoded data removed]",
      "text/plain": [
       "<Figure size 1080x1080 with 2 Axes>"
      ]
     },
     "metadata": {
      "needs_background": "light"
     },
     "output_type": "display_data"
    }
   ],
   "source": [
    "# find multicolinearity for linear data\n",
    "\n",
    "# calculate correlations between variables\n",
    "corr = abs(lin_df_rs.corr())\n",
    "\n",
    "# plot data using heatmap\n",
    "plt.figure(figsize=(15, 15))\n",
    "sns.heatmap(corr, annot=True)\n",
    "plt.title(\"Multicolinearity for Linear Features\")\n",
    "plt.show()"
   ]
  },
  {
   "cell_type": "markdown",
   "metadata": {},
   "source": [
    "Since the multicolinearity is so high, I will expiriment with Principal Component Analysis. PCA is an unsupervised learning technique which takes multiple features and morphs them into one, saving as much information as possible using Eigen-Vectors. Since there are three features not correlated with one another I will set the n_components parameter of the PCA model to 3. Meaning it will return a matrix with three columns."
   ]
  },
  {
   "cell_type": "code",
   "execution_count": 100,
   "metadata": {},
   "outputs": [],
   "source": [
    "# transform data with PCA\n",
    "\n",
    "# instantiate PCA model\n",
    "# set n_components to 3\n",
    "pca = PCA(n_components=3)\n",
    "\n",
    "# split X and y for linear resampled data\n",
    "lin_rs_X = lin_df_rs.drop(\"Class\", axis = 1)\n",
    "lin_rs_y = lin_df_rs.Class\n",
    "\n",
    "# fit and transform the linear resampled data\n",
    "lin_rs_pca_X = pca.fit_transform(lin_rs_X)"
   ]
  },
  {
   "cell_type": "code",
   "execution_count": 103,
   "metadata": {
    "scrolled": true
   },
   "outputs": [
    {
     "data": {
      "image/png": "[encoded data removed]",
      "text/plain": [
       "<Figure size 1080x1080 with 2 Axes>"
      ]
     },
     "metadata": {
      "needs_background": "light"
     },
     "output_type": "display_data"
    }
   ],
   "source": [
    "# fit data back into dataframe\n",
    "lin_pca_df = to_dataframe(lin_rs_pca_X, lin_rs_y, [\"feat_1\", \"feat_2\", \"feat_3\"])\n",
    "\n",
    "# re-examine multicolinearity\n",
    "\n",
    "# calculate correlations between variables\n",
    "corr = abs(lin_pca_df.corr())\n",
    "\n",
    "# plot data using heatmap\n",
    "plt.figure(figsize=(15, 15))\n",
    "sns.heatmap(corr, annot=True)\n",
    "plt.title(\"Multicolinearity for Linear Features\")\n",
    "plt.show()"
   ]
  },
  {
   "cell_type": "markdown",
   "metadata": {},
   "source": [
    "It seems the data has been well engineered. It is time to move on to the modeling stage. I have notes on what I have learned here that I need to save. \n",
    "* the linear features\n",
    "* the tree features\n",
    "* the n_components for PCA should be 3"
   ]
  },
  {
   "cell_type": "code",
   "execution_count": 104,
   "metadata": {},
   "outputs": [],
   "source": [
    "# save the features lists in a dictionary \n",
    "# save that dictionary in a pickle file\n",
    "\n",
    "# organize dictionary\n",
    "feats = {\n",
    "    \"linear\":linear_feats,\n",
    "    \"tree\":tree_feats\n",
    "}\n",
    "\n",
    "# pickleing\n",
    "out_file = feats\n",
    "with open(\"feature_engineering_notes.pickle\", \"wb\") as file_path:\n",
    "    pickle.dump(feats, file_path)\n",
    "    file_path.close()"
   ]
  }
 ],
 "metadata": {
  "kernelspec": {
   "display_name": "Python 3",
   "language": "python",
   "name": "python3"
  },
  "language_info": {
   "codemirror_mode": {
    "name": "ipython",
    "version": 3
   },
   "file_extension": ".py",
   "mimetype": "text/x-python",
   "name": "python",
   "nbconvert_exporter": "python",
   "pygments_lexer": "ipython3",
   "version": "3.7.3"
  }
 },
 "nbformat": 4,
 "nbformat_minor": 2
}
