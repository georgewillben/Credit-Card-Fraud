{
 "cells": [
  {
   "cell_type": "markdown",
   "metadata": {},
   "source": [
    "# Feature Engineering"
   ]
  },
  {
   "cell_type": "markdown",
   "metadata": {},
   "source": [
    "In this notebook I take a look at the predictive capability of the features. I would normally generate new features here, but I found little to no relationships between the variables and the use of domain knowledge is limited due to the anonymous nature of the data set. Also I could tell during the exploratory data analysis stage, that the data would not benefit from log or absolute value transformations. I will use tools to resample the data as well as deturmine the most useful features. Also I will make sure the features are clear of problems such as multicolinearity. Finally I will save code to automate the process, which will be useful in the modeling stage."
   ]
  },
  {
   "cell_type": "markdown",
   "metadata": {},
   "source": [
    "### Road Map\n",
    "\n",
    "1) See Which Features Are Worth Using <br>\n",
    "2) Resample Data <br>\n",
    "3) Deal With Multicolinearity <br>\n",
    "4) Save Code To Automate Process"
   ]
  },
  {
   "cell_type": "code",
   "execution_count": 29,
   "metadata": {},
   "outputs": [],
   "source": [
    "# import libraries\n",
    "\n",
    "# standard scientific libraries\n",
    "import numpy as np\n",
    "import pandas as pd\n",
    "import matplotlib.pyplot as plt\n",
    "\n",
    "# plotting\n",
    "import seaborn as sns\n",
    "\n",
    "# splitting\n",
    "from sklearn.model_selection import StratifiedShuffleSplit\n",
    "\n",
    "# resampling\n",
    "from imblearn.under_sampling import NearMiss\n",
    "\n",
    "# machine learning metrics\n",
    "from sklearn.metrics import f1_score, precision_score, recall_score, classification_report\n",
    "\n",
    "# machine learning classifiers\n",
    "from sklearn.linear_model import LogisticRegression\n",
    "from sklearn.ensemble import RandomForestClassifier\n",
    "\n",
    "# PCA\n",
    "from sklearn.decomposition import PCA\n",
    "\n",
    "# time keeping\n",
    "import time\n",
    "\n",
    "# file saving\n",
    "import pickle"
   ]
  },
  {
   "cell_type": "code",
   "execution_count": 31,
   "metadata": {},
   "outputs": [
    {
     "name": "stdout",
     "output_type": "stream",
     "text": [
      "0    0.998332\n",
      "1    0.001668\n",
      "Name: Class, dtype: float64\n",
      "0    0.998341\n",
      "1    0.001659\n",
      "Name: Class, dtype: float64\n"
     ]
    },
    {
     "data": {
      "text/plain": [
       "((217050, 30), (24117, 30))"
      ]
     },
     "execution_count": 31,
     "metadata": {},
     "output_type": "execute_result"
    }
   ],
   "source": [
    "# import data\n",
    "train = pd.read_csv(\"train.csv\")\n",
    "\n",
    "# make a validation set\n",
    "sss = StratifiedShuffleSplit(test_size=0.1)\n",
    "X, y = train.drop(\"Class\", axis=1), train.Class\n",
    "train_indices, val_indices = next(sss.split(X, y))\n",
    "\n",
    "val = train.iloc[val_indices]\n",
    "train = train.iloc[train_indices]\n",
    "\n",
    "# check value counts and shape\n",
    "print(train.Class.value_counts(normalize=True))\n",
    "print(val.Class.value_counts(normalize=True))\n",
    "train.shape, val.shape"
   ]
  },
  {
   "cell_type": "markdown",
   "metadata": {},
   "source": [
    "# 1. Deturmine Which Features are Worth Using"
   ]
  },
  {
   "cell_type": "markdown",
   "metadata": {},
   "source": [
    "I need to find which features are the most useful before resampling to maximise the amount of information saved.  To find the best columns for linear models I will create some \"brute force\" classifiers to see exactly how well each column can perform as a predictor by itself. I will simply choose a threshold for predicting fraud and non-fraud by trying 20 thresholds and then I will see which threshold gives the best f1-score. The f1-score is the harmonic mean of precision and recall. It increases when both are high and dramatically decreases when either are low. To find the best features for tree based algorithms I will create a random forest model and find the feature importances when it is trained."
   ]
  },
  {
   "cell_type": "markdown",
   "metadata": {},
   "source": [
    "### Finding Best Columns For Linear Classification"
   ]
  },
  {
   "cell_type": "code",
   "execution_count": 65,
   "metadata": {
    "scrolled": true
   },
   "outputs": [
    {
     "name": "stderr",
     "output_type": "stream",
     "text": [
      "C:\\Users\\zasz\\Anaconda3\\lib\\site-packages\\sklearn\\linear_model\\logistic.py:432: FutureWarning: Default solver will be changed to 'lbfgs' in 0.22. Specify a solver to silence this warning.\n",
      "  FutureWarning)\n"
     ]
    },
    {
     "name": "stdout",
     "output_type": "stream",
     "text": [
      "Training Scores: \n",
      "               precision    recall  f1-score   support\n",
      "\n",
      "           0       1.00      1.00      1.00    216688\n",
      "           1       0.89      0.63      0.74       362\n",
      "\n",
      "    accuracy                           1.00    217050\n",
      "   macro avg       0.95      0.81      0.87    217050\n",
      "weighted avg       1.00      1.00      1.00    217050\n",
      "\n",
      "Validation Scores: \n",
      "               precision    recall  f1-score   support\n",
      "\n",
      "           0       1.00      1.00      1.00     24077\n",
      "           1       0.82      0.57      0.68        40\n",
      "\n",
      "    accuracy                           1.00     24117\n",
      "   macro avg       0.91      0.79      0.84     24117\n",
      "weighted avg       1.00      1.00      1.00     24117\n",
      "\n"
     ]
    }
   ],
   "source": [
    "# instantiate logistic regression classifier\n",
    "lr = LogisticRegression()\n",
    "\n",
    "\n",
    "# seperate X and y variables for train and val\n",
    "X_train, y_train = train.drop(\"Class\", axis=1), train.Class\n",
    "X_val, y_val = val.drop(\"Class\", axis=1), val.Class\n",
    "\n",
    "# fit \n",
    "lr.fit(X_train, y_train)\n",
    "\n",
    "# predict\n",
    "predictions_train = lr.predict(X_train)\n",
    "predictions_val = lr.predict(X_val)\n",
    "\n",
    "# print results\n",
    "print(f\"Training Scores: \\n {classification_report(y_train, predictions_train)}\")\n",
    "print(f\"Validation Scores: \\n {classification_report(y_val, predictions_val)}\")"
   ]
  },
  {
   "cell_type": "code",
   "execution_count": 69,
   "metadata": {},
   "outputs": [
    {
     "data": {
      "image/png": "[encoded data removed]",
      "text/plain": [
       "<Figure size 1080x360 with 1 Axes>"
      ]
     },
     "metadata": {
      "needs_background": "light"
     },
     "output_type": "display_data"
    }
   ],
   "source": [
    "# plot coefficients\n",
    "plt.figure(figsize=(15, 5))\n",
    "plt.bar(train.drop(\"Class\", axis=1).columns, abs(lr.coef_[0]))\n",
    "plt.xticks(rotation=45)\n",
    "plt.show()"
   ]
  },
  {
   "cell_type": "markdown",
   "metadata": {},
   "source": [
    "The columns with the highest magnitude coefficients are\n",
    "* V4\n",
    "* V9\n",
    "* V10 \n",
    "* V13\n",
    "* V14\n",
    "* V20\n",
    "* V21\n",
    "* V22\n",
    "* V24\n",
    "* V27\n",
    "* V28"
   ]
  },
  {
   "cell_type": "markdown",
   "metadata": {},
   "source": [
    "### Finding Best Columns For Tree Based Classification"
   ]
  },
  {
   "cell_type": "code",
   "execution_count": 71,
   "metadata": {
    "scrolled": false
   },
   "outputs": [
    {
     "name": "stderr",
     "output_type": "stream",
     "text": [
      "C:\\Users\\zasz\\Anaconda3\\lib\\site-packages\\sklearn\\ensemble\\forest.py:245: FutureWarning: The default value of n_estimators will change from 10 in version 0.20 to 100 in 0.22.\n",
      "  \"10 in version 0.20 to 100 in 0.22.\", FutureWarning)\n"
     ]
    },
    {
     "name": "stdout",
     "output_type": "stream",
     "text": [
      "Training Scores: \n",
      "               precision    recall  f1-score   support\n",
      "\n",
      "           0       1.00      1.00      1.00    216688\n",
      "           1       1.00      0.97      0.99       362\n",
      "\n",
      "    accuracy                           1.00    217050\n",
      "   macro avg       1.00      0.99      0.99    217050\n",
      "weighted avg       1.00      1.00      1.00    217050\n",
      "\n",
      "Validation Scores: \n",
      "               precision    recall  f1-score   support\n",
      "\n",
      "           0       1.00      1.00      1.00     24077\n",
      "           1       0.91      0.72      0.81        40\n",
      "\n",
      "    accuracy                           1.00     24117\n",
      "   macro avg       0.95      0.86      0.90     24117\n",
      "weighted avg       1.00      1.00      1.00     24117\n",
      "\n"
     ]
    }
   ],
   "source": [
    "# Train a random forest model on the data\n",
    "# and plot feature importances\n",
    "\n",
    "\n",
    "# create model\n",
    "rf = RandomForestClassifier()\n",
    "\n",
    "# fit\n",
    "rf.fit(X_train, y_train)\n",
    "\n",
    "# predict\n",
    "predictions_train = rf.predict(X_train)\n",
    "predictions_val = rf.predict(X_val)\n",
    "\n",
    "# print results\n",
    "print(f\"Training Scores: \\n {classification_report(y_train, predictions_train)}\")\n",
    "print(f\"Validation Scores: \\n {classification_report(y_val, predictions_val)}\")"
   ]
  },
  {
   "cell_type": "code",
   "execution_count": 73,
   "metadata": {},
   "outputs": [
    {
     "data": {
      "image/png": "[encoded data removed]",
      "text/plain": [
       "<Figure size 1080x360 with 1 Axes>"
      ]
     },
     "metadata": {
      "needs_background": "light"
     },
     "output_type": "display_data"
    }
   ],
   "source": [
    "# plot feature importances\n",
    "plt.figure(figsize=(15, 5))\n",
    "plt.bar(train.drop(\"Class\", axis=1).columns, abs(rf.feature_importances_))\n",
    "plt.xticks(rotation=45)\n",
    "plt.show()"
   ]
  },
  {
   "cell_type": "markdown",
   "metadata": {},
   "source": [
    "It seems the best features for tree based algorithms are:\n",
    "* V9\n",
    "* V11\n",
    "* V12\n",
    "* V14\n",
    "* V16\n",
    "* V18 "
   ]
  },
  {
   "cell_type": "markdown",
   "metadata": {},
   "source": [
    "Lets see if the f1-score of the classifier lowers if we only use these features."
   ]
  },
  {
   "cell_type": "code",
   "execution_count": 7,
   "metadata": {},
   "outputs": [
    {
     "ename": "NameError",
     "evalue": "name 'rf' is not defined",
     "output_type": "error",
     "traceback": [
      "\u001b[1;31m---------------------------------------------------------------------------\u001b[0m",
      "\u001b[1;31mNameError\u001b[0m                                 Traceback (most recent call last)",
      "\u001b[1;32m<ipython-input-7-d5672a807f82>\u001b[0m in \u001b[0;36m<module>\u001b[1;34m\u001b[0m\n\u001b[0;32m      9\u001b[0m \u001b[1;33m\u001b[0m\u001b[0m\n\u001b[0;32m     10\u001b[0m \u001b[1;31m# train model\u001b[0m\u001b[1;33m\u001b[0m\u001b[1;33m\u001b[0m\u001b[1;33m\u001b[0m\u001b[0m\n\u001b[1;32m---> 11\u001b[1;33m \u001b[0mrf\u001b[0m\u001b[1;33m.\u001b[0m\u001b[0mfit\u001b[0m\u001b[1;33m(\u001b[0m\u001b[0mX\u001b[0m\u001b[1;33m,\u001b[0m \u001b[0my\u001b[0m\u001b[1;33m)\u001b[0m\u001b[1;33m\u001b[0m\u001b[1;33m\u001b[0m\u001b[0m\n\u001b[0m\u001b[0;32m     12\u001b[0m \u001b[1;33m\u001b[0m\u001b[0m\n\u001b[0;32m     13\u001b[0m \u001b[1;31m# predict and print f1-score\u001b[0m\u001b[1;33m\u001b[0m\u001b[1;33m\u001b[0m\u001b[1;33m\u001b[0m\u001b[0m\n",
      "\u001b[1;31mNameError\u001b[0m: name 'rf' is not defined"
     ]
    }
   ],
   "source": [
    "# see if the f1-score of the random forest model\n",
    "# increases if we only use certain features\n",
    "\n",
    "# create a list of features to use\n",
    "feats = [\"V11\", \"V12\", \"V14\", \"V16\", \"V18\"]\n",
    "\n",
    "# seperate X and y variables\n",
    "X, y = train[feats], train.Class\n",
    "\n",
    "# train model\n",
    "rf.fit(X, y)\n",
    "\n",
    "# predict and print f1-score\n",
    "print(\"F1 Score:\", f1_score(y, rf.predict(X)))"
   ]
  },
  {
   "cell_type": "markdown",
   "metadata": {},
   "source": [
    "The score dropped, but only by a fraction of a percent. I think the information saved during the resampling process is worth it."
   ]
  },
  {
   "cell_type": "markdown",
   "metadata": {},
   "source": [
    "# 2. Resample Data"
   ]
  },
  {
   "cell_type": "markdown",
   "metadata": {},
   "source": [
    "Having unbalanced data is bad for machine learning algorithms. It induces bias because the algorithms are updated for every row they are trained on and the updates for failure will be much more frequent then the updates for success whenever the model predicts a fraud. This ultimately will make the model perform sub-optimaly. Resampling the data will make it balanced. I will be using the \"NearMiss\" algorithm which will remove non-fraud data points until there are equal amounts of fraud and non-fraud transactions in the data. I will be making one set of data for linear models and another for tree based models. The NearMiss algorithm is distance based. It first finds the distance between each point. Then it finds the points that belong to the majority class that are, on average, the farthest distance away from the points in the manority class. It then removes those points from the majority class one-by-one until the two classes have the same amount of points. This means only the members of the majority class in the closest proximity to the minority class will be saved, thus saving the most information. Since NearMiss is a machine learning model and uses distance it is ussually a good idea to scale the data and remove any unneccesary features. This dataset is a product of PCA so I am assuming it is already scaled. Another important thing to note is that resampled data should never be used for testing, only for training. After the data is resampled it will better expose it to testing and finding multicolinearity. The data is extremely imbalanced, but the random forest still performs decently well. I will try resampling it to a 1:5 ratio instead of a 1:200 ratio in order to save as much information as possible."
   ]
  },
  {
   "cell_type": "code",
   "execution_count": 20,
   "metadata": {
    "scrolled": false
   },
   "outputs": [
    {
     "name": "stdout",
     "output_type": "stream",
     "text": [
      "0    0.809659\n",
      "1    0.190341\n",
      "Name: Class, dtype: float64\n",
      "0    0.808023\n",
      "1    0.191977\n",
      "Name: Class, dtype: float64\n"
     ]
    },
    {
     "data": {
      "text/html": [
       "<div>\n",
       "<style scoped>\n",
       "    .dataframe tbody tr th:only-of-type {\n",
       "        vertical-align: middle;\n",
       "    }\n",
       "\n",
       "    .dataframe tbody tr th {\n",
       "        vertical-align: top;\n",
       "    }\n",
       "\n",
       "    .dataframe thead th {\n",
       "        text-align: right;\n",
       "    }\n",
       "</style>\n",
       "<table border=\"1\" class=\"dataframe\">\n",
       "  <thead>\n",
       "    <tr style=\"text-align: right;\">\n",
       "      <th></th>\n",
       "      <th>V9</th>\n",
       "      <th>V10</th>\n",
       "      <th>V11</th>\n",
       "      <th>V12</th>\n",
       "      <th>V14</th>\n",
       "      <th>V16</th>\n",
       "      <th>V17</th>\n",
       "      <th>V18</th>\n",
       "      <th>Class</th>\n",
       "    </tr>\n",
       "  </thead>\n",
       "  <tbody>\n",
       "    <tr>\n",
       "      <th>0</th>\n",
       "      <td>-0.130495</td>\n",
       "      <td>0.251334</td>\n",
       "      <td>1.326568</td>\n",
       "      <td>-0.366401</td>\n",
       "      <td>-1.811128</td>\n",
       "      <td>1.845579</td>\n",
       "      <td>1.198149</td>\n",
       "      <td>0.045919</td>\n",
       "      <td>0</td>\n",
       "    </tr>\n",
       "    <tr>\n",
       "      <th>1</th>\n",
       "      <td>-0.127199</td>\n",
       "      <td>0.258039</td>\n",
       "      <td>1.359009</td>\n",
       "      <td>-0.306869</td>\n",
       "      <td>-1.799307</td>\n",
       "      <td>1.857997</td>\n",
       "      <td>1.189583</td>\n",
       "      <td>0.076910</td>\n",
       "      <td>0</td>\n",
       "    </tr>\n",
       "    <tr>\n",
       "      <th>2</th>\n",
       "      <td>-0.114641</td>\n",
       "      <td>0.268470</td>\n",
       "      <td>1.347001</td>\n",
       "      <td>-0.344255</td>\n",
       "      <td>-1.789682</td>\n",
       "      <td>1.858848</td>\n",
       "      <td>1.192985</td>\n",
       "      <td>0.081665</td>\n",
       "      <td>0</td>\n",
       "    </tr>\n",
       "    <tr>\n",
       "      <th>3</th>\n",
       "      <td>-0.126422</td>\n",
       "      <td>0.221884</td>\n",
       "      <td>1.348434</td>\n",
       "      <td>-0.340135</td>\n",
       "      <td>-1.767038</td>\n",
       "      <td>1.872040</td>\n",
       "      <td>1.195950</td>\n",
       "      <td>0.102157</td>\n",
       "      <td>0</td>\n",
       "    </tr>\n",
       "    <tr>\n",
       "      <th>4</th>\n",
       "      <td>-0.171270</td>\n",
       "      <td>0.168550</td>\n",
       "      <td>1.352489</td>\n",
       "      <td>-0.286154</td>\n",
       "      <td>-1.800278</td>\n",
       "      <td>1.861412</td>\n",
       "      <td>1.195286</td>\n",
       "      <td>0.063650</td>\n",
       "      <td>0</td>\n",
       "    </tr>\n",
       "  </tbody>\n",
       "</table>\n",
       "</div>"
      ],
      "text/plain": [
       "         V9       V10       V11       V12       V14       V16       V17  \\\n",
       "0 -0.130495  0.251334  1.326568 -0.366401 -1.811128  1.845579  1.198149   \n",
       "1 -0.127199  0.258039  1.359009 -0.306869 -1.799307  1.857997  1.189583   \n",
       "2 -0.114641  0.268470  1.347001 -0.344255 -1.789682  1.858848  1.192985   \n",
       "3 -0.126422  0.221884  1.348434 -0.340135 -1.767038  1.872040  1.195950   \n",
       "4 -0.171270  0.168550  1.352489 -0.286154 -1.800278  1.861412  1.195286   \n",
       "\n",
       "        V18  Class  \n",
       "0  0.045919      0  \n",
       "1  0.076910      0  \n",
       "2  0.081665      0  \n",
       "3  0.102157      0  \n",
       "4  0.063650      0  "
      ]
     },
     "execution_count": 20,
     "metadata": {},
     "output_type": "execute_result"
    }
   ],
   "source": [
    "# scale and resample data for linear models & tree based models\n",
    "\n",
    "# create lists of features to use\n",
    "linear_feats = [\"V9\", \"V10\", \"V11\", \"V12\", \"V14\", \"V16\", \"V17\", \"V18\"]\n",
    "tree_feats = feats # see above\n",
    "\n",
    "\n",
    "# create duplicates of fraud using random sampling to make\n",
    "# it 40 times larger\n",
    "# the data will end up with a 1:5 ratio of frauds and non frauds\n",
    "# i will use random sampling for this\n",
    "fraud = train[train.Class == 1]\n",
    "upsampled_train = train\n",
    "for i in range(10):\n",
    "    sample = fraud.sample(frac=0.33)\n",
    "    upsampled_train = pd.concat([upsampled_train, sample], axis=0)\n",
    "\n",
    "# seperate X and y for both linear and tree data\n",
    "lin = upsampled_train[linear_feats]\n",
    "tree = upsampled_train[tree_feats]\n",
    "y = upsampled_train[\"Class\"]\n",
    "\n",
    "# skip scaling\n",
    "\n",
    "\n",
    "\n",
    "# instantiate NearMiss object\n",
    "nm = NearMiss()\n",
    "\n",
    "# fit the NearMiss object and resample the scaled data\n",
    "lin_resampled_X, lin_resampled_y = nm.fit_resample(lin, y)\n",
    "tree_resampled_X, tree_resampled_y = nm.fit_resample(tree, y)\n",
    "\n",
    "\n",
    "# create function to put arrays back into dataframe format\n",
    "def to_dataframe(X, y, feat_names):\n",
    "    \"\"\"Function takes in two arrays and column names then returns a dataframe\n",
    "    X: a 2D array holding feature data\n",
    "    y: a 1D array holding target data\n",
    "    feat_names: A list of strings holding column names for X\"\"\"\n",
    "    \n",
    "    # create dataframes\n",
    "    X_df = pd.DataFrame(X, columns=feat_names)\n",
    "    y_df = pd.Series(y, name=\"Class\")\n",
    "    \n",
    "    # concat and return\n",
    "    return pd.concat([X_df, y_df], axis=1)\n",
    "\n",
    "\n",
    "# place resampled data back into a dataframe\n",
    "lin_resampled = to_dataframe(lin_resampled_X, lin_resampled_y, linear_feats)\n",
    "tree_resampled = to_dataframe(tree_resampled_X, tree_resampled_y, tree_feats)\n",
    "\n",
    "# drop duplicates\n",
    "lin_resampled = lin_resampled.drop_duplicates()\n",
    "tree_resampled = tree_resampled.drop_duplicates()\n",
    "\n",
    "# preview\n",
    "print(lin_resampled.Class.value_counts(normalize=True))\n",
    "print(tree_resampled.Class.value_counts(normalize=True))\n",
    "lin_resampled.head()"
   ]
  },
  {
   "cell_type": "markdown",
   "metadata": {},
   "source": [
    "Now lets test the resampled data with a logistic regression model, and a random forest"
   ]
  },
  {
   "cell_type": "code",
   "execution_count": 28,
   "metadata": {},
   "outputs": [
    {
     "name": "stderr",
     "output_type": "stream",
     "text": [
      "C:\\Users\\zasz\\Anaconda3\\lib\\site-packages\\sklearn\\linear_model\\logistic.py:432: FutureWarning: Default solver will be changed to 'lbfgs' in 0.22. Specify a solver to silence this warning.\n",
      "  FutureWarning)\n",
      "C:\\Users\\zasz\\Anaconda3\\lib\\site-packages\\sklearn\\linear_model\\logistic.py:432: FutureWarning: Default solver will be changed to 'lbfgs' in 0.22. Specify a solver to silence this warning.\n",
      "  FutureWarning)\n",
      "C:\\Users\\zasz\\Anaconda3\\lib\\site-packages\\sklearn\\linear_model\\logistic.py:432: FutureWarning: Default solver will be changed to 'lbfgs' in 0.22. Specify a solver to silence this warning.\n",
      "  FutureWarning)\n"
     ]
    },
    {
     "name": "stdout",
     "output_type": "stream",
     "text": [
      "Classifier Logistic Regression\n",
      "Dataset: linear resampled\n",
      "Results \n",
      "               precision    recall  f1-score   support\n",
      "\n",
      "           0       0.96      0.99      0.98      1710\n",
      "           1       0.97      0.84      0.90       402\n",
      "\n",
      "    accuracy                           0.97      2112\n",
      "   macro avg       0.97      0.92      0.94      2112\n",
      "weighted avg       0.97      0.97      0.96      2112\n",
      "\n",
      "Classifier Logistic Regression\n",
      "Dataset: tree resampled\n",
      "Results \n",
      "               precision    recall  f1-score   support\n",
      "\n",
      "           0       0.96      0.99      0.98      1692\n",
      "           1       0.97      0.84      0.90       402\n",
      "\n",
      "    accuracy                           0.96      2094\n",
      "   macro avg       0.97      0.92      0.94      2094\n",
      "weighted avg       0.96      0.96      0.96      2094\n",
      "\n",
      "Classifier Logistic Regression\n",
      "Dataset: non-engineered\n",
      "Results \n",
      "               precision    recall  f1-score   support\n",
      "\n",
      "           0       1.00      1.00      1.00    240765\n",
      "           1       0.88      0.62      0.73       402\n",
      "\n",
      "    accuracy                           1.00    241167\n",
      "   macro avg       0.94      0.81      0.87    241167\n",
      "weighted avg       1.00      1.00      1.00    241167\n",
      "\n",
      "Classifier Random Forest\n",
      "Dataset: linear resampled\n",
      "Results \n",
      "               precision    recall  f1-score   support\n",
      "\n",
      "           0       1.00      1.00      1.00      1710\n",
      "           1       1.00      0.99      0.99       402\n",
      "\n",
      "    accuracy                           1.00      2112\n",
      "   macro avg       1.00      0.99      0.99      2112\n",
      "weighted avg       1.00      1.00      1.00      2112\n",
      "\n",
      "Classifier Random Forest\n",
      "Dataset: tree resampled\n",
      "Results \n",
      "               precision    recall  f1-score   support\n",
      "\n",
      "           0       0.99      1.00      1.00      1692\n",
      "           1       1.00      0.96      0.98       402\n",
      "\n",
      "    accuracy                           0.99      2094\n",
      "   macro avg       0.99      0.98      0.99      2094\n",
      "weighted avg       0.99      0.99      0.99      2094\n",
      "\n"
     ]
    },
    {
     "name": "stderr",
     "output_type": "stream",
     "text": [
      "C:\\Users\\zasz\\Anaconda3\\lib\\site-packages\\sklearn\\ensemble\\forest.py:245: FutureWarning: The default value of n_estimators will change from 10 in version 0.20 to 100 in 0.22.\n",
      "  \"10 in version 0.20 to 100 in 0.22.\", FutureWarning)\n"
     ]
    },
    {
     "name": "stdout",
     "output_type": "stream",
     "text": [
      "Classifier Random Forest\n",
      "Dataset: non-engineered\n",
      "Results \n",
      "               precision    recall  f1-score   support\n",
      "\n",
      "           0       1.00      1.00      1.00    240765\n",
      "           1       1.00      0.94      0.97       402\n",
      "\n",
      "    accuracy                           1.00    241167\n",
      "   macro avg       1.00      0.97      0.98    241167\n",
      "weighted avg       1.00      1.00      1.00    241167\n",
      "\n"
     ]
    }
   ],
   "source": [
    "# instantiate classifiers\n",
    "lr = LogisticRegression()\n",
    "rf = RandomForestClassifier()\n",
    "\n",
    "# loop over classifiers\n",
    "for clf, clf_name in zip([lr, rf], [\"Logistic Regression\", \"Random Forest\"]):\n",
    "    # nested loop over different versions of the data\n",
    "    for data_set, data_set_name in zip([lin_resampled, tree_resampled, train],\n",
    "                                       [\"linear resampled\",\"tree resampled\", \"non-engineered\"]):\n",
    "        \n",
    "        # seperate X and y\n",
    "        X = data_set.drop(\"Class\", axis=1)\n",
    "        y = data_set.Class\n",
    "        \n",
    "        # fit classifier\n",
    "        clf.fit(X, y)\n",
    "        \n",
    "        # make predictions\n",
    "        predictions = clf.predict(X)\n",
    "        \n",
    "        # display results\n",
    "        print(f\"Classifier {clf_name}\")\n",
    "        print(f\"Dataset: {data_set_name}\")\n",
    "        print(f\"Results \\n {classification_report(y, predictions)}\")\n",
    "                                       "
   ]
  },
  {
   "cell_type": "markdown",
   "metadata": {},
   "source": [
    "# 3. Dealing with multicolinearity"
   ]
  },
  {
   "cell_type": "markdown",
   "metadata": {},
   "source": [
    "Now that the data has been resampled, I will be able to see which features, if any, suffer from multicolinearity. Multicolinearity is when two features have a linear relationship, i.e. if one goes up the other almost always goes up/down. Multicolinearity is a problem for linear models because linear models work by tuning a coefficient for each variable and having two near identical variables introduces a bit of bias. To find the multicolinearity I can calculate each dataframes Pearson's Correlation and plot these values in a heatmap."
   ]
  },
  {
   "cell_type": "code",
   "execution_count": 25,
   "metadata": {},
   "outputs": [
    {
     "data": {
      "image/png": "[encoded data removed]",
      "text/plain": [
       "<Figure size 1080x1080 with 2 Axes>"
      ]
     },
     "metadata": {
      "needs_background": "light"
     },
     "output_type": "display_data"
    }
   ],
   "source": [
    "# find multicolinearity for linear data\n",
    "\n",
    "# calculate correlations between variables\n",
    "corr = abs(lin_df_rs.corr())\n",
    "\n",
    "# plot data using heatmap\n",
    "plt.figure(figsize=(15, 15))\n",
    "sns.heatmap(corr, annot=True)\n",
    "plt.title(\"Multicolinearity for Linear Features\")\n",
    "plt.show()"
   ]
  },
  {
   "cell_type": "markdown",
   "metadata": {},
   "source": [
    "Since the multicolinearity is so high, I will expiriment with Principal Component Analysis. PCA is an unsupervised learning technique which takes multiple features and morphs them into one, saving as much information as possible using Eigen-Vectors. Since there are three features not correlated with one another I will set the n_components parameter of the PCA model to 3. Meaning it will return a matrix with three columns."
   ]
  },
  {
   "cell_type": "code",
   "execution_count": 26,
   "metadata": {},
   "outputs": [],
   "source": [
    "# transform data with PCA\n",
    "\n",
    "# instantiate PCA model\n",
    "# set n_components to 3\n",
    "pca = PCA(n_components=3)\n",
    "\n",
    "# split X and y for linear resampled data\n",
    "lin_rs_X = lin_df_rs.drop(\"Class\", axis = 1)\n",
    "lin_rs_y = lin_df_rs.Class\n",
    "\n",
    "# fit and transform the linear resampled data\n",
    "lin_rs_pca_X = pca.fit_transform(lin_rs_X)"
   ]
  },
  {
   "cell_type": "code",
   "execution_count": 27,
   "metadata": {
    "scrolled": true
   },
   "outputs": [
    {
     "data": {
      "image/png": "[encoded data removed]",
      "text/plain": [
       "<Figure size 1080x1080 with 2 Axes>"
      ]
     },
     "metadata": {
      "needs_background": "light"
     },
     "output_type": "display_data"
    }
   ],
   "source": [
    "# fit data back into dataframe\n",
    "lin_pca_df = to_dataframe(lin_rs_pca_X, lin_rs_y, [\"feat_1\", \"feat_2\", \"feat_3\"])\n",
    "\n",
    "# re-examine multicolinearity\n",
    "\n",
    "# calculate correlations between variables\n",
    "corr = abs(lin_pca_df.corr())\n",
    "\n",
    "# plot data using heatmap\n",
    "plt.figure(figsize=(15, 15))\n",
    "sns.heatmap(corr, annot=True)\n",
    "plt.title(\"Multicolinearity for Linear Features\")\n",
    "plt.show()"
   ]
  },
  {
   "cell_type": "markdown",
   "metadata": {},
   "source": [
    "# 4. Save Code For Automation"
   ]
  },
  {
   "cell_type": "markdown",
   "metadata": {},
   "source": [
    "It seems the data has been well engineered. It is time to move on to the modeling stage. I have notes on what I have learned here that I need to save in a file I will call \"feature_engineering_notes.pickle\". \n",
    "* the linear features\n",
    "* the tree features\n",
    "* the n_components for PCA should be 3"
   ]
  },
  {
   "cell_type": "code",
   "execution_count": 104,
   "metadata": {},
   "outputs": [],
   "source": [
    "# save the features lists in a dictionary \n",
    "# save that dictionary in a pickle file\n",
    "\n",
    "# organize dictionary\n",
    "feats = {\n",
    "    \"linear\":linear_feats,\n",
    "    \"tree\":tree_feats\n",
    "}\n",
    "\n",
    "# pickleing\n",
    "out_file = feats\n",
    "with open(\"feature_engineering_notes.pickle\", \"wb\") as file_path:\n",
    "    pickle.dump(feats, file_path)\n",
    "    file_path.close()"
   ]
  },
  {
   "cell_type": "markdown",
   "metadata": {},
   "source": [
    "Now I will save the code for engineering the data in a .py file called \"custom_functions.py\". This way it can all be prepared from function calls. Below is all the code that will be put into the file."
   ]
  },
  {
   "cell_type": "code",
   "execution_count": 28,
   "metadata": {},
   "outputs": [],
   "source": [
    "# functions I am going to save in a .py file called \"custom_functions.py\"\n",
    "\n",
    "# function for seperating out desired features\n",
    "def slice_feats(dataframe, feat_names):\n",
    "    \"\"\"This function takes in a dataframe and a list of the desired feature's names.\n",
    "    It then slices those features out of the dataframe and returns the dataframes X and y values\"\"\"\n",
    "    import pandas as pd\n",
    "    \n",
    "    sliced_dataframe = dataframe[feat_names + [\"Class\"]]\n",
    "    \n",
    "    return sliced_dataframe.drop(\"Class\", axis=1), sliced_dataframe.Class\n",
    "    \n",
    "    \n",
    "    \n",
    "\n",
    "# Function for resampling\n",
    "def resample_data(X, y):\n",
    "    \"\"\"This function takes in the X and y values for the training set.\n",
    "    Then it resamples the data. Finally it returns the new\n",
    "    X and y values\"\"\"\n",
    "    \n",
    "    from imblearn.under_sampling import NearMiss\n",
    "    \n",
    "    nm = NearMiss()\n",
    "    \n",
    "    return nm.fit_resample(X, y)\n",
    "\n",
    "def slice_resample(dataframe, feat_names):\n",
    "    \"\"\"This function takes in a dataframe and a list of the desired feature's names. \n",
    "    It then slices the correct features out of the dataframe and splits it into X and y \n",
    "    variables. Then it resamples the data using the NearMiss algorithm. Finally it returns \n",
    "    the resampled data as X and y variables\"\"\"\n",
    "    \n",
    "    X, y = slice_feats(dataframe, feat_names)\n",
    "    \n",
    "    return resample_data(X, y)"
   ]
  },
  {
   "cell_type": "code",
   "execution_count": null,
   "metadata": {},
   "outputs": [],
   "source": []
  }
 ],
 "metadata": {
  "kernelspec": {
   "display_name": "Python 3",
   "language": "python",
   "name": "python3"
  },
  "language_info": {
   "codemirror_mode": {
    "name": "ipython",
    "version": 3
   },
   "file_extension": ".py",
   "mimetype": "text/x-python",
   "name": "python",
   "nbconvert_exporter": "python",
   "pygments_lexer": "ipython3",
   "version": "3.7.3"
  }
 },
 "nbformat": 4,
 "nbformat_minor": 2
}
