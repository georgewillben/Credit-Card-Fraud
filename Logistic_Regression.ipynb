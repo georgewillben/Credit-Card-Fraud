{
 "cells": [
  {
   "cell_type": "markdown",
   "metadata": {},
   "source": [
    "# Logistic Regression Modeling"
   ]
  },
  {
   "cell_type": "markdown",
   "metadata": {},
   "source": [
    "## Objectives\n",
    "* Load data\n",
    "* Tune hyper parameters for each version of the data\n",
    "* Select a model\n",
    "* Examine results\n",
    "* Save results\n",
    "\n",
    "## Tools Used\n",
    "* Pickle\n",
    "* Numpy\n",
    "* Pandas\n",
    "* Matplotlib\n",
    "* Sklearn\n",
    "* Imblearn"
   ]
  },
  {
   "cell_type": "markdown",
   "metadata": {},
   "source": [
    "#### Load data"
   ]
  },
  {
   "cell_type": "markdown",
   "metadata": {},
   "source": [
    "I will start by importing the necessary libraries."
   ]
  },
  {
   "cell_type": "code",
   "execution_count": 1,
   "metadata": {
    "scrolled": true
   },
   "outputs": [],
   "source": [
    "import pickle\n",
    "import numpy as np\n",
    "import pandas as pd\n",
    "import matplotlib.pyplot as plt\n",
    "from sklearn.linear_model import LogisticRegression\n",
    "from sklearn.preprocessing import MinMaxScaler, StandardScaler, RobustScaler\n",
    "from imblearn.over_sampling import SMOTE\n",
    "from sklearn.decomposition import PCA\n",
    "from sklearn.metrics import classification_report, precision_recall_curve, auc, precision_score, recall_score\n",
    "from sklearn.model_selection import StratifiedShuffleSplit\n",
    "import time\n",
    "from modeling_functions import *\n",
    "\n",
    "import warnings\n",
    "warnings.filterwarnings(\"ignore\") "
   ]
  },
  {
   "cell_type": "markdown",
   "metadata": {},
   "source": [
    "## Pickle"
   ]
  },
  {
   "cell_type": "code",
   "execution_count": 2,
   "metadata": {
    "scrolled": false
   },
   "outputs": [
    {
     "name": "stdout",
     "output_type": "stream",
     "text": [
      "(14275, 53) (42721, 53) (42722, 53) (14275,) (42721,) (42722,)\n"
     ]
    }
   ],
   "source": [
    "# Load data\n",
    "pickle_in = open(\"engineered_data.pickle\", \"rb\")\n",
    "df = pickle.load(pickle_in)\n",
    "pickle_in.close()\n",
    "\n",
    "X_train, X_val, X_test, y_train, y_val, y_test = train_val_test_split(df)\n",
    "\n",
    "\n",
    "# combine train, val and test data\n",
    "X = pd.concat([X_train, X_val, X_test], axis=0)\n",
    "y = pd.concat([y_train, y_val, y_test], axis=0)\n"
   ]
  },
  {
   "cell_type": "code",
   "execution_count": 3,
   "metadata": {
    "scrolled": true
   },
   "outputs": [
    {
     "name": "stdout",
     "output_type": "stream",
     "text": [
      "[('s1_r1_o1', 19), ('s1_r1_o3', 18), ('s1_r2_o1', 17), ('s1_r2_o3', 16), ('s2_r1_o1', 26), ('s2_r1_o3', 26), ('s2_r2_o1', 21), ('s2_r2_o3', 22), ('s3_r1_o1', 23), ('s3_r1_o3', 25), ('s3_r2_o1', 17), ('s3_r2_o3', 20)]\n"
     ]
    }
   ],
   "source": [
    "# Load data\n",
    "pickle_in = open(\"olr_keys_n_components.pickle\", \"rb\")\n",
    "olr_keys_n_components = list(pickle.load(pickle_in))\n",
    "pickle_in.close()\n",
    "\n",
    "# Sanity Check\n",
    "print(olr_keys_n_components)"
   ]
  },
  {
   "cell_type": "markdown",
   "metadata": {},
   "source": [
    "## Tune hyperparameters"
   ]
  },
  {
   "cell_type": "markdown",
   "metadata": {},
   "source": [
    "My goal for this project is to create a model that can help alert a credit lender to suspicious activity. <br><br>\n",
    "\n",
    "For this reason I want to have low false negatives, so I will be using recall as my main metric. High recall will mean a low amount of fradulent transactions are left undetected. <br><br>\n",
    "\n",
    "My second metric will be precision because I do not want false positives either. low precision would cause the model to flag too large an amount of the data as likely to be fraudulent. If the credit lender chose to take preventative action on say, every other transaction, then that would be a nuisance to both the credit lender and the clients. <br><br>\n",
    "\n",
    "However precision does not need to be nearly as high as recall. If recall was say %80 then I would have potentially stopped %80 percent of fraud and if precision was say %20 then less than 1 out of 100 transactions would be flagged as suspicous to fraud, because in this dataset fraud accounts for %0.17 percent of the data I was  given. <br><br> \n",
    "\n",
    "F1-score is the harmonic mean of recall and precision. It is not the best metric to use though because it is important that recall is high, but precision can get away with being much lower.<br><br>\n",
    "\n",
    "The metrics mentioned above are calculated by comparing the known values to the model's predicted values. The simplified formulas for precision and recall are showed below. \n",
    "<img src=\"../Images/Precision_Recall.png\"><br>\n",
    "<a href=\"https://towardsdatascience.com/accuracy-precision-recall-or-f1-331fb37c5cb9\">Image Source</a> \n",
    "<br><br>"
   ]
  },
  {
   "cell_type": "markdown",
   "metadata": {},
   "source": [
    "To tune the hyperparameters I will use my own function called customGridSearch. It has a doc string attached. The function will go through the data transforming it according to the function's parameters and return the cross validation scores for each method as well as for the best combination of parameters."
   ]
  },
  {
   "cell_type": "markdown",
   "metadata": {},
   "source": [
    "## LogisticRegression"
   ]
  },
  {
   "cell_type": "code",
   "execution_count": 5,
   "metadata": {
    "scrolled": false
   },
   "outputs": [],
   "source": [
    "# Instantiate logistic regression classifer\n",
    "clf = LogisticRegression()\n",
    "\n",
    "# Create parameter grid\n",
    "params = { \n",
    "    'C': [0.1, 1, 10, 100]\n",
    "}"
   ]
  },
  {
   "cell_type": "markdown",
   "metadata": {},
   "source": [
    "Warning the following cell 5 took minutes to run!"
   ]
  },
  {
   "cell_type": "code",
   "execution_count": 6,
   "metadata": {},
   "outputs": [
    {
     "name": "stdout",
     "output_type": "stream",
     "text": [
      "Min-Max ~~~~~~~~~~~~~~~~~~~~~~~~~~~~~~~~~~~~~~~~~~~~~~~~~~~~~~~~~~~~~~~~~~~~~~~~~~~\n",
      "{'C': 0.1} \n",
      " recall: 0.8750213128729752 \n",
      " precision: 0.7867899067128847 \n",
      " f1-score: 0.8280091533262617 \n",
      "precision-recall auc: 0.8865608070586735 \n",
      "\n",
      "Standard ~~~~~~~~~~~~~~~~~~~~~~~~~~~~~~~~~~~~~~~~~~~~~~~~~~~~~~~~~~~~~~~~~~~~~~~~~~~\n",
      "{'C': 0.1} \n",
      " recall: 0.8982523444160273 \n",
      " precision: 0.4820032875057826 \n",
      " f1-score: 0.6264944565514112 \n",
      "precision-recall auc: 0.8853058634962251 \n",
      "\n",
      "Robust ~~~~~~~~~~~~~~~~~~~~~~~~~~~~~~~~~~~~~~~~~~~~~~~~~~~~~~~~~~~~~~~~~~~~~~~~~~~\n",
      "{'C': 0.1} \n",
      " recall: 0.8982523444160273 \n",
      " precision: 0.47655802256288193 \n",
      " f1-score: 0.622222391182054 \n",
      "precision-recall auc: 0.89162182861962 \n",
      "\n",
      "0.4567742904027303\n"
     ]
    }
   ],
   "source": [
    "# Tune hyperparameters for all scalers \n",
    "# Implementing SMOTE\n",
    "# No outliers removed\n",
    "# No PCA\n",
    "\n",
    "t1 = time.time()\n",
    "\n",
    "# Record results\n",
    "results_o1 = {}\n",
    "scaler_str = [\"Min-Max\", \"Standard\", \"Robust\"]\n",
    "for n, scaler in enumerate([MinMaxScaler(), StandardScaler(), RobustScaler()]):\n",
    "    print(scaler_str[n], '~~~~~~~~~~~~~~~~~~~~~~~~~~~~~~~~~~~~~~~~~~~~~~~~~~~~~~~~~~~~~~~~~~~~~~~~~~~')\n",
    "    results_o1[scaler_str[n]] = customGridSearchCV(clf, params, X_train, y_train, \"f1\", scaler, SMOTE())\n",
    "    \n",
    "t2 = time.time()\n",
    "\n",
    "print((t2 - t1)/60)"
   ]
  },
  {
   "cell_type": "markdown",
   "metadata": {},
   "source": [
    "Warning: The following cell took 4 minutes to run!"
   ]
  },
  {
   "cell_type": "code",
   "execution_count": 7,
   "metadata": {},
   "outputs": [
    {
     "name": "stdout",
     "output_type": "stream",
     "text": [
      "Min-Max ~~~~~~~~~~~~~~~~~~~~~~~~~~~~~~~~~~~~~~~~~~~~~~~~~~~~~~~~~~~~~~~~~~~~~~~~~~~\n",
      "{'C': 0.1} \n",
      " recall: 0.8692242114236999 \n",
      " precision: 0.7135323562075788 \n",
      " f1-score: 0.7785583980420229 \n",
      "precision-recall auc: 0.882131763297331 \n",
      "\n",
      "Standard ~~~~~~~~~~~~~~~~~~~~~~~~~~~~~~~~~~~~~~~~~~~~~~~~~~~~~~~~~~~~~~~~~~~~~~~~~~~\n",
      "{'C': 0.1} \n",
      " recall: 0.9563938618925831 \n",
      " precision: 0.06438639582039819 \n",
      " f1-score: 0.1204935439696484 \n",
      "precision-recall auc: 0.7950283347765318 \n",
      "\n",
      "Robust ~~~~~~~~~~~~~~~~~~~~~~~~~~~~~~~~~~~~~~~~~~~~~~~~~~~~~~~~~~~~~~~~~~~~~~~~~~~\n",
      "{'C': 0.1} \n",
      " recall: 0.9389599317988064 \n",
      " precision: 0.0901057654780483 \n",
      " f1-score: 0.16416664524050092 \n",
      "precision-recall auc: 0.8045911405538465 \n",
      "\n",
      "0.42619407971700035\n"
     ]
    }
   ],
   "source": [
    "# Tune hyperparameters for all scalers \n",
    "# Implementing SMOTE\n",
    "# outliers removed\n",
    "# No PCA\n",
    "\n",
    "t1 = time.time()\n",
    "\n",
    "# Record results\n",
    "results_o3 = {}\n",
    "scaler_str = [\"Min-Max\", \"Standard\", \"Robust\"]\n",
    "for n, scaler in enumerate([MinMaxScaler(), StandardScaler(), RobustScaler()]):\n",
    "    print(scaler_str[n], '~~~~~~~~~~~~~~~~~~~~~~~~~~~~~~~~~~~~~~~~~~~~~~~~~~~~~~~~~~~~~~~~~~~~~~~~~~~')\n",
    "    results_o3[scaler_str[n]] = customGridSearchCV(clf, params, X_train, y_train, \"f1\", scaler, SMOTE(), outlier_removal=True)\n",
    "    \n",
    "t2 = time.time()\n",
    "\n",
    "print((t2 - t1)/60)"
   ]
  },
  {
   "cell_type": "markdown",
   "metadata": {},
   "source": [
    "Warning: The following cell took 8 minutes to run!"
   ]
  },
  {
   "cell_type": "code",
   "execution_count": 8,
   "metadata": {
    "scrolled": false
   },
   "outputs": [
    {
     "name": "stdout",
     "output_type": "stream",
     "text": [
      "Min-Max ~~~~~~~~~~~~~~~~~~~~~~~~~~~~~~~~~~~~~~~~~~~~~~~~~~~~~~~~~~~~~~~~~~~~~~~~~~~\n",
      "{'C': 0.1} \n",
      " recall: 0.8140238704177323 \n",
      " precision: 0.7335598011804908 \n",
      " f1-score: 0.7709598787046008 \n",
      "precision-recall auc: 0.8399004850711247 \n",
      "\n",
      "Standard ~~~~~~~~~~~~~~~~~~~~~~~~~~~~~~~~~~~~~~~~~~~~~~~~~~~~~~~~~~~~~~~~~~~~~~~~~~~\n",
      "{'C': 0.1} \n",
      " recall: 0.8895140664961637 \n",
      " precision: 0.4866441757100867 \n",
      " f1-score: 0.6286064369174902 \n",
      "precision-recall auc: 0.8810108703806309 \n",
      "\n",
      "Robust ~~~~~~~~~~~~~~~~~~~~~~~~~~~~~~~~~~~~~~~~~~~~~~~~~~~~~~~~~~~~~~~~~~~~~~~~~~~\n",
      "{'C': 0.1} \n",
      " recall: 0.901150895140665 \n",
      " precision: 0.47535990265452954 \n",
      " f1-score: 0.6211822834525782 \n",
      "precision-recall auc: 0.894499374212948 \n",
      "\n",
      "0.5104513088862102\n"
     ]
    }
   ],
   "source": [
    "# Tune hyperparameters for all scalers \n",
    "# Implementing NearMiss\n",
    "# No outliers removed\n",
    "# PCA\n",
    "\n",
    "t1 = time.time()\n",
    "\n",
    "\n",
    "# Get correct scaler_str's and n_components (for PCA)\n",
    "o1_n_components = []\n",
    "for key, n in olr_keys_n_components:\n",
    "    if 'r1_o1' in key:\n",
    "        o1_n_components.append(n)\n",
    "        \n",
    "\n",
    "# Record results\n",
    "results_o1_p = {}\n",
    "scaler_str = [\"Min-Max\", \"Standard\", \"Robust\"]\n",
    "for n, scaler, k in zip([0,1,2],[MinMaxScaler(), StandardScaler(), RobustScaler()], o1_n_components):\n",
    "    print(scaler_str[n], '~~~~~~~~~~~~~~~~~~~~~~~~~~~~~~~~~~~~~~~~~~~~~~~~~~~~~~~~~~~~~~~~~~~~~~~~~~~')\n",
    "    results_o1_p[scaler_str[n]] = customGridSearchCV(clf, params, X_train, y_train, 'f1', scaler, SMOTE(), pca=PCA(k))\n",
    "t2 = time.time()\n",
    "\n",
    "print((t2 - t1)/60)"
   ]
  },
  {
   "cell_type": "markdown",
   "metadata": {},
   "source": [
    "Warning: this cell took 8 minutes to run!"
   ]
  },
  {
   "cell_type": "code",
   "execution_count": 9,
   "metadata": {},
   "outputs": [
    {
     "name": "stdout",
     "output_type": "stream",
     "text": [
      "Min-Max ~~~~~~~~~~~~~~~~~~~~~~~~~~~~~~~~~~~~~~~~~~~~~~~~~~~~~~~~~~~~~~~~~~~~~~~~~~~\n",
      "{'C': 0.1} \n",
      " recall: 0.8661977834612106 \n",
      " precision: 0.755916286321781 \n",
      " f1-score: 0.8014540022647492 \n",
      "precision-recall auc: 0.8854147970335957 \n",
      "\n",
      "Standard ~~~~~~~~~~~~~~~~~~~~~~~~~~~~~~~~~~~~~~~~~~~~~~~~~~~~~~~~~~~~~~~~~~~~~~~~~~~\n",
      "{'C': 100} \n",
      " recall: 0.9592924126172209 \n",
      " precision: 0.09652868860678843 \n",
      " f1-score: 0.1749172702077109 \n",
      "precision-recall auc: 0.81527158835317 \n",
      "\n",
      "Robust ~~~~~~~~~~~~~~~~~~~~~~~~~~~~~~~~~~~~~~~~~~~~~~~~~~~~~~~~~~~~~~~~~~~~~~~~~~~\n",
      "{'C': 10} \n",
      " recall: 0.9214833759590795 \n",
      " precision: 0.12896702430916038 \n",
      " f1-score: 0.22263043284245537 \n",
      "precision-recall auc: 0.7660093094197452 \n",
      "\n",
      "0.4518993457158407\n"
     ]
    }
   ],
   "source": [
    "# Tune hyperparameters for all scalers \n",
    "# Implementing SMOTE\n",
    "# Outliers removed\n",
    "# PCA\n",
    "\n",
    "t1 = time.time()\n",
    "\n",
    "\n",
    "# Get correct scaler_str's and n_components (for PCA)\n",
    "o3_n_components = []\n",
    "for key, n in olr_keys_n_components:\n",
    "    if 'r1_o3' in key:\n",
    "        o3_n_components.append(n)\n",
    "        \n",
    "\n",
    "# Record results\n",
    "results_o3_p = {}\n",
    "for n, scaler, k in zip([0,1,2],[MinMaxScaler(), StandardScaler(), RobustScaler()], o3_n_components):\n",
    "    print(scaler_str[n], '~~~~~~~~~~~~~~~~~~~~~~~~~~~~~~~~~~~~~~~~~~~~~~~~~~~~~~~~~~~~~~~~~~~~~~~~~~~')\n",
    "    results_o3_p[scaler_str[n]] = customGridSearchCV(clf, params, X_train, y_train, \"f1\", scaler, SMOTE(), \n",
    "                                                     outlier_removal=True, pca=PCA(k))\n",
    "    \n",
    "t2 = time.time()\n",
    "\n",
    "print((t2 - t1)/60)"
   ]
  },
  {
   "cell_type": "markdown",
   "metadata": {},
   "source": [
    "# Model selection"
   ]
  },
  {
   "cell_type": "markdown",
   "metadata": {},
   "source": [
    "Now I will look through each models scores manually and conclude which one is the best performing model."
   ]
  },
  {
   "cell_type": "markdown",
   "metadata": {},
   "source": [
    "My choice a model using the data scaled with MinMaxScaler, without the outliers removed and without PCA because it had a high cross validated recall of ~%88 and precision of ~%79\n",
    "The models parameters are as follows: <br> <br>\n",
    "{'C': 0.1}  "
   ]
  },
  {
   "cell_type": "code",
   "execution_count": 10,
   "metadata": {},
   "outputs": [],
   "source": [
    "model = LogisticRegression(C=0.1)"
   ]
  },
  {
   "cell_type": "code",
   "execution_count": 26,
   "metadata": {},
   "outputs": [],
   "source": [
    "def engineer(X_train, X_test, y_train, y_test):\n",
    "    # scaling\n",
    "    rs = MinMaxScaler()\n",
    "    X_train = rs.fit_transform(X_train)\n",
    "    X_test = rs.transform(X_test)\n",
    "    \n",
    "    # resampling\n",
    "    sm = SMOTE()\n",
    "    X_train, y_train = sm.fit_resample(X_train, y_train)\n",
    "    \n",
    "    return X_train, X_test, y_train, y_test"
   ]
  },
  {
   "cell_type": "markdown",
   "metadata": {},
   "source": [
    "# Choosing the right threshold"
   ]
  },
  {
   "cell_type": "code",
   "execution_count": 27,
   "metadata": {},
   "outputs": [],
   "source": [
    "X_train_, X_val_, y_train_, y_val_ = engineer(X_train, X_val, y_train, y_val)"
   ]
  },
  {
   "cell_type": "code",
   "execution_count": 28,
   "metadata": {
    "scrolled": false
   },
   "outputs": [
    {
     "data": {
      "image/png": "[encoded data removed]",
      "text/plain": [
       "<Figure size 1008x288 with 1 Axes>"
      ]
     },
     "metadata": {
      "needs_background": "light"
     },
     "output_type": "display_data"
    }
   ],
   "source": [
    "model.fit(X_train_, y_train_)\n",
    "probs = model.predict_proba(X_val_)[:,1]\n",
    "\n",
    "thresholds = np.array(range(1, 100))/100\n",
    "precisions = []\n",
    "recalls = []\n",
    "\n",
    "for threshold in thresholds:\n",
    "    result = [0 if prob < threshold else 1 for prob in probs]\n",
    "    precisions.append(precision_score(y_val, result))\n",
    "    recalls.append(recall_score(y_val, result))\n",
    "\n",
    "plt.figure(figsize=(14, 4))\n",
    "plt.plot(thresholds, precisions, label=\"precision\")\n",
    "plt.plot(thresholds, recalls, label=\"recall\")\n",
    "plt.title(\"Precision and recall at different thresholds\")\n",
    "plt.xlabel(\"threshold\")\n",
    "plt.ylabel(\"score\")\n",
    "plt.legend()\n",
    "plt.show()\n",
    "\n",
    "    "
   ]
  },
  {
   "cell_type": "markdown",
   "metadata": {},
   "source": [
    "It seems the best threshold is about 0.83"
   ]
  },
  {
   "cell_type": "code",
   "execution_count": 29,
   "metadata": {},
   "outputs": [],
   "source": [
    "threshold = 0.83"
   ]
  },
  {
   "cell_type": "markdown",
   "metadata": {},
   "source": [
    "## Goodness of fit: How much data to train on"
   ]
  },
  {
   "cell_type": "code",
   "execution_count": 30,
   "metadata": {
    "scrolled": false
   },
   "outputs": [
    {
     "data": {
      "image/png": "[encoded data removed]",
      "text/plain": [
       "<Figure size 1008x288 with 1 Axes>"
      ]
     },
     "metadata": {
      "needs_background": "light"
     },
     "output_type": "display_data"
    }
   ],
   "source": [
    "size_plot(model, X_train, X_val, y_train, y_val, MinMaxScaler(), threshold=threshold)"
   ]
  },
  {
   "cell_type": "markdown",
   "metadata": {},
   "source": [
    "In this scenario I think all the data should be used."
   ]
  },
  {
   "cell_type": "markdown",
   "metadata": {},
   "source": [
    "## Holdout Validation\n",
    "Now I will run the model on the test data which has yet to be seen by the model."
   ]
  },
  {
   "cell_type": "code",
   "execution_count": 35,
   "metadata": {
    "scrolled": true
   },
   "outputs": [
    {
     "name": "stdout",
     "output_type": "stream",
     "text": [
      "              precision    recall  f1-score   support\n",
      "\n",
      "           0       1.00      1.00      1.00     42648\n",
      "           1       0.69      0.77      0.73        74\n",
      "\n",
      "    accuracy                           1.00     42722\n",
      "   macro avg       0.84      0.88      0.86     42722\n",
      "weighted avg       1.00      1.00      1.00     42722\n",
      "\n"
     ]
    }
   ],
   "source": [
    "# run data on test set\n",
    "\n",
    "# engineer data\n",
    "X_train_, X_test_, y_train_, y_test_ = engineer(X_train, X_test, y_train, y_test)\n",
    "\n",
    "# fit model to entire train set\n",
    "model.fit(X_train_, y_train_)\n",
    "\n",
    "# run model on test set\n",
    "probs = model.predict_proba(X_test_)[:,1]\n",
    "\n",
    "y_hat = [0 if prob < threshold else 1 for prob in probs]\n",
    "\n",
    "# get results\n",
    "print(classification_report(y_test, y_hat))"
   ]
  },
  {
   "cell_type": "markdown",
   "metadata": {},
   "source": [
    "The testing scores are %77 recall and %65 precision"
   ]
  },
  {
   "cell_type": "markdown",
   "metadata": {},
   "source": [
    "# Precision Recall Curve\n",
    "Now I will display the precision recall curve which shows all the posible precision and recall values possible if the model had different thresholds."
   ]
  },
  {
   "cell_type": "code",
   "execution_count": 32,
   "metadata": {},
   "outputs": [
    {
     "name": "stdout",
     "output_type": "stream",
     "text": [
      "AUC: 0.7175747644527368\n"
     ]
    },
    {
     "data": {
      "image/png": "[encoded data removed]",
      "text/plain": [
       "<Figure size 864x288 with 1 Axes>"
      ]
     },
     "metadata": {
      "needs_background": "light"
     },
     "output_type": "display_data"
    }
   ],
   "source": [
    "# Plot precision recall curve and the area under that curve.\n",
    "\n",
    "# get precision, recall, and threshold values\n",
    "p, r, th = precision_recall_curve(y_test_, probs)\n",
    "\n",
    "# find and print AUC\n",
    "print(\"AUC: {}\".format(auc(r, p)))\n",
    "\n",
    "# plot curve\n",
    "plt.figure(figsize=(12, 4))\n",
    "plt.plot(r, p)\n",
    "plt.xlabel(\"recall\")\n",
    "plt.ylabel(\"precision\")\n",
    "plt.title(\"Precision Recall Curve\")\n",
    "plt.show()"
   ]
  },
  {
   "cell_type": "markdown",
   "metadata": {},
   "source": [
    "## Cross Validation"
   ]
  },
  {
   "cell_type": "markdown",
   "metadata": {},
   "source": [
    "I will check the scores at each split of the model to make sure it is not over fitting to a specific split."
   ]
  },
  {
   "cell_type": "code",
   "execution_count": 22,
   "metadata": {
    "scrolled": true
   },
   "outputs": [
    {
     "name": "stdout",
     "output_type": "stream",
     "text": [
      "split 1\n",
      "recall: 0.7879\n",
      "precision: 0.3562\n",
      "f1: 0.4906\n",
      "precision-recall auc: 0.7639\n",
      "split 2\n",
      "recall: 0.9091\n",
      "precision: 0.2961\n",
      "f1: 0.4467\n",
      "precision-recall auc: 0.8104\n",
      "split 3\n",
      "recall: 0.9184\n",
      "precision: 0.3285\n",
      "f1: 0.4839\n",
      "precision-recall auc: 0.8483\n",
      "split 4\n",
      "recall: 0.8878\n",
      "precision: 0.3283\n",
      "f1: 0.4793\n",
      "precision-recall auc: 0.8477\n",
      "split 5\n",
      "recall: 0.8571\n",
      "precision: 0.3853\n",
      "f1: 0.5316\n",
      "precision-recall auc: 0.8217\n",
      "Mean Scores:\n",
      "Mean recall: 0.872\n",
      "Mean precision: 0.3389\n",
      "Mean f1: 0.4864\n",
      "Mean auc: 0.8184 \n",
      "\n"
     ]
    },
    {
     "data": {
      "text/plain": [
       "[0.8720470006184291,\n",
       " 0.3388614312270294,\n",
       " 0.48641430842854466,\n",
       " 0.8183981365747759]"
      ]
     },
     "execution_count": 22,
     "metadata": {},
     "output_type": "execute_result"
    }
   ],
   "source": [
    "# print cross validation scores\n",
    "customCV(model, X, y, StandardScaler(), SMOTE(), outlier_removal=False,\n",
    "         pca=None, print_splits=True, threshold=threshold)"
   ]
  },
  {
   "cell_type": "markdown",
   "metadata": {},
   "source": [
    "It appears to not be overfitting to a particular split. <br>\n",
    "The Cross validated scores are %87 recall and %34 precision"
   ]
  },
  {
   "cell_type": "markdown",
   "metadata": {},
   "source": [
    "## Save Data"
   ]
  },
  {
   "cell_type": "markdown",
   "metadata": {},
   "source": [
    "Now I will save the data along with a string to represent the transformations done to the data"
   ]
  },
  {
   "cell_type": "code",
   "execution_count": 23,
   "metadata": {},
   "outputs": [],
   "source": [
    "pickle_out = open(\"Models/LogReg.pickle\", \"wb\")\n",
    "pickle.dump([model, 's1_r1_o1, pca None'], pickle_out)\n",
    "pickle_out.close()"
   ]
  }
 ],
 "metadata": {
  "kernelspec": {
   "display_name": "Python 3",
   "language": "python",
   "name": "python3"
  },
  "language_info": {
   "codemirror_mode": {
    "name": "ipython",
    "version": 3
   },
   "file_extension": ".py",
   "mimetype": "text/x-python",
   "name": "python",
   "nbconvert_exporter": "python",
   "pygments_lexer": "ipython3",
   "version": "3.7.6"
  }
 },
 "nbformat": 4,
 "nbformat_minor": 2
}
