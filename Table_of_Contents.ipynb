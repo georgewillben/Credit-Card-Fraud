{
 "cells": [
  {
   "cell_type": "markdown",
   "metadata": {},
   "source": [
    "# Table of Contents\n",
    "This page contains everything needed to navigate this repo!"
   ]
  },
  {
   "cell_type": "markdown",
   "metadata": {},
   "source": [
    "## Introduction\n",
    "In this project I take a look at credit card information and create a model to predict fraud. The dataset can be found <a href=https://www.kaggle.com/mlg-ulb/creditcardfraud>here</a> on kaggle.com"
   ]
  },
  {
   "cell_type": "markdown",
   "metadata": {},
   "source": [
    "## How to navigate this project\n",
    "Here I will show you how to navigate this project and follow me through my project workflow<br><br>\n",
    "<img src='Images/Data_Science_Process.png' height=500 width=500>\n",
    "<br><br>\n",
    "\n",
    "#### In this directory\n",
    "1) README.md is a file giving an overview of this project.<br>\n",
    "2) creditcard.csv is the original dataset and can be found in this directory. <br>\n",
    "3) Data_Cleaning.ipynb is a notebook where I go through cleaning the data.<br>\n",
    "4) Cleaned_data.csv is the product of my data cleaning.<br>\n",
    "5) Exploritory_Data_Analysis.ipynb is a notebook where I go through exploritory data analysis.<br>\n",
    "6) Feature_Engineering.ipynb is a notebook where I do Feature Engineering. <br>\n",
    "7) Modeling is a folder containing notebooks going over machine learning models as well as data from the feature engineering stage and functions that I made. <br>\n",
    "8) Executive_Summary.pdf is a pdf of a google slides presentation summarizing this project.<br>\n",
    "9) Images is a folder containing images I used throughout this project. <br>\n",
    "\n",
    "#### In Modeling\n",
    "The folowing notebooks are from the modeling stage of my project. The names of the files show what machine learning algorithm was used<br>\n",
    "1) Logistic_Regression.ipynb <br>\n",
    "2) Support_Vector_Machine.ipynb<br>\n",
    "3) K_Nearest_Neighbors.ipynb<br>\n",
    "4) Decision_Tree.ipynb<br>\n",
    "5) Random_Forest.ipynb<br>"
   ]
  },
  {
   "cell_type": "markdown",
   "metadata": {},
   "source": [
    "## Tools used\n",
    "#### From sklearn\n",
    "MinMaxScaler<br>\n",
    "StandardScaler<br>\n",
    "RobustScaler<br>\n",
    "LogisticRegression <br>\n",
    "SVC <br>\n",
    "KNeighborsClassifier<br>\n",
    "DecisionTreeClassifier<br>\n",
    "RandomForestClassifier<br>\n",
    "PCA<br>\n",
    "classification_report<br>\n",
    "#### From imblearn\n",
    "SMOTE<br>\n",
    "NearMiss<br>\n",
    "#### Others\n",
    "numpy<br>\n",
    "pandas<br>\n",
    "time<br>\n",
    "pickle<br>\n",
    "matplotlib<br>\n",
    "seaborn<br>\n",
    "scipy.stats<br>\n"
   ]
  }
 ],
 "metadata": {
  "kernelspec": {
   "display_name": "Python 3",
   "language": "python",
   "name": "python3"
  },
  "language_info": {
   "codemirror_mode": {
    "name": "ipython",
    "version": 3
   },
   "file_extension": ".py",
   "mimetype": "text/x-python",
   "name": "python",
   "nbconvert_exporter": "python",
   "pygments_lexer": "ipython3",
   "version": "3.7.3"
  }
 },
 "nbformat": 4,
 "nbformat_minor": 2
}
